{
 "metadata": {
  "language_info": {
   "codemirror_mode": {
    "name": "ipython",
    "version": 3
   },
   "file_extension": ".py",
   "mimetype": "text/x-python",
   "name": "python",
   "nbconvert_exporter": "python",
   "pygments_lexer": "ipython3",
   "version": "3.9.2-final"
  },
  "orig_nbformat": 2,
  "kernelspec": {
   "name": "python392jvsc74a57bd038f79fadc0c6717ea4a008b057f37067dd9b409fcdcbbd28252f8fecfca32678",
   "display_name": "Python 3.9.2 64-bit"
  },
  "metadata": {
   "interpreter": {
    "hash": "38f79fadc0c6717ea4a008b057f37067dd9b409fcdcbbd28252f8fecfca32678"
   }
  }
 },
 "nbformat": 4,
 "nbformat_minor": 2,
 "cells": [
  {
   "source": [
    "Este proyecto se realiza en equipos.\n",
    "\n",
    "Objetivo general del proyecto\n",
    "Aplicar diversas variantes del algoritmo de regresión en la solución de un problema de aprendizaje automático.\n",
    "\n",
    "Problema a solucionar\n",
    "Estimar la puntuación de calidad de un vino.\n",
    "\n",
    "Base de datos (véase archivo anexo)\n",
    "https://archive.ics.uci.edu/ml/datasets/wine+quality\n",
    "\n",
    "Actividades a desarrollar\n",
    "En clase se estudió el algoritmo \"Batch Gradient Descent\". Investigar acerca de las siguientes variantes del algoritmo: (a) Stochastic Gradient Descent y (b) Mini-batch Gradient Descent. ¿Cuáles son las diferencias y las ventajas/desventajas entre estas variantes? ¿cuáles son las condiciones bajo las cuales se prefieren aplicar estas variantes?\n",
    "Investigar acerca de los procesos de normalización y estandarización de los parámetros de entrada (features).\n",
    "Implementar en Python algoritmos \"Multivariate Linear Regression\" para la solución del problema, en sus variantes: (a) Ecuación Normal, (b) Batch Gradient Descent, (c) Stochastic Gradient Descent y (d) Mini-batch Gradient Descent; comparar las soluciones obtenidas.\n",
    "Investigar acerca del algoritmo \"Polynomial Regression\". ¿Cuándo se aplica?, ¿qué problemas puede presentar una solución basada en este algoritmo?\n",
    "Implementar en Python el algoritmo de \"Polynomial Regression\" para la solución de: (a) un conjunto (nube) de datos generados artificialmente (véase ejemplo de clase), y (b) el problema de la calidad del vino. Para el inciso (b) se recomienda revisar el tema \"Turning a linear regression model into a curve – polynomial regression\", del libro \"Python Machine Learning\".\n",
    "Conclusiones generales a nivel de equipo; comentarios individuales (véase rúbrica).\n",
    "Elaborar el \"Reporte 1\" especificado en la presentación del primer día de clases. Debe documentarse la información de los incisos 1-6.\n",
    "Elaborar una video-entrega (todos los integrantes del equipo deberán participar). Como parte de la evaluación se consideran el dominio, la comprensión y la profundidad plasmadas en las explicaciones. Debe presentarse la información de los incisos 1-6.\n",
    "\n",
    "Revisar en la presentación del primer día de clases\n",
    "Los requisitos para la \"Entrega en plataforma digital\".\n",
    "Los criterios de evaluación de (a) la \"Entrega virtual\" y (b) el \"Reporte digital\".\n"
   ],
   "cell_type": "markdown",
   "metadata": {}
  },
  {
   "cell_type": "code",
   "execution_count": 1,
   "metadata": {},
   "outputs": [],
   "source": [
    "import numpy as np\n",
    "import matplotlib.pyplot as plt\n",
    "import pandas as pd\n",
    "\n"
   ]
  },
  {
   "source": [
    "# Data loading"
   ],
   "cell_type": "markdown",
   "metadata": {}
  },
  {
   "cell_type": "code",
   "execution_count": 2,
   "metadata": {},
   "outputs": [
    {
     "output_type": "execute_result",
     "data": {
      "text/plain": [
       "      fixed acidity  volatile acidity  citric acid  residual sugar  chlorides  \\\n",
       "0               7.4             0.700         0.00             1.9      0.076   \n",
       "1               7.8             0.880         0.00             2.6      0.098   \n",
       "2               7.8             0.760         0.04             2.3      0.092   \n",
       "3              11.2             0.280         0.56             1.9      0.075   \n",
       "4               7.4             0.700         0.00             1.9      0.076   \n",
       "...             ...               ...          ...             ...        ...   \n",
       "1594            6.2             0.600         0.08             2.0      0.090   \n",
       "1595            5.9             0.550         0.10             2.2      0.062   \n",
       "1596            6.3             0.510         0.13             2.3      0.076   \n",
       "1597            5.9             0.645         0.12             2.0      0.075   \n",
       "1598            6.0             0.310         0.47             3.6      0.067   \n",
       "\n",
       "      free sulfur dioxide  total sulfur dioxide  density    pH  sulphates  \\\n",
       "0                      11                    34  0.99780  3.51       0.56   \n",
       "1                      25                    67  0.99680  3.20       0.68   \n",
       "2                      15                    54  0.99700  3.26       0.65   \n",
       "3                      17                    60  0.99800  3.16       0.58   \n",
       "4                      11                    34  0.99780  3.51       0.56   \n",
       "...                   ...                   ...      ...   ...        ...   \n",
       "1594                   32                    44  0.99490  3.45       0.58   \n",
       "1595                   39                    51  0.99512  3.52       0.76   \n",
       "1596                   29                    40  0.99574  3.42       0.75   \n",
       "1597                   32                    44  0.99547  3.57       0.71   \n",
       "1598                   18                    42  0.99549  3.39       0.66   \n",
       "\n",
       "      alcohol  quality  \n",
       "0         9.4        5  \n",
       "1         9.8        5  \n",
       "2         9.8        5  \n",
       "3         9.8        6  \n",
       "4         9.4        5  \n",
       "...       ...      ...  \n",
       "1594     10.5        5  \n",
       "1595     11.2        6  \n",
       "1596     11.0        6  \n",
       "1597     10.2        5  \n",
       "1598     11.0        6  \n",
       "\n",
       "[1599 rows x 12 columns]"
      ],
      "text/html": "<div>\n<style scoped>\n    .dataframe tbody tr th:only-of-type {\n        vertical-align: middle;\n    }\n\n    .dataframe tbody tr th {\n        vertical-align: top;\n    }\n\n    .dataframe thead th {\n        text-align: right;\n    }\n</style>\n<table border=\"1\" class=\"dataframe\">\n  <thead>\n    <tr style=\"text-align: right;\">\n      <th></th>\n      <th>fixed acidity</th>\n      <th>volatile acidity</th>\n      <th>citric acid</th>\n      <th>residual sugar</th>\n      <th>chlorides</th>\n      <th>free sulfur dioxide</th>\n      <th>total sulfur dioxide</th>\n      <th>density</th>\n      <th>pH</th>\n      <th>sulphates</th>\n      <th>alcohol</th>\n      <th>quality</th>\n    </tr>\n  </thead>\n  <tbody>\n    <tr>\n      <th>0</th>\n      <td>7.4</td>\n      <td>0.700</td>\n      <td>0.00</td>\n      <td>1.9</td>\n      <td>0.076</td>\n      <td>11</td>\n      <td>34</td>\n      <td>0.99780</td>\n      <td>3.51</td>\n      <td>0.56</td>\n      <td>9.4</td>\n      <td>5</td>\n    </tr>\n    <tr>\n      <th>1</th>\n      <td>7.8</td>\n      <td>0.880</td>\n      <td>0.00</td>\n      <td>2.6</td>\n      <td>0.098</td>\n      <td>25</td>\n      <td>67</td>\n      <td>0.99680</td>\n      <td>3.20</td>\n      <td>0.68</td>\n      <td>9.8</td>\n      <td>5</td>\n    </tr>\n    <tr>\n      <th>2</th>\n      <td>7.8</td>\n      <td>0.760</td>\n      <td>0.04</td>\n      <td>2.3</td>\n      <td>0.092</td>\n      <td>15</td>\n      <td>54</td>\n      <td>0.99700</td>\n      <td>3.26</td>\n      <td>0.65</td>\n      <td>9.8</td>\n      <td>5</td>\n    </tr>\n    <tr>\n      <th>3</th>\n      <td>11.2</td>\n      <td>0.280</td>\n      <td>0.56</td>\n      <td>1.9</td>\n      <td>0.075</td>\n      <td>17</td>\n      <td>60</td>\n      <td>0.99800</td>\n      <td>3.16</td>\n      <td>0.58</td>\n      <td>9.8</td>\n      <td>6</td>\n    </tr>\n    <tr>\n      <th>4</th>\n      <td>7.4</td>\n      <td>0.700</td>\n      <td>0.00</td>\n      <td>1.9</td>\n      <td>0.076</td>\n      <td>11</td>\n      <td>34</td>\n      <td>0.99780</td>\n      <td>3.51</td>\n      <td>0.56</td>\n      <td>9.4</td>\n      <td>5</td>\n    </tr>\n    <tr>\n      <th>...</th>\n      <td>...</td>\n      <td>...</td>\n      <td>...</td>\n      <td>...</td>\n      <td>...</td>\n      <td>...</td>\n      <td>...</td>\n      <td>...</td>\n      <td>...</td>\n      <td>...</td>\n      <td>...</td>\n      <td>...</td>\n    </tr>\n    <tr>\n      <th>1594</th>\n      <td>6.2</td>\n      <td>0.600</td>\n      <td>0.08</td>\n      <td>2.0</td>\n      <td>0.090</td>\n      <td>32</td>\n      <td>44</td>\n      <td>0.99490</td>\n      <td>3.45</td>\n      <td>0.58</td>\n      <td>10.5</td>\n      <td>5</td>\n    </tr>\n    <tr>\n      <th>1595</th>\n      <td>5.9</td>\n      <td>0.550</td>\n      <td>0.10</td>\n      <td>2.2</td>\n      <td>0.062</td>\n      <td>39</td>\n      <td>51</td>\n      <td>0.99512</td>\n      <td>3.52</td>\n      <td>0.76</td>\n      <td>11.2</td>\n      <td>6</td>\n    </tr>\n    <tr>\n      <th>1596</th>\n      <td>6.3</td>\n      <td>0.510</td>\n      <td>0.13</td>\n      <td>2.3</td>\n      <td>0.076</td>\n      <td>29</td>\n      <td>40</td>\n      <td>0.99574</td>\n      <td>3.42</td>\n      <td>0.75</td>\n      <td>11.0</td>\n      <td>6</td>\n    </tr>\n    <tr>\n      <th>1597</th>\n      <td>5.9</td>\n      <td>0.645</td>\n      <td>0.12</td>\n      <td>2.0</td>\n      <td>0.075</td>\n      <td>32</td>\n      <td>44</td>\n      <td>0.99547</td>\n      <td>3.57</td>\n      <td>0.71</td>\n      <td>10.2</td>\n      <td>5</td>\n    </tr>\n    <tr>\n      <th>1598</th>\n      <td>6.0</td>\n      <td>0.310</td>\n      <td>0.47</td>\n      <td>3.6</td>\n      <td>0.067</td>\n      <td>18</td>\n      <td>42</td>\n      <td>0.99549</td>\n      <td>3.39</td>\n      <td>0.66</td>\n      <td>11.0</td>\n      <td>6</td>\n    </tr>\n  </tbody>\n</table>\n<p>1599 rows × 12 columns</p>\n</div>"
     },
     "metadata": {},
     "execution_count": 2
    }
   ],
   "source": [
    "data = pd.read_csv(\"winequality-red.csv\")\n",
    "data"
   ]
  },
  {
   "source": [
    "# Data reestructuring"
   ],
   "cell_type": "markdown",
   "metadata": {}
  },
  {
   "cell_type": "code",
   "execution_count": 3,
   "metadata": {},
   "outputs": [
    {
     "output_type": "execute_result",
     "data": {
      "text/plain": [
       "array([[ 7.4  ,  0.7  ,  0.   , ...,  3.51 ,  0.56 ,  9.4  ],\n",
       "       [ 7.8  ,  0.88 ,  0.   , ...,  3.2  ,  0.68 ,  9.8  ],\n",
       "       [ 7.8  ,  0.76 ,  0.04 , ...,  3.26 ,  0.65 ,  9.8  ],\n",
       "       ...,\n",
       "       [ 6.3  ,  0.51 ,  0.13 , ...,  3.42 ,  0.75 , 11.   ],\n",
       "       [ 5.9  ,  0.645,  0.12 , ...,  3.57 ,  0.71 , 10.2  ],\n",
       "       [ 6.   ,  0.31 ,  0.47 , ...,  3.39 ,  0.66 , 11.   ]])"
      ]
     },
     "metadata": {},
     "execution_count": 3
    }
   ],
   "source": [
    "x = data.loc[:, data.columns != 'quality'].to_numpy()\n",
    "y = data.loc[:, data.columns == 'quality'].to_numpy().tolist()\n",
    "x"
   ]
  },
  {
   "cell_type": "code",
   "execution_count": 4,
   "metadata": {},
   "outputs": [
    {
     "output_type": "execute_result",
     "data": {
      "text/plain": [
       "array([[5],\n",
       "       [5],\n",
       "       [5],\n",
       "       ...,\n",
       "       [6],\n",
       "       [5],\n",
       "       [6]])"
      ]
     },
     "metadata": {},
     "execution_count": 4
    }
   ],
   "source": [
    "y = np.array(y)\n",
    "y"
   ]
  },
  {
   "source": [
    "# Dividing the data "
   ],
   "cell_type": "markdown",
   "metadata": {}
  },
  {
   "cell_type": "code",
   "execution_count": 5,
   "metadata": {},
   "outputs": [
    {
     "output_type": "execute_result",
     "data": {
      "text/plain": [
       "LinearRegression()"
      ]
     },
     "metadata": {},
     "execution_count": 5
    }
   ],
   "source": [
    "from sklearn import linear_model  # Importing linear model\n",
    "\n",
    "lm = linear_model.LinearRegression()   # Linear regression\n",
    "x_train = []\n",
    "y_train = []\n",
    "\n",
    "x_test = []\n",
    "y_test = []\n",
    "\n",
    "for i in range(len(data)):\n",
    "    if i > 1280: \n",
    "        x_test.append(x[i])\n",
    "        y_test.append(y[i])\n",
    "    else:\n",
    "        x_train.append(x[i])\n",
    "        y_train.append(y[i])\n",
    "\n",
    "x_train = np.array(x_train)\n",
    "y_train = np.array(y_train)\n",
    "x_test  = np.array(x_test)\n",
    "y_test  = np.array(y_test)\n",
    "\n",
    "\n",
    "lm.fit(x_train, y_train)   \n"
   ]
  },
  {
   "cell_type": "code",
   "execution_count": 6,
   "metadata": {},
   "outputs": [
    {
     "output_type": "execute_result",
     "data": {
      "text/plain": [
       "1281"
      ]
     },
     "metadata": {},
     "execution_count": 6
    }
   ],
   "source": [
    "ones = np.ones([x_train.shape[0],1])\n",
    "x_train = np.concatenate((ones,x_train),axis=1)\n",
    "\n",
    "x_train.shape[0]"
   ]
  },
  {
   "cell_type": "code",
   "execution_count": 7,
   "metadata": {},
   "outputs": [
    {
     "output_type": "execute_result",
     "data": {
      "text/plain": [
       "array([[ 1.   ,  7.4  ,  0.7  , ...,  3.51 ,  0.56 ,  9.4  ],\n",
       "       [ 1.   ,  7.8  ,  0.88 , ...,  3.2  ,  0.68 ,  9.8  ],\n",
       "       [ 1.   ,  7.8  ,  0.76 , ...,  3.26 ,  0.65 ,  9.8  ],\n",
       "       ...,\n",
       "       [ 1.   ,  8.   ,  0.715, ...,  3.24 ,  0.54 ,  9.5  ],\n",
       "       [ 1.   ,  9.8  ,  0.3  , ...,  3.14 ,  0.57 , 11.5  ],\n",
       "       [ 1.   ,  7.1  ,  0.46 , ...,  3.37 ,  0.64 , 10.4  ]])"
      ]
     },
     "metadata": {},
     "execution_count": 7
    }
   ],
   "source": [
    "x_train"
   ]
  },
  {
   "cell_type": "code",
   "execution_count": 74,
   "metadata": {},
   "outputs": [
    {
     "output_type": "execute_result",
     "data": {
      "text/plain": [
       "array([5, 5, 5, ..., 6, 7, 6])"
      ]
     },
     "metadata": {},
     "execution_count": 74
    }
   ],
   "source": [
    "y_train = y_train.reshape(y_train.shape[0],)\n",
    "\n",
    "y_train"
   ]
  },
  {
   "source": [
    "Following one traditional method in data testing by machine learning we make sure to creata data to train, and data to test, with that we can test our hipothesis with unknown data, so our results are not compromise."
   ],
   "cell_type": "markdown",
   "metadata": {}
  },
  {
   "source": [
    "# Creating our  intercept and coefficient with sk methods"
   ],
   "cell_type": "markdown",
   "metadata": {}
  },
  {
   "cell_type": "code",
   "execution_count": 9,
   "metadata": {},
   "outputs": [
    {
     "output_type": "stream",
     "name": "stdout",
     "text": [
      "[23.89454619] [[ 2.32202243e-02 -1.05524992e+00 -1.82338385e-01  1.05063499e-02\n  -1.75934685e+00  3.33749498e-03 -3.69899220e-03 -1.99827364e+01\n  -3.44406023e-01  8.05064126e-01  2.83349759e-01]]\n"
     ]
    }
   ],
   "source": [
    "print(lm.intercept_, lm.coef_)"
   ]
  },
  {
   "source": [
    "# Batch Gradient descent"
   ],
   "cell_type": "markdown",
   "metadata": {}
  },
  {
   "cell_type": "code",
   "execution_count": 85,
   "metadata": {},
   "outputs": [
    {
     "output_type": "execute_result",
     "data": {
      "text/plain": [
       "array([1., 1., 1., 1., 1., 1., 1., 1., 1., 1., 1., 1.])"
      ]
     },
     "metadata": {},
     "execution_count": 85
    }
   ],
   "source": [
    "number_of_features = x_train.shape[1]\n",
    "\n",
    "theta_batch =  np.ones(shape=(number_of_features)) \n",
    "theta_batch"
   ]
  },
  {
   "cell_type": "code",
   "execution_count": 86,
   "metadata": {},
   "outputs": [
    {
     "output_type": "execute_result",
     "data": {
      "text/plain": [
       "array([ 0.89202943, -0.03204222,  0.91765063,  0.96985042,  0.34545198,\n",
       "        0.98539733,  0.0119049 , -0.01153769,  0.89193255,  0.6430154 ,\n",
       "        0.9311592 ,  0.00547562])"
      ]
     },
     "metadata": {},
     "execution_count": 86
    }
   ],
   "source": [
    "\n",
    "\n",
    "eta = 0.0001\n",
    "n_iter = 5000\n",
    "m = x_train.shape[0]\n",
    "\n",
    "\n",
    "j = np.zeros(n_iter)\n",
    "\n",
    "for i in range(n_iter):\n",
    "    j[i] = (1/(2*m))* (((x_train @ theta_batch)  - y_train)**2).sum()\n",
    "    theta_batch = theta_batch - eta*(1/m * (x_train.T.dot((np.dot(theta_batch, x_train.T))  - y_train)))\n",
    "\n",
    "\n",
    "theta_batch"
   ]
  },
  {
   "cell_type": "code",
   "execution_count": 12,
   "metadata": {},
   "outputs": [
    {
     "output_type": "stream",
     "name": "stdout",
     "text": [
      "[23.89454619] [[ 2.32202243e-02 -1.05524992e+00 -1.82338385e-01  1.05063499e-02\n  -1.75934685e+00  3.33749498e-03 -3.69899220e-03 -1.99827364e+01\n  -3.44406023e-01  8.05064126e-01  2.83349759e-01]]\n"
     ]
    }
   ],
   "source": [
    "print(lm.intercept_, lm.coef_)\n"
   ]
  },
  {
   "cell_type": "code",
   "execution_count": 87,
   "metadata": {},
   "outputs": [
    {
     "output_type": "display_data",
     "data": {
      "text/plain": "<Figure size 432x288 with 1 Axes>",
      "image/svg+xml": "<?xml version=\"1.0\" encoding=\"utf-8\" standalone=\"no\"?>\r\n<!DOCTYPE svg PUBLIC \"-//W3C//DTD SVG 1.1//EN\"\r\n  \"http://www.w3.org/Graphics/SVG/1.1/DTD/svg11.dtd\">\r\n<!-- Created with matplotlib (https://matplotlib.org/) -->\r\n<svg height=\"248.518125pt\" version=\"1.1\" viewBox=\"0 0 381.65 248.518125\" width=\"381.65pt\" xmlns=\"http://www.w3.org/2000/svg\" xmlns:xlink=\"http://www.w3.org/1999/xlink\">\r\n <metadata>\r\n  <rdf:RDF xmlns:cc=\"http://creativecommons.org/ns#\" xmlns:dc=\"http://purl.org/dc/elements/1.1/\" xmlns:rdf=\"http://www.w3.org/1999/02/22-rdf-syntax-ns#\">\r\n   <cc:Work>\r\n    <dc:type rdf:resource=\"http://purl.org/dc/dcmitype/StillImage\"/>\r\n    <dc:date>2021-04-18T17:05:57.798452</dc:date>\r\n    <dc:format>image/svg+xml</dc:format>\r\n    <dc:creator>\r\n     <cc:Agent>\r\n      <dc:title>Matplotlib v3.3.4, https://matplotlib.org/</dc:title>\r\n     </cc:Agent>\r\n    </dc:creator>\r\n   </cc:Work>\r\n  </rdf:RDF>\r\n </metadata>\r\n <defs>\r\n  <style type=\"text/css\">*{stroke-linecap:butt;stroke-linejoin:round;}</style>\r\n </defs>\r\n <g id=\"figure_1\">\r\n  <g id=\"patch_1\">\r\n   <path d=\"M -0 248.518125 \r\nL 381.65 248.518125 \r\nL 381.65 0 \r\nL -0 0 \r\nz\r\n\" style=\"fill:none;\"/>\r\n  </g>\r\n  <g id=\"axes_1\">\r\n   <g id=\"patch_2\">\r\n    <path d=\"M 39.65 224.64 \r\nL 374.45 224.64 \r\nL 374.45 7.2 \r\nL 39.65 7.2 \r\nz\r\n\" style=\"fill:#ffffff;\"/>\r\n   </g>\r\n   <g id=\"matplotlib.axis_1\">\r\n    <g id=\"xtick_1\">\r\n     <g id=\"line2d_1\">\r\n      <path clip-path=\"url(#pdc19fc389a)\" d=\"M 54.868182 224.64 \r\nL 54.868182 7.2 \r\n\" style=\"fill:none;stroke:#b0b0b0;stroke-linecap:square;stroke-width:0.8;\"/>\r\n     </g>\r\n     <g id=\"line2d_2\">\r\n      <defs>\r\n       <path d=\"M 0 0 \r\nL 0 3.5 \r\n\" id=\"maea3d13cc1\" style=\"stroke:#000000;stroke-width:0.8;\"/>\r\n      </defs>\r\n      <g>\r\n       <use style=\"stroke:#000000;stroke-width:0.8;\" x=\"54.868182\" xlink:href=\"#maea3d13cc1\" y=\"224.64\"/>\r\n      </g>\r\n     </g>\r\n     <g id=\"text_1\">\r\n      <!-- 0 -->\r\n      <g transform=\"translate(51.686932 239.238437)scale(0.1 -0.1)\">\r\n       <defs>\r\n        <path d=\"M 31.78125 66.40625 \r\nQ 24.171875 66.40625 20.328125 58.90625 \r\nQ 16.5 51.421875 16.5 36.375 \r\nQ 16.5 21.390625 20.328125 13.890625 \r\nQ 24.171875 6.390625 31.78125 6.390625 \r\nQ 39.453125 6.390625 43.28125 13.890625 \r\nQ 47.125 21.390625 47.125 36.375 \r\nQ 47.125 51.421875 43.28125 58.90625 \r\nQ 39.453125 66.40625 31.78125 66.40625 \r\nz\r\nM 31.78125 74.21875 \r\nQ 44.046875 74.21875 50.515625 64.515625 \r\nQ 56.984375 54.828125 56.984375 36.375 \r\nQ 56.984375 17.96875 50.515625 8.265625 \r\nQ 44.046875 -1.421875 31.78125 -1.421875 \r\nQ 19.53125 -1.421875 13.0625 8.265625 \r\nQ 6.59375 17.96875 6.59375 36.375 \r\nQ 6.59375 54.828125 13.0625 64.515625 \r\nQ 19.53125 74.21875 31.78125 74.21875 \r\nz\r\n\" id=\"DejaVuSans-48\"/>\r\n       </defs>\r\n       <use xlink:href=\"#DejaVuSans-48\"/>\r\n      </g>\r\n     </g>\r\n    </g>\r\n    <g id=\"xtick_2\">\r\n     <g id=\"line2d_3\">\r\n      <path clip-path=\"url(#pdc19fc389a)\" d=\"M 115.753086 224.64 \r\nL 115.753086 7.2 \r\n\" style=\"fill:none;stroke:#b0b0b0;stroke-linecap:square;stroke-width:0.8;\"/>\r\n     </g>\r\n     <g id=\"line2d_4\">\r\n      <g>\r\n       <use style=\"stroke:#000000;stroke-width:0.8;\" x=\"115.753086\" xlink:href=\"#maea3d13cc1\" y=\"224.64\"/>\r\n      </g>\r\n     </g>\r\n     <g id=\"text_2\">\r\n      <!-- 1000 -->\r\n      <g transform=\"translate(103.028086 239.238437)scale(0.1 -0.1)\">\r\n       <defs>\r\n        <path d=\"M 12.40625 8.296875 \r\nL 28.515625 8.296875 \r\nL 28.515625 63.921875 \r\nL 10.984375 60.40625 \r\nL 10.984375 69.390625 \r\nL 28.421875 72.90625 \r\nL 38.28125 72.90625 \r\nL 38.28125 8.296875 \r\nL 54.390625 8.296875 \r\nL 54.390625 0 \r\nL 12.40625 0 \r\nz\r\n\" id=\"DejaVuSans-49\"/>\r\n       </defs>\r\n       <use xlink:href=\"#DejaVuSans-49\"/>\r\n       <use x=\"63.623047\" xlink:href=\"#DejaVuSans-48\"/>\r\n       <use x=\"127.246094\" xlink:href=\"#DejaVuSans-48\"/>\r\n       <use x=\"190.869141\" xlink:href=\"#DejaVuSans-48\"/>\r\n      </g>\r\n     </g>\r\n    </g>\r\n    <g id=\"xtick_3\">\r\n     <g id=\"line2d_5\">\r\n      <path clip-path=\"url(#pdc19fc389a)\" d=\"M 176.63799 224.64 \r\nL 176.63799 7.2 \r\n\" style=\"fill:none;stroke:#b0b0b0;stroke-linecap:square;stroke-width:0.8;\"/>\r\n     </g>\r\n     <g id=\"line2d_6\">\r\n      <g>\r\n       <use style=\"stroke:#000000;stroke-width:0.8;\" x=\"176.63799\" xlink:href=\"#maea3d13cc1\" y=\"224.64\"/>\r\n      </g>\r\n     </g>\r\n     <g id=\"text_3\">\r\n      <!-- 2000 -->\r\n      <g transform=\"translate(163.91299 239.238437)scale(0.1 -0.1)\">\r\n       <defs>\r\n        <path d=\"M 19.1875 8.296875 \r\nL 53.609375 8.296875 \r\nL 53.609375 0 \r\nL 7.328125 0 \r\nL 7.328125 8.296875 \r\nQ 12.9375 14.109375 22.625 23.890625 \r\nQ 32.328125 33.6875 34.8125 36.53125 \r\nQ 39.546875 41.84375 41.421875 45.53125 \r\nQ 43.3125 49.21875 43.3125 52.78125 \r\nQ 43.3125 58.59375 39.234375 62.25 \r\nQ 35.15625 65.921875 28.609375 65.921875 \r\nQ 23.96875 65.921875 18.8125 64.3125 \r\nQ 13.671875 62.703125 7.8125 59.421875 \r\nL 7.8125 69.390625 \r\nQ 13.765625 71.78125 18.9375 73 \r\nQ 24.125 74.21875 28.421875 74.21875 \r\nQ 39.75 74.21875 46.484375 68.546875 \r\nQ 53.21875 62.890625 53.21875 53.421875 \r\nQ 53.21875 48.921875 51.53125 44.890625 \r\nQ 49.859375 40.875 45.40625 35.40625 \r\nQ 44.1875 33.984375 37.640625 27.21875 \r\nQ 31.109375 20.453125 19.1875 8.296875 \r\nz\r\n\" id=\"DejaVuSans-50\"/>\r\n       </defs>\r\n       <use xlink:href=\"#DejaVuSans-50\"/>\r\n       <use x=\"63.623047\" xlink:href=\"#DejaVuSans-48\"/>\r\n       <use x=\"127.246094\" xlink:href=\"#DejaVuSans-48\"/>\r\n       <use x=\"190.869141\" xlink:href=\"#DejaVuSans-48\"/>\r\n      </g>\r\n     </g>\r\n    </g>\r\n    <g id=\"xtick_4\">\r\n     <g id=\"line2d_7\">\r\n      <path clip-path=\"url(#pdc19fc389a)\" d=\"M 237.522895 224.64 \r\nL 237.522895 7.2 \r\n\" style=\"fill:none;stroke:#b0b0b0;stroke-linecap:square;stroke-width:0.8;\"/>\r\n     </g>\r\n     <g id=\"line2d_8\">\r\n      <g>\r\n       <use style=\"stroke:#000000;stroke-width:0.8;\" x=\"237.522895\" xlink:href=\"#maea3d13cc1\" y=\"224.64\"/>\r\n      </g>\r\n     </g>\r\n     <g id=\"text_4\">\r\n      <!-- 3000 -->\r\n      <g transform=\"translate(224.797895 239.238437)scale(0.1 -0.1)\">\r\n       <defs>\r\n        <path d=\"M 40.578125 39.3125 \r\nQ 47.65625 37.796875 51.625 33 \r\nQ 55.609375 28.21875 55.609375 21.1875 \r\nQ 55.609375 10.40625 48.1875 4.484375 \r\nQ 40.765625 -1.421875 27.09375 -1.421875 \r\nQ 22.515625 -1.421875 17.65625 -0.515625 \r\nQ 12.796875 0.390625 7.625 2.203125 \r\nL 7.625 11.71875 \r\nQ 11.71875 9.328125 16.59375 8.109375 \r\nQ 21.484375 6.890625 26.8125 6.890625 \r\nQ 36.078125 6.890625 40.9375 10.546875 \r\nQ 45.796875 14.203125 45.796875 21.1875 \r\nQ 45.796875 27.640625 41.28125 31.265625 \r\nQ 36.765625 34.90625 28.71875 34.90625 \r\nL 20.21875 34.90625 \r\nL 20.21875 43.015625 \r\nL 29.109375 43.015625 \r\nQ 36.375 43.015625 40.234375 45.921875 \r\nQ 44.09375 48.828125 44.09375 54.296875 \r\nQ 44.09375 59.90625 40.109375 62.90625 \r\nQ 36.140625 65.921875 28.71875 65.921875 \r\nQ 24.65625 65.921875 20.015625 65.03125 \r\nQ 15.375 64.15625 9.8125 62.3125 \r\nL 9.8125 71.09375 \r\nQ 15.4375 72.65625 20.34375 73.4375 \r\nQ 25.25 74.21875 29.59375 74.21875 \r\nQ 40.828125 74.21875 47.359375 69.109375 \r\nQ 53.90625 64.015625 53.90625 55.328125 \r\nQ 53.90625 49.265625 50.4375 45.09375 \r\nQ 46.96875 40.921875 40.578125 39.3125 \r\nz\r\n\" id=\"DejaVuSans-51\"/>\r\n       </defs>\r\n       <use xlink:href=\"#DejaVuSans-51\"/>\r\n       <use x=\"63.623047\" xlink:href=\"#DejaVuSans-48\"/>\r\n       <use x=\"127.246094\" xlink:href=\"#DejaVuSans-48\"/>\r\n       <use x=\"190.869141\" xlink:href=\"#DejaVuSans-48\"/>\r\n      </g>\r\n     </g>\r\n    </g>\r\n    <g id=\"xtick_5\">\r\n     <g id=\"line2d_9\">\r\n      <path clip-path=\"url(#pdc19fc389a)\" d=\"M 298.407799 224.64 \r\nL 298.407799 7.2 \r\n\" style=\"fill:none;stroke:#b0b0b0;stroke-linecap:square;stroke-width:0.8;\"/>\r\n     </g>\r\n     <g id=\"line2d_10\">\r\n      <g>\r\n       <use style=\"stroke:#000000;stroke-width:0.8;\" x=\"298.407799\" xlink:href=\"#maea3d13cc1\" y=\"224.64\"/>\r\n      </g>\r\n     </g>\r\n     <g id=\"text_5\">\r\n      <!-- 4000 -->\r\n      <g transform=\"translate(285.682799 239.238437)scale(0.1 -0.1)\">\r\n       <defs>\r\n        <path d=\"M 37.796875 64.3125 \r\nL 12.890625 25.390625 \r\nL 37.796875 25.390625 \r\nz\r\nM 35.203125 72.90625 \r\nL 47.609375 72.90625 \r\nL 47.609375 25.390625 \r\nL 58.015625 25.390625 \r\nL 58.015625 17.1875 \r\nL 47.609375 17.1875 \r\nL 47.609375 0 \r\nL 37.796875 0 \r\nL 37.796875 17.1875 \r\nL 4.890625 17.1875 \r\nL 4.890625 26.703125 \r\nz\r\n\" id=\"DejaVuSans-52\"/>\r\n       </defs>\r\n       <use xlink:href=\"#DejaVuSans-52\"/>\r\n       <use x=\"63.623047\" xlink:href=\"#DejaVuSans-48\"/>\r\n       <use x=\"127.246094\" xlink:href=\"#DejaVuSans-48\"/>\r\n       <use x=\"190.869141\" xlink:href=\"#DejaVuSans-48\"/>\r\n      </g>\r\n     </g>\r\n    </g>\r\n    <g id=\"xtick_6\">\r\n     <g id=\"line2d_11\">\r\n      <path clip-path=\"url(#pdc19fc389a)\" d=\"M 359.292703 224.64 \r\nL 359.292703 7.2 \r\n\" style=\"fill:none;stroke:#b0b0b0;stroke-linecap:square;stroke-width:0.8;\"/>\r\n     </g>\r\n     <g id=\"line2d_12\">\r\n      <g>\r\n       <use style=\"stroke:#000000;stroke-width:0.8;\" x=\"359.292703\" xlink:href=\"#maea3d13cc1\" y=\"224.64\"/>\r\n      </g>\r\n     </g>\r\n     <g id=\"text_6\">\r\n      <!-- 5000 -->\r\n      <g transform=\"translate(346.567703 239.238437)scale(0.1 -0.1)\">\r\n       <defs>\r\n        <path d=\"M 10.796875 72.90625 \r\nL 49.515625 72.90625 \r\nL 49.515625 64.59375 \r\nL 19.828125 64.59375 \r\nL 19.828125 46.734375 \r\nQ 21.96875 47.46875 24.109375 47.828125 \r\nQ 26.265625 48.1875 28.421875 48.1875 \r\nQ 40.625 48.1875 47.75 41.5 \r\nQ 54.890625 34.8125 54.890625 23.390625 \r\nQ 54.890625 11.625 47.5625 5.09375 \r\nQ 40.234375 -1.421875 26.90625 -1.421875 \r\nQ 22.3125 -1.421875 17.546875 -0.640625 \r\nQ 12.796875 0.140625 7.71875 1.703125 \r\nL 7.71875 11.625 \r\nQ 12.109375 9.234375 16.796875 8.0625 \r\nQ 21.484375 6.890625 26.703125 6.890625 \r\nQ 35.15625 6.890625 40.078125 11.328125 \r\nQ 45.015625 15.765625 45.015625 23.390625 \r\nQ 45.015625 31 40.078125 35.4375 \r\nQ 35.15625 39.890625 26.703125 39.890625 \r\nQ 22.75 39.890625 18.8125 39.015625 \r\nQ 14.890625 38.140625 10.796875 36.28125 \r\nz\r\n\" id=\"DejaVuSans-53\"/>\r\n       </defs>\r\n       <use xlink:href=\"#DejaVuSans-53\"/>\r\n       <use x=\"63.623047\" xlink:href=\"#DejaVuSans-48\"/>\r\n       <use x=\"127.246094\" xlink:href=\"#DejaVuSans-48\"/>\r\n       <use x=\"190.869141\" xlink:href=\"#DejaVuSans-48\"/>\r\n      </g>\r\n     </g>\r\n    </g>\r\n   </g>\r\n   <g id=\"matplotlib.axis_2\">\r\n    <g id=\"ytick_1\">\r\n     <g id=\"line2d_13\">\r\n      <path clip-path=\"url(#pdc19fc389a)\" d=\"M 39.65 214.774565 \r\nL 374.45 214.774565 \r\n\" style=\"fill:none;stroke:#b0b0b0;stroke-linecap:square;stroke-width:0.8;\"/>\r\n     </g>\r\n     <g id=\"line2d_14\">\r\n      <defs>\r\n       <path d=\"M 0 0 \r\nL -3.5 0 \r\n\" id=\"mb939c8ad4b\" style=\"stroke:#000000;stroke-width:0.8;\"/>\r\n      </defs>\r\n      <g>\r\n       <use style=\"stroke:#000000;stroke-width:0.8;\" x=\"39.65\" xlink:href=\"#mb939c8ad4b\" y=\"214.774565\"/>\r\n      </g>\r\n     </g>\r\n     <g id=\"text_7\">\r\n      <!-- 0 -->\r\n      <g transform=\"translate(26.2875 218.573784)scale(0.1 -0.1)\">\r\n       <use xlink:href=\"#DejaVuSans-48\"/>\r\n      </g>\r\n     </g>\r\n    </g>\r\n    <g id=\"ytick_2\">\r\n     <g id=\"line2d_15\">\r\n      <path clip-path=\"url(#pdc19fc389a)\" d=\"M 39.65 170.475629 \r\nL 374.45 170.475629 \r\n\" style=\"fill:none;stroke:#b0b0b0;stroke-linecap:square;stroke-width:0.8;\"/>\r\n     </g>\r\n     <g id=\"line2d_16\">\r\n      <g>\r\n       <use style=\"stroke:#000000;stroke-width:0.8;\" x=\"39.65\" xlink:href=\"#mb939c8ad4b\" y=\"170.475629\"/>\r\n      </g>\r\n     </g>\r\n     <g id=\"text_8\">\r\n      <!-- 1000 -->\r\n      <g transform=\"translate(7.2 174.274848)scale(0.1 -0.1)\">\r\n       <use xlink:href=\"#DejaVuSans-49\"/>\r\n       <use x=\"63.623047\" xlink:href=\"#DejaVuSans-48\"/>\r\n       <use x=\"127.246094\" xlink:href=\"#DejaVuSans-48\"/>\r\n       <use x=\"190.869141\" xlink:href=\"#DejaVuSans-48\"/>\r\n      </g>\r\n     </g>\r\n    </g>\r\n    <g id=\"ytick_3\">\r\n     <g id=\"line2d_17\">\r\n      <path clip-path=\"url(#pdc19fc389a)\" d=\"M 39.65 126.176694 \r\nL 374.45 126.176694 \r\n\" style=\"fill:none;stroke:#b0b0b0;stroke-linecap:square;stroke-width:0.8;\"/>\r\n     </g>\r\n     <g id=\"line2d_18\">\r\n      <g>\r\n       <use style=\"stroke:#000000;stroke-width:0.8;\" x=\"39.65\" xlink:href=\"#mb939c8ad4b\" y=\"126.176694\"/>\r\n      </g>\r\n     </g>\r\n     <g id=\"text_9\">\r\n      <!-- 2000 -->\r\n      <g transform=\"translate(7.2 129.975912)scale(0.1 -0.1)\">\r\n       <use xlink:href=\"#DejaVuSans-50\"/>\r\n       <use x=\"63.623047\" xlink:href=\"#DejaVuSans-48\"/>\r\n       <use x=\"127.246094\" xlink:href=\"#DejaVuSans-48\"/>\r\n       <use x=\"190.869141\" xlink:href=\"#DejaVuSans-48\"/>\r\n      </g>\r\n     </g>\r\n    </g>\r\n    <g id=\"ytick_4\">\r\n     <g id=\"line2d_19\">\r\n      <path clip-path=\"url(#pdc19fc389a)\" d=\"M 39.65 81.877758 \r\nL 374.45 81.877758 \r\n\" style=\"fill:none;stroke:#b0b0b0;stroke-linecap:square;stroke-width:0.8;\"/>\r\n     </g>\r\n     <g id=\"line2d_20\">\r\n      <g>\r\n       <use style=\"stroke:#000000;stroke-width:0.8;\" x=\"39.65\" xlink:href=\"#mb939c8ad4b\" y=\"81.877758\"/>\r\n      </g>\r\n     </g>\r\n     <g id=\"text_10\">\r\n      <!-- 3000 -->\r\n      <g transform=\"translate(7.2 85.676976)scale(0.1 -0.1)\">\r\n       <use xlink:href=\"#DejaVuSans-51\"/>\r\n       <use x=\"63.623047\" xlink:href=\"#DejaVuSans-48\"/>\r\n       <use x=\"127.246094\" xlink:href=\"#DejaVuSans-48\"/>\r\n       <use x=\"190.869141\" xlink:href=\"#DejaVuSans-48\"/>\r\n      </g>\r\n     </g>\r\n    </g>\r\n    <g id=\"ytick_5\">\r\n     <g id=\"line2d_21\">\r\n      <path clip-path=\"url(#pdc19fc389a)\" d=\"M 39.65 37.578822 \r\nL 374.45 37.578822 \r\n\" style=\"fill:none;stroke:#b0b0b0;stroke-linecap:square;stroke-width:0.8;\"/>\r\n     </g>\r\n     <g id=\"line2d_22\">\r\n      <g>\r\n       <use style=\"stroke:#000000;stroke-width:0.8;\" x=\"39.65\" xlink:href=\"#mb939c8ad4b\" y=\"37.578822\"/>\r\n      </g>\r\n     </g>\r\n     <g id=\"text_11\">\r\n      <!-- 4000 -->\r\n      <g transform=\"translate(7.2 41.37804)scale(0.1 -0.1)\">\r\n       <use xlink:href=\"#DejaVuSans-52\"/>\r\n       <use x=\"63.623047\" xlink:href=\"#DejaVuSans-48\"/>\r\n       <use x=\"127.246094\" xlink:href=\"#DejaVuSans-48\"/>\r\n       <use x=\"190.869141\" xlink:href=\"#DejaVuSans-48\"/>\r\n      </g>\r\n     </g>\r\n    </g>\r\n   </g>\r\n   <g id=\"line2d_23\">\r\n    <path clip-path=\"url(#pdc19fc389a)\" d=\"M 54.868182 17.083636 \r\nL 55.050837 199.169889 \r\nL 55.233491 210.377724 \r\nL 55.416146 211.233005 \r\nL 55.84234 211.67931 \r\nL 56.999153 212.551105 \r\nL 58.277736 213.226271 \r\nL 59.738974 213.744332 \r\nL 61.565521 214.147406 \r\nL 64.000917 214.440242 \r\nL 67.593127 214.627162 \r\nL 74.412236 214.720242 \r\nL 102.114868 214.743447 \r\nL 359.231818 214.756364 \r\nL 359.231818 214.756364 \r\n\" style=\"fill:none;stroke:#0000ff;stroke-linecap:square;stroke-width:1.5;\"/>\r\n   </g>\r\n   <g id=\"patch_3\">\r\n    <path d=\"M 39.65 224.64 \r\nL 39.65 7.2 \r\n\" style=\"fill:none;stroke:#000000;stroke-linecap:square;stroke-linejoin:miter;stroke-width:0.8;\"/>\r\n   </g>\r\n   <g id=\"patch_4\">\r\n    <path d=\"M 374.45 224.64 \r\nL 374.45 7.2 \r\n\" style=\"fill:none;stroke:#000000;stroke-linecap:square;stroke-linejoin:miter;stroke-width:0.8;\"/>\r\n   </g>\r\n   <g id=\"patch_5\">\r\n    <path d=\"M 39.65 224.64 \r\nL 374.45 224.64 \r\n\" style=\"fill:none;stroke:#000000;stroke-linecap:square;stroke-linejoin:miter;stroke-width:0.8;\"/>\r\n   </g>\r\n   <g id=\"patch_6\">\r\n    <path d=\"M 39.65 7.2 \r\nL 374.45 7.2 \r\n\" style=\"fill:none;stroke:#000000;stroke-linecap:square;stroke-linejoin:miter;stroke-width:0.8;\"/>\r\n   </g>\r\n  </g>\r\n </g>\r\n <defs>\r\n  <clipPath id=\"pdc19fc389a\">\r\n   <rect height=\"217.44\" width=\"334.8\" x=\"39.65\" y=\"7.2\"/>\r\n  </clipPath>\r\n </defs>\r\n</svg>\r\n",
      "image/png": "[encoded data removed]"
     },
     "metadata": {
      "needs_background": "light"
     }
    }
   ],
   "source": [
    "plt.plot(np.arange(n_iter),j,\"b-\")\n",
    "plt.grid(True)\n",
    "plt.show()"
   ]
  },
  {
   "cell_type": "code",
   "execution_count": 14,
   "metadata": {},
   "outputs": [
    {
     "output_type": "execute_result",
     "data": {
      "text/plain": [
       "      fixed acidity  volatile acidity  citric acid  residual sugar  chlorides  \\\n",
       "0               7.4             0.700         0.00             1.9      0.076   \n",
       "1               7.8             0.880         0.00             2.6      0.098   \n",
       "2               7.8             0.760         0.04             2.3      0.092   \n",
       "3              11.2             0.280         0.56             1.9      0.075   \n",
       "4               7.4             0.700         0.00             1.9      0.076   \n",
       "...             ...               ...          ...             ...        ...   \n",
       "1594            6.2             0.600         0.08             2.0      0.090   \n",
       "1595            5.9             0.550         0.10             2.2      0.062   \n",
       "1596            6.3             0.510         0.13             2.3      0.076   \n",
       "1597            5.9             0.645         0.12             2.0      0.075   \n",
       "1598            6.0             0.310         0.47             3.6      0.067   \n",
       "\n",
       "      free sulfur dioxide  total sulfur dioxide  density    pH  sulphates  \\\n",
       "0                      11                    34  0.99780  3.51       0.56   \n",
       "1                      25                    67  0.99680  3.20       0.68   \n",
       "2                      15                    54  0.99700  3.26       0.65   \n",
       "3                      17                    60  0.99800  3.16       0.58   \n",
       "4                      11                    34  0.99780  3.51       0.56   \n",
       "...                   ...                   ...      ...   ...        ...   \n",
       "1594                   32                    44  0.99490  3.45       0.58   \n",
       "1595                   39                    51  0.99512  3.52       0.76   \n",
       "1596                   29                    40  0.99574  3.42       0.75   \n",
       "1597                   32                    44  0.99547  3.57       0.71   \n",
       "1598                   18                    42  0.99549  3.39       0.66   \n",
       "\n",
       "      alcohol  quality  \n",
       "0         9.4        5  \n",
       "1         9.8        5  \n",
       "2         9.8        5  \n",
       "3         9.8        6  \n",
       "4         9.4        5  \n",
       "...       ...      ...  \n",
       "1594     10.5        5  \n",
       "1595     11.2        6  \n",
       "1596     11.0        6  \n",
       "1597     10.2        5  \n",
       "1598     11.0        6  \n",
       "\n",
       "[1599 rows x 12 columns]"
      ],
      "text/html": "<div>\n<style scoped>\n    .dataframe tbody tr th:only-of-type {\n        vertical-align: middle;\n    }\n\n    .dataframe tbody tr th {\n        vertical-align: top;\n    }\n\n    .dataframe thead th {\n        text-align: right;\n    }\n</style>\n<table border=\"1\" class=\"dataframe\">\n  <thead>\n    <tr style=\"text-align: right;\">\n      <th></th>\n      <th>fixed acidity</th>\n      <th>volatile acidity</th>\n      <th>citric acid</th>\n      <th>residual sugar</th>\n      <th>chlorides</th>\n      <th>free sulfur dioxide</th>\n      <th>total sulfur dioxide</th>\n      <th>density</th>\n      <th>pH</th>\n      <th>sulphates</th>\n      <th>alcohol</th>\n      <th>quality</th>\n    </tr>\n  </thead>\n  <tbody>\n    <tr>\n      <th>0</th>\n      <td>7.4</td>\n      <td>0.700</td>\n      <td>0.00</td>\n      <td>1.9</td>\n      <td>0.076</td>\n      <td>11</td>\n      <td>34</td>\n      <td>0.99780</td>\n      <td>3.51</td>\n      <td>0.56</td>\n      <td>9.4</td>\n      <td>5</td>\n    </tr>\n    <tr>\n      <th>1</th>\n      <td>7.8</td>\n      <td>0.880</td>\n      <td>0.00</td>\n      <td>2.6</td>\n      <td>0.098</td>\n      <td>25</td>\n      <td>67</td>\n      <td>0.99680</td>\n      <td>3.20</td>\n      <td>0.68</td>\n      <td>9.8</td>\n      <td>5</td>\n    </tr>\n    <tr>\n      <th>2</th>\n      <td>7.8</td>\n      <td>0.760</td>\n      <td>0.04</td>\n      <td>2.3</td>\n      <td>0.092</td>\n      <td>15</td>\n      <td>54</td>\n      <td>0.99700</td>\n      <td>3.26</td>\n      <td>0.65</td>\n      <td>9.8</td>\n      <td>5</td>\n    </tr>\n    <tr>\n      <th>3</th>\n      <td>11.2</td>\n      <td>0.280</td>\n      <td>0.56</td>\n      <td>1.9</td>\n      <td>0.075</td>\n      <td>17</td>\n      <td>60</td>\n      <td>0.99800</td>\n      <td>3.16</td>\n      <td>0.58</td>\n      <td>9.8</td>\n      <td>6</td>\n    </tr>\n    <tr>\n      <th>4</th>\n      <td>7.4</td>\n      <td>0.700</td>\n      <td>0.00</td>\n      <td>1.9</td>\n      <td>0.076</td>\n      <td>11</td>\n      <td>34</td>\n      <td>0.99780</td>\n      <td>3.51</td>\n      <td>0.56</td>\n      <td>9.4</td>\n      <td>5</td>\n    </tr>\n    <tr>\n      <th>...</th>\n      <td>...</td>\n      <td>...</td>\n      <td>...</td>\n      <td>...</td>\n      <td>...</td>\n      <td>...</td>\n      <td>...</td>\n      <td>...</td>\n      <td>...</td>\n      <td>...</td>\n      <td>...</td>\n      <td>...</td>\n    </tr>\n    <tr>\n      <th>1594</th>\n      <td>6.2</td>\n      <td>0.600</td>\n      <td>0.08</td>\n      <td>2.0</td>\n      <td>0.090</td>\n      <td>32</td>\n      <td>44</td>\n      <td>0.99490</td>\n      <td>3.45</td>\n      <td>0.58</td>\n      <td>10.5</td>\n      <td>5</td>\n    </tr>\n    <tr>\n      <th>1595</th>\n      <td>5.9</td>\n      <td>0.550</td>\n      <td>0.10</td>\n      <td>2.2</td>\n      <td>0.062</td>\n      <td>39</td>\n      <td>51</td>\n      <td>0.99512</td>\n      <td>3.52</td>\n      <td>0.76</td>\n      <td>11.2</td>\n      <td>6</td>\n    </tr>\n    <tr>\n      <th>1596</th>\n      <td>6.3</td>\n      <td>0.510</td>\n      <td>0.13</td>\n      <td>2.3</td>\n      <td>0.076</td>\n      <td>29</td>\n      <td>40</td>\n      <td>0.99574</td>\n      <td>3.42</td>\n      <td>0.75</td>\n      <td>11.0</td>\n      <td>6</td>\n    </tr>\n    <tr>\n      <th>1597</th>\n      <td>5.9</td>\n      <td>0.645</td>\n      <td>0.12</td>\n      <td>2.0</td>\n      <td>0.075</td>\n      <td>32</td>\n      <td>44</td>\n      <td>0.99547</td>\n      <td>3.57</td>\n      <td>0.71</td>\n      <td>10.2</td>\n      <td>5</td>\n    </tr>\n    <tr>\n      <th>1598</th>\n      <td>6.0</td>\n      <td>0.310</td>\n      <td>0.47</td>\n      <td>3.6</td>\n      <td>0.067</td>\n      <td>18</td>\n      <td>42</td>\n      <td>0.99549</td>\n      <td>3.39</td>\n      <td>0.66</td>\n      <td>11.0</td>\n      <td>6</td>\n    </tr>\n  </tbody>\n</table>\n<p>1599 rows × 12 columns</p>\n</div>"
     },
     "metadata": {},
     "execution_count": 14
    }
   ],
   "source": [
    "data"
   ]
  },
  {
   "cell_type": "code",
   "execution_count": 88,
   "metadata": {},
   "outputs": [],
   "source": [
    "def prediction_raw(theta_batch, x_test, num_index):\n",
    "\n",
    "    test = theta_batch[0] + theta_batch[1]*x_test[num_index][0] + theta_batch[2]*x_test[num_index][1]+theta_batch[3]*x_test[num_index][2]+theta_batch[4]*x_test[num_index][3]+theta_batch[5]*x_test[num_index][4]+theta_batch[6]*x_test[num_index][5]+theta_batch[7]*x_test[num_index][6]+theta_batch[8]*x_test[num_index][7]+theta_batch[9]*x_test[num_index][8]+theta_batch[10]*x_test[num_index][9]+theta_batch[11]*x_test[num_index][10]\n",
    "\n",
    "    return test"
   ]
  },
  {
   "cell_type": "code",
   "execution_count": 89,
   "metadata": {},
   "outputs": [
    {
     "output_type": "execute_result",
     "data": {
      "text/plain": [
       "[5.431013733461483,\n",
       " 5.690539016276744,\n",
       " 5.524813375814225,\n",
       " 5.549067376843759,\n",
       " 5.264047561924657,\n",
       " 5.624203904352957,\n",
       " 5.543964068114477,\n",
       " 6.258196731644268,\n",
       " 6.258196731644268,\n",
       " 5.6732533467456365]"
      ]
     },
     "metadata": {},
     "execution_count": 89
    }
   ],
   "source": [
    "prediction_batch_des = []\n",
    "\n",
    "for i in range(len(x_test)):\n",
    "    prediction_batch_des.append(prediction_raw(theta_batch, x_test, i))\n",
    "prediction_batch_des[:10]"
   ]
  },
  {
   "cell_type": "code",
   "execution_count": 90,
   "metadata": {},
   "outputs": [
    {
     "output_type": "execute_result",
     "data": {
      "text/plain": [
       "array([[5.72234168],\n",
       "       [5.67508873],\n",
       "       [5.38668875],\n",
       "       [5.8991857 ],\n",
       "       [5.84838829],\n",
       "       [6.60509892],\n",
       "       [6.37785715],\n",
       "       [5.68674151],\n",
       "       [5.68674151],\n",
       "       [5.65741127]])"
      ]
     },
     "metadata": {},
     "execution_count": 90
    }
   ],
   "source": [
    " predictions = lm.predict(x_test)\n",
    " predictions[:10]"
   ]
  },
  {
   "source": [
    "# Stochastic Gradient Descent"
   ],
   "cell_type": "markdown",
   "metadata": {}
  },
  {
   "source": [
    "x_train"
   ],
   "cell_type": "code",
   "metadata": {},
   "execution_count": 113,
   "outputs": [
    {
     "output_type": "execute_result",
     "data": {
      "text/plain": [
       "array([[ 1.   ,  7.4  ,  0.7  , ...,  3.51 ,  0.56 ,  9.4  ],\n",
       "       [ 1.   ,  7.8  ,  0.88 , ...,  3.2  ,  0.68 ,  9.8  ],\n",
       "       [ 1.   ,  7.8  ,  0.76 , ...,  3.26 ,  0.65 ,  9.8  ],\n",
       "       ...,\n",
       "       [ 1.   ,  8.   ,  0.715, ...,  3.24 ,  0.54 ,  9.5  ],\n",
       "       [ 1.   ,  9.8  ,  0.3  , ...,  3.14 ,  0.57 , 11.5  ],\n",
       "       [ 1.   ,  7.1  ,  0.46 , ...,  3.37 ,  0.64 , 10.4  ]])"
      ]
     },
     "metadata": {},
     "execution_count": 113
    }
   ]
  },
  {
   "source": [
    "y_train[:10]"
   ],
   "cell_type": "code",
   "metadata": {},
   "execution_count": 114,
   "outputs": [
    {
     "output_type": "execute_result",
     "data": {
      "text/plain": [
       "array([5, 5, 5, 6, 5, 5, 5, 7, 7, 5])"
      ]
     },
     "metadata": {},
     "execution_count": 114
    }
   ]
  },
  {
   "cell_type": "code",
   "execution_count": 115,
   "metadata": {},
   "outputs": [
    {
     "output_type": "execute_result",
     "data": {
      "text/plain": [
       "array([1., 1., 1., 1., 1., 1., 1., 1., 1., 1., 1., 1.])"
      ]
     },
     "metadata": {},
     "execution_count": 115
    }
   ],
   "source": [
    "number_of_features = x_train.shape[1]\n",
    "\n",
    "theta_stoch =  np.ones(shape=(number_of_features)) \n",
    "theta_stoch"
   ]
  },
  {
   "cell_type": "code",
   "execution_count": 122,
   "metadata": {},
   "outputs": [
    {
     "output_type": "execute_result",
     "data": {
      "text/plain": [
       "array([ 0.89787477,  0.05156481,  0.94785044,  0.96741687,  0.7051544 ,\n",
       "        0.99062768, -0.01094393, -0.01496361,  0.89813257,  0.66408956,\n",
       "        0.93206778, -0.08523299])"
      ]
     },
     "metadata": {},
     "execution_count": 122
    }
   ],
   "source": [
    "eta = 0.01\n",
    "n_iter = 5000\n",
    "m = x_train.shape[0]\n",
    "\n",
    "\n",
    "j_stoch = np.zeros(n_iter)\n",
    "\n",
    "for i in range(n_iter):\n",
    "    random_index = np.random.randint(0 , m -1)\n",
    "    x_sample = x_train[random_index]\n",
    "    y_sample = y_stoch[random_index]\n",
    "\n",
    "    j_stoch[i] = (1/(2*m))* (((x_train @ theta_stoch)  - y_train)**2).sum()\n",
    "    theta_stoch = theta_stoch - (eta/m) * (x_sample.T.dot(((np.dot(theta_stoch, x_sample.T)) - y_sample)))   \n",
    "\n",
    "theta_stoch"
   ]
  },
  {
   "cell_type": "code",
   "execution_count": 117,
   "metadata": {},
   "outputs": [
    {
     "output_type": "stream",
     "name": "stdout",
     "text": [
      "[23.89454619] [[ 2.32202243e-02 -1.05524992e+00 -1.82338385e-01  1.05063499e-02\n  -1.75934685e+00  3.33749498e-03 -3.69899220e-03 -1.99827364e+01\n  -3.44406023e-01  8.05064126e-01  2.83349759e-01]]\n"
     ]
    }
   ],
   "source": [
    "print(lm.intercept_, lm.coef_)"
   ]
  },
  {
   "cell_type": "code",
   "execution_count": 123,
   "metadata": {},
   "outputs": [
    {
     "output_type": "display_data",
     "data": {
      "text/plain": "<Figure size 432x288 with 1 Axes>",
      "image/svg+xml": "<?xml version=\"1.0\" encoding=\"utf-8\" standalone=\"no\"?>\r\n<!DOCTYPE svg PUBLIC \"-//W3C//DTD SVG 1.1//EN\"\r\n  \"http://www.w3.org/Graphics/SVG/1.1/DTD/svg11.dtd\">\r\n<!-- Created with matplotlib (https://matplotlib.org/) -->\r\n<svg height=\"252.245509pt\" version=\"1.1\" viewBox=\"0 0 368.925 252.245509\" width=\"368.925pt\" xmlns=\"http://www.w3.org/2000/svg\" xmlns:xlink=\"http://www.w3.org/1999/xlink\">\r\n <metadata>\r\n  <rdf:RDF xmlns:cc=\"http://creativecommons.org/ns#\" xmlns:dc=\"http://purl.org/dc/elements/1.1/\" xmlns:rdf=\"http://www.w3.org/1999/02/22-rdf-syntax-ns#\">\r\n   <cc:Work>\r\n    <dc:type rdf:resource=\"http://purl.org/dc/dcmitype/StillImage\"/>\r\n    <dc:date>2021-04-18T17:08:07.365339</dc:date>\r\n    <dc:format>image/svg+xml</dc:format>\r\n    <dc:creator>\r\n     <cc:Agent>\r\n      <dc:title>Matplotlib v3.3.4, https://matplotlib.org/</dc:title>\r\n     </cc:Agent>\r\n    </dc:creator>\r\n   </cc:Work>\r\n  </rdf:RDF>\r\n </metadata>\r\n <defs>\r\n  <style type=\"text/css\">*{stroke-linecap:butt;stroke-linejoin:round;}</style>\r\n </defs>\r\n <g id=\"figure_1\">\r\n  <g id=\"patch_1\">\r\n   <path d=\"M -0 252.245509 \r\nL 368.925 252.245509 \r\nL 368.925 0 \r\nL -0 0 \r\nz\r\n\" style=\"fill:none;\"/>\r\n  </g>\r\n  <g id=\"axes_1\">\r\n   <g id=\"patch_2\">\r\n    <path d=\"M 26.925 228.367384 \r\nL 361.725 228.367384 \r\nL 361.725 10.927384 \r\nL 26.925 10.927384 \r\nz\r\n\" style=\"fill:#ffffff;\"/>\r\n   </g>\r\n   <g id=\"matplotlib.axis_1\">\r\n    <g id=\"xtick_1\">\r\n     <g id=\"line2d_1\">\r\n      <path clip-path=\"url(#pd37636a68d)\" d=\"M 42.143182 228.367384 \r\nL 42.143182 10.927384 \r\n\" style=\"fill:none;stroke:#b0b0b0;stroke-linecap:square;stroke-width:0.8;\"/>\r\n     </g>\r\n     <g id=\"line2d_2\">\r\n      <defs>\r\n       <path d=\"M 0 0 \r\nL 0 3.5 \r\n\" id=\"m0386cf97a9\" style=\"stroke:#000000;stroke-width:0.8;\"/>\r\n      </defs>\r\n      <g>\r\n       <use style=\"stroke:#000000;stroke-width:0.8;\" x=\"42.143182\" xlink:href=\"#m0386cf97a9\" y=\"228.367384\"/>\r\n      </g>\r\n     </g>\r\n     <g id=\"text_1\">\r\n      <!-- 0 -->\r\n      <g transform=\"translate(38.961932 242.965822)scale(0.1 -0.1)\">\r\n       <defs>\r\n        <path d=\"M 31.78125 66.40625 \r\nQ 24.171875 66.40625 20.328125 58.90625 \r\nQ 16.5 51.421875 16.5 36.375 \r\nQ 16.5 21.390625 20.328125 13.890625 \r\nQ 24.171875 6.390625 31.78125 6.390625 \r\nQ 39.453125 6.390625 43.28125 13.890625 \r\nQ 47.125 21.390625 47.125 36.375 \r\nQ 47.125 51.421875 43.28125 58.90625 \r\nQ 39.453125 66.40625 31.78125 66.40625 \r\nz\r\nM 31.78125 74.21875 \r\nQ 44.046875 74.21875 50.515625 64.515625 \r\nQ 56.984375 54.828125 56.984375 36.375 \r\nQ 56.984375 17.96875 50.515625 8.265625 \r\nQ 44.046875 -1.421875 31.78125 -1.421875 \r\nQ 19.53125 -1.421875 13.0625 8.265625 \r\nQ 6.59375 17.96875 6.59375 36.375 \r\nQ 6.59375 54.828125 13.0625 64.515625 \r\nQ 19.53125 74.21875 31.78125 74.21875 \r\nz\r\n\" id=\"DejaVuSans-48\"/>\r\n       </defs>\r\n       <use xlink:href=\"#DejaVuSans-48\"/>\r\n      </g>\r\n     </g>\r\n    </g>\r\n    <g id=\"xtick_2\">\r\n     <g id=\"line2d_3\">\r\n      <path clip-path=\"url(#pd37636a68d)\" d=\"M 103.028086 228.367384 \r\nL 103.028086 10.927384 \r\n\" style=\"fill:none;stroke:#b0b0b0;stroke-linecap:square;stroke-width:0.8;\"/>\r\n     </g>\r\n     <g id=\"line2d_4\">\r\n      <g>\r\n       <use style=\"stroke:#000000;stroke-width:0.8;\" x=\"103.028086\" xlink:href=\"#m0386cf97a9\" y=\"228.367384\"/>\r\n      </g>\r\n     </g>\r\n     <g id=\"text_2\">\r\n      <!-- 1000 -->\r\n      <g transform=\"translate(90.303086 242.965822)scale(0.1 -0.1)\">\r\n       <defs>\r\n        <path d=\"M 12.40625 8.296875 \r\nL 28.515625 8.296875 \r\nL 28.515625 63.921875 \r\nL 10.984375 60.40625 \r\nL 10.984375 69.390625 \r\nL 28.421875 72.90625 \r\nL 38.28125 72.90625 \r\nL 38.28125 8.296875 \r\nL 54.390625 8.296875 \r\nL 54.390625 0 \r\nL 12.40625 0 \r\nz\r\n\" id=\"DejaVuSans-49\"/>\r\n       </defs>\r\n       <use xlink:href=\"#DejaVuSans-49\"/>\r\n       <use x=\"63.623047\" xlink:href=\"#DejaVuSans-48\"/>\r\n       <use x=\"127.246094\" xlink:href=\"#DejaVuSans-48\"/>\r\n       <use x=\"190.869141\" xlink:href=\"#DejaVuSans-48\"/>\r\n      </g>\r\n     </g>\r\n    </g>\r\n    <g id=\"xtick_3\">\r\n     <g id=\"line2d_5\">\r\n      <path clip-path=\"url(#pd37636a68d)\" d=\"M 163.91299 228.367384 \r\nL 163.91299 10.927384 \r\n\" style=\"fill:none;stroke:#b0b0b0;stroke-linecap:square;stroke-width:0.8;\"/>\r\n     </g>\r\n     <g id=\"line2d_6\">\r\n      <g>\r\n       <use style=\"stroke:#000000;stroke-width:0.8;\" x=\"163.91299\" xlink:href=\"#m0386cf97a9\" y=\"228.367384\"/>\r\n      </g>\r\n     </g>\r\n     <g id=\"text_3\">\r\n      <!-- 2000 -->\r\n      <g transform=\"translate(151.18799 242.965822)scale(0.1 -0.1)\">\r\n       <defs>\r\n        <path d=\"M 19.1875 8.296875 \r\nL 53.609375 8.296875 \r\nL 53.609375 0 \r\nL 7.328125 0 \r\nL 7.328125 8.296875 \r\nQ 12.9375 14.109375 22.625 23.890625 \r\nQ 32.328125 33.6875 34.8125 36.53125 \r\nQ 39.546875 41.84375 41.421875 45.53125 \r\nQ 43.3125 49.21875 43.3125 52.78125 \r\nQ 43.3125 58.59375 39.234375 62.25 \r\nQ 35.15625 65.921875 28.609375 65.921875 \r\nQ 23.96875 65.921875 18.8125 64.3125 \r\nQ 13.671875 62.703125 7.8125 59.421875 \r\nL 7.8125 69.390625 \r\nQ 13.765625 71.78125 18.9375 73 \r\nQ 24.125 74.21875 28.421875 74.21875 \r\nQ 39.75 74.21875 46.484375 68.546875 \r\nQ 53.21875 62.890625 53.21875 53.421875 \r\nQ 53.21875 48.921875 51.53125 44.890625 \r\nQ 49.859375 40.875 45.40625 35.40625 \r\nQ 44.1875 33.984375 37.640625 27.21875 \r\nQ 31.109375 20.453125 19.1875 8.296875 \r\nz\r\n\" id=\"DejaVuSans-50\"/>\r\n       </defs>\r\n       <use xlink:href=\"#DejaVuSans-50\"/>\r\n       <use x=\"63.623047\" xlink:href=\"#DejaVuSans-48\"/>\r\n       <use x=\"127.246094\" xlink:href=\"#DejaVuSans-48\"/>\r\n       <use x=\"190.869141\" xlink:href=\"#DejaVuSans-48\"/>\r\n      </g>\r\n     </g>\r\n    </g>\r\n    <g id=\"xtick_4\">\r\n     <g id=\"line2d_7\">\r\n      <path clip-path=\"url(#pd37636a68d)\" d=\"M 224.797895 228.367384 \r\nL 224.797895 10.927384 \r\n\" style=\"fill:none;stroke:#b0b0b0;stroke-linecap:square;stroke-width:0.8;\"/>\r\n     </g>\r\n     <g id=\"line2d_8\">\r\n      <g>\r\n       <use style=\"stroke:#000000;stroke-width:0.8;\" x=\"224.797895\" xlink:href=\"#m0386cf97a9\" y=\"228.367384\"/>\r\n      </g>\r\n     </g>\r\n     <g id=\"text_4\">\r\n      <!-- 3000 -->\r\n      <g transform=\"translate(212.072895 242.965822)scale(0.1 -0.1)\">\r\n       <defs>\r\n        <path d=\"M 40.578125 39.3125 \r\nQ 47.65625 37.796875 51.625 33 \r\nQ 55.609375 28.21875 55.609375 21.1875 \r\nQ 55.609375 10.40625 48.1875 4.484375 \r\nQ 40.765625 -1.421875 27.09375 -1.421875 \r\nQ 22.515625 -1.421875 17.65625 -0.515625 \r\nQ 12.796875 0.390625 7.625 2.203125 \r\nL 7.625 11.71875 \r\nQ 11.71875 9.328125 16.59375 8.109375 \r\nQ 21.484375 6.890625 26.8125 6.890625 \r\nQ 36.078125 6.890625 40.9375 10.546875 \r\nQ 45.796875 14.203125 45.796875 21.1875 \r\nQ 45.796875 27.640625 41.28125 31.265625 \r\nQ 36.765625 34.90625 28.71875 34.90625 \r\nL 20.21875 34.90625 \r\nL 20.21875 43.015625 \r\nL 29.109375 43.015625 \r\nQ 36.375 43.015625 40.234375 45.921875 \r\nQ 44.09375 48.828125 44.09375 54.296875 \r\nQ 44.09375 59.90625 40.109375 62.90625 \r\nQ 36.140625 65.921875 28.71875 65.921875 \r\nQ 24.65625 65.921875 20.015625 65.03125 \r\nQ 15.375 64.15625 9.8125 62.3125 \r\nL 9.8125 71.09375 \r\nQ 15.4375 72.65625 20.34375 73.4375 \r\nQ 25.25 74.21875 29.59375 74.21875 \r\nQ 40.828125 74.21875 47.359375 69.109375 \r\nQ 53.90625 64.015625 53.90625 55.328125 \r\nQ 53.90625 49.265625 50.4375 45.09375 \r\nQ 46.96875 40.921875 40.578125 39.3125 \r\nz\r\n\" id=\"DejaVuSans-51\"/>\r\n       </defs>\r\n       <use xlink:href=\"#DejaVuSans-51\"/>\r\n       <use x=\"63.623047\" xlink:href=\"#DejaVuSans-48\"/>\r\n       <use x=\"127.246094\" xlink:href=\"#DejaVuSans-48\"/>\r\n       <use x=\"190.869141\" xlink:href=\"#DejaVuSans-48\"/>\r\n      </g>\r\n     </g>\r\n    </g>\r\n    <g id=\"xtick_5\">\r\n     <g id=\"line2d_9\">\r\n      <path clip-path=\"url(#pd37636a68d)\" d=\"M 285.682799 228.367384 \r\nL 285.682799 10.927384 \r\n\" style=\"fill:none;stroke:#b0b0b0;stroke-linecap:square;stroke-width:0.8;\"/>\r\n     </g>\r\n     <g id=\"line2d_10\">\r\n      <g>\r\n       <use style=\"stroke:#000000;stroke-width:0.8;\" x=\"285.682799\" xlink:href=\"#m0386cf97a9\" y=\"228.367384\"/>\r\n      </g>\r\n     </g>\r\n     <g id=\"text_5\">\r\n      <!-- 4000 -->\r\n      <g transform=\"translate(272.957799 242.965822)scale(0.1 -0.1)\">\r\n       <defs>\r\n        <path d=\"M 37.796875 64.3125 \r\nL 12.890625 25.390625 \r\nL 37.796875 25.390625 \r\nz\r\nM 35.203125 72.90625 \r\nL 47.609375 72.90625 \r\nL 47.609375 25.390625 \r\nL 58.015625 25.390625 \r\nL 58.015625 17.1875 \r\nL 47.609375 17.1875 \r\nL 47.609375 0 \r\nL 37.796875 0 \r\nL 37.796875 17.1875 \r\nL 4.890625 17.1875 \r\nL 4.890625 26.703125 \r\nz\r\n\" id=\"DejaVuSans-52\"/>\r\n       </defs>\r\n       <use xlink:href=\"#DejaVuSans-52\"/>\r\n       <use x=\"63.623047\" xlink:href=\"#DejaVuSans-48\"/>\r\n       <use x=\"127.246094\" xlink:href=\"#DejaVuSans-48\"/>\r\n       <use x=\"190.869141\" xlink:href=\"#DejaVuSans-48\"/>\r\n      </g>\r\n     </g>\r\n    </g>\r\n    <g id=\"xtick_6\">\r\n     <g id=\"line2d_11\">\r\n      <path clip-path=\"url(#pd37636a68d)\" d=\"M 346.567703 228.367384 \r\nL 346.567703 10.927384 \r\n\" style=\"fill:none;stroke:#b0b0b0;stroke-linecap:square;stroke-width:0.8;\"/>\r\n     </g>\r\n     <g id=\"line2d_12\">\r\n      <g>\r\n       <use style=\"stroke:#000000;stroke-width:0.8;\" x=\"346.567703\" xlink:href=\"#m0386cf97a9\" y=\"228.367384\"/>\r\n      </g>\r\n     </g>\r\n     <g id=\"text_6\">\r\n      <!-- 5000 -->\r\n      <g transform=\"translate(333.842703 242.965822)scale(0.1 -0.1)\">\r\n       <defs>\r\n        <path d=\"M 10.796875 72.90625 \r\nL 49.515625 72.90625 \r\nL 49.515625 64.59375 \r\nL 19.828125 64.59375 \r\nL 19.828125 46.734375 \r\nQ 21.96875 47.46875 24.109375 47.828125 \r\nQ 26.265625 48.1875 28.421875 48.1875 \r\nQ 40.625 48.1875 47.75 41.5 \r\nQ 54.890625 34.8125 54.890625 23.390625 \r\nQ 54.890625 11.625 47.5625 5.09375 \r\nQ 40.234375 -1.421875 26.90625 -1.421875 \r\nQ 22.3125 -1.421875 17.546875 -0.640625 \r\nQ 12.796875 0.140625 7.71875 1.703125 \r\nL 7.71875 11.625 \r\nQ 12.109375 9.234375 16.796875 8.0625 \r\nQ 21.484375 6.890625 26.703125 6.890625 \r\nQ 35.15625 6.890625 40.078125 11.328125 \r\nQ 45.015625 15.765625 45.015625 23.390625 \r\nQ 45.015625 31 40.078125 35.4375 \r\nQ 35.15625 39.890625 26.703125 39.890625 \r\nQ 22.75 39.890625 18.8125 39.015625 \r\nQ 14.890625 38.140625 10.796875 36.28125 \r\nz\r\n\" id=\"DejaVuSans-53\"/>\r\n       </defs>\r\n       <use xlink:href=\"#DejaVuSans-53\"/>\r\n       <use x=\"63.623047\" xlink:href=\"#DejaVuSans-48\"/>\r\n       <use x=\"127.246094\" xlink:href=\"#DejaVuSans-48\"/>\r\n       <use x=\"190.869141\" xlink:href=\"#DejaVuSans-48\"/>\r\n      </g>\r\n     </g>\r\n    </g>\r\n   </g>\r\n   <g id=\"matplotlib.axis_2\">\r\n    <g id=\"ytick_1\">\r\n     <g id=\"line2d_13\">\r\n      <path clip-path=\"url(#pd37636a68d)\" d=\"M 26.925 222.829763 \r\nL 361.725 222.829763 \r\n\" style=\"fill:none;stroke:#b0b0b0;stroke-linecap:square;stroke-width:0.8;\"/>\r\n     </g>\r\n     <g id=\"line2d_14\">\r\n      <defs>\r\n       <path d=\"M 0 0 \r\nL -3.5 0 \r\n\" id=\"mcb7af2aded\" style=\"stroke:#000000;stroke-width:0.8;\"/>\r\n      </defs>\r\n      <g>\r\n       <use style=\"stroke:#000000;stroke-width:0.8;\" x=\"26.925\" xlink:href=\"#mcb7af2aded\" y=\"222.829763\"/>\r\n      </g>\r\n     </g>\r\n     <g id=\"text_7\">\r\n      <!-- 0 -->\r\n      <g transform=\"translate(13.5625 226.628982)scale(0.1 -0.1)\">\r\n       <use xlink:href=\"#DejaVuSans-48\"/>\r\n      </g>\r\n     </g>\r\n    </g>\r\n    <g id=\"ytick_2\">\r\n     <g id=\"line2d_15\">\r\n      <path clip-path=\"url(#pd37636a68d)\" d=\"M 26.925 196.350945 \r\nL 361.725 196.350945 \r\n\" style=\"fill:none;stroke:#b0b0b0;stroke-linecap:square;stroke-width:0.8;\"/>\r\n     </g>\r\n     <g id=\"line2d_16\">\r\n      <g>\r\n       <use style=\"stroke:#000000;stroke-width:0.8;\" x=\"26.925\" xlink:href=\"#mcb7af2aded\" y=\"196.350945\"/>\r\n      </g>\r\n     </g>\r\n     <g id=\"text_8\">\r\n      <!-- 5 -->\r\n      <g transform=\"translate(13.5625 200.150164)scale(0.1 -0.1)\">\r\n       <use xlink:href=\"#DejaVuSans-53\"/>\r\n      </g>\r\n     </g>\r\n    </g>\r\n    <g id=\"ytick_3\">\r\n     <g id=\"line2d_17\">\r\n      <path clip-path=\"url(#pd37636a68d)\" d=\"M 26.925 169.872127 \r\nL 361.725 169.872127 \r\n\" style=\"fill:none;stroke:#b0b0b0;stroke-linecap:square;stroke-width:0.8;\"/>\r\n     </g>\r\n     <g id=\"line2d_18\">\r\n      <g>\r\n       <use style=\"stroke:#000000;stroke-width:0.8;\" x=\"26.925\" xlink:href=\"#mcb7af2aded\" y=\"169.872127\"/>\r\n      </g>\r\n     </g>\r\n     <g id=\"text_9\">\r\n      <!-- 10 -->\r\n      <g transform=\"translate(7.2 173.671346)scale(0.1 -0.1)\">\r\n       <use xlink:href=\"#DejaVuSans-49\"/>\r\n       <use x=\"63.623047\" xlink:href=\"#DejaVuSans-48\"/>\r\n      </g>\r\n     </g>\r\n    </g>\r\n    <g id=\"ytick_4\">\r\n     <g id=\"line2d_19\">\r\n      <path clip-path=\"url(#pd37636a68d)\" d=\"M 26.925 143.393309 \r\nL 361.725 143.393309 \r\n\" style=\"fill:none;stroke:#b0b0b0;stroke-linecap:square;stroke-width:0.8;\"/>\r\n     </g>\r\n     <g id=\"line2d_20\">\r\n      <g>\r\n       <use style=\"stroke:#000000;stroke-width:0.8;\" x=\"26.925\" xlink:href=\"#mcb7af2aded\" y=\"143.393309\"/>\r\n      </g>\r\n     </g>\r\n     <g id=\"text_10\">\r\n      <!-- 15 -->\r\n      <g transform=\"translate(7.2 147.192528)scale(0.1 -0.1)\">\r\n       <use xlink:href=\"#DejaVuSans-49\"/>\r\n       <use x=\"63.623047\" xlink:href=\"#DejaVuSans-53\"/>\r\n      </g>\r\n     </g>\r\n    </g>\r\n    <g id=\"ytick_5\">\r\n     <g id=\"line2d_21\">\r\n      <path clip-path=\"url(#pd37636a68d)\" d=\"M 26.925 116.914491 \r\nL 361.725 116.914491 \r\n\" style=\"fill:none;stroke:#b0b0b0;stroke-linecap:square;stroke-width:0.8;\"/>\r\n     </g>\r\n     <g id=\"line2d_22\">\r\n      <g>\r\n       <use style=\"stroke:#000000;stroke-width:0.8;\" x=\"26.925\" xlink:href=\"#mcb7af2aded\" y=\"116.914491\"/>\r\n      </g>\r\n     </g>\r\n     <g id=\"text_11\">\r\n      <!-- 20 -->\r\n      <g transform=\"translate(7.2 120.71371)scale(0.1 -0.1)\">\r\n       <use xlink:href=\"#DejaVuSans-50\"/>\r\n       <use x=\"63.623047\" xlink:href=\"#DejaVuSans-48\"/>\r\n      </g>\r\n     </g>\r\n    </g>\r\n    <g id=\"ytick_6\">\r\n     <g id=\"line2d_23\">\r\n      <path clip-path=\"url(#pd37636a68d)\" d=\"M 26.925 90.435673 \r\nL 361.725 90.435673 \r\n\" style=\"fill:none;stroke:#b0b0b0;stroke-linecap:square;stroke-width:0.8;\"/>\r\n     </g>\r\n     <g id=\"line2d_24\">\r\n      <g>\r\n       <use style=\"stroke:#000000;stroke-width:0.8;\" x=\"26.925\" xlink:href=\"#mcb7af2aded\" y=\"90.435673\"/>\r\n      </g>\r\n     </g>\r\n     <g id=\"text_12\">\r\n      <!-- 25 -->\r\n      <g transform=\"translate(7.2 94.234892)scale(0.1 -0.1)\">\r\n       <use xlink:href=\"#DejaVuSans-50\"/>\r\n       <use x=\"63.623047\" xlink:href=\"#DejaVuSans-53\"/>\r\n      </g>\r\n     </g>\r\n    </g>\r\n    <g id=\"ytick_7\">\r\n     <g id=\"line2d_25\">\r\n      <path clip-path=\"url(#pd37636a68d)\" d=\"M 26.925 63.956855 \r\nL 361.725 63.956855 \r\n\" style=\"fill:none;stroke:#b0b0b0;stroke-linecap:square;stroke-width:0.8;\"/>\r\n     </g>\r\n     <g id=\"line2d_26\">\r\n      <g>\r\n       <use style=\"stroke:#000000;stroke-width:0.8;\" x=\"26.925\" xlink:href=\"#mcb7af2aded\" y=\"63.956855\"/>\r\n      </g>\r\n     </g>\r\n     <g id=\"text_13\">\r\n      <!-- 30 -->\r\n      <g transform=\"translate(7.2 67.756074)scale(0.1 -0.1)\">\r\n       <use xlink:href=\"#DejaVuSans-51\"/>\r\n       <use x=\"63.623047\" xlink:href=\"#DejaVuSans-48\"/>\r\n      </g>\r\n     </g>\r\n    </g>\r\n    <g id=\"ytick_8\">\r\n     <g id=\"line2d_27\">\r\n      <path clip-path=\"url(#pd37636a68d)\" d=\"M 26.925 37.478037 \r\nL 361.725 37.478037 \r\n\" style=\"fill:none;stroke:#b0b0b0;stroke-linecap:square;stroke-width:0.8;\"/>\r\n     </g>\r\n     <g id=\"line2d_28\">\r\n      <g>\r\n       <use style=\"stroke:#000000;stroke-width:0.8;\" x=\"26.925\" xlink:href=\"#mcb7af2aded\" y=\"37.478037\"/>\r\n      </g>\r\n     </g>\r\n     <g id=\"text_14\">\r\n      <!-- 35 -->\r\n      <g transform=\"translate(7.2 41.277256)scale(0.1 -0.1)\">\r\n       <use xlink:href=\"#DejaVuSans-51\"/>\r\n       <use x=\"63.623047\" xlink:href=\"#DejaVuSans-53\"/>\r\n      </g>\r\n     </g>\r\n    </g>\r\n    <g id=\"ytick_9\">\r\n     <g id=\"line2d_29\">\r\n      <path clip-path=\"url(#pd37636a68d)\" d=\"M 26.925 10.999219 \r\nL 361.725 10.999219 \r\n\" style=\"fill:none;stroke:#b0b0b0;stroke-linecap:square;stroke-width:0.8;\"/>\r\n     </g>\r\n     <g id=\"line2d_30\">\r\n      <g>\r\n       <use style=\"stroke:#000000;stroke-width:0.8;\" x=\"26.925\" xlink:href=\"#mcb7af2aded\" y=\"10.999219\"/>\r\n      </g>\r\n     </g>\r\n     <g id=\"text_15\">\r\n      <!-- 40 -->\r\n      <g transform=\"translate(7.2 14.798438)scale(0.1 -0.1)\">\r\n       <use xlink:href=\"#DejaVuSans-52\"/>\r\n       <use x=\"63.623047\" xlink:href=\"#DejaVuSans-48\"/>\r\n      </g>\r\n     </g>\r\n    </g>\r\n   </g>\r\n   <g id=\"line2d_31\">\r\n    <path clip-path=\"url(#pd37636a68d)\" d=\"M 42.143182 89.749023 \r\nL 42.204067 90.206004 \r\nL 42.264952 89.557447 \r\nL 42.325837 89.943906 \r\nL 42.386721 20.811021 \r\nL 42.447606 22.934416 \r\nL 42.812916 51.666197 \r\nL 42.99557 63.164154 \r\nL 43.48265 81.667508 \r\nL 43.543535 80.335199 \r\nL 43.847959 88.374247 \r\nL 44.395923 97.973051 \r\nL 44.761233 101.890533 \r\nL 44.822118 100.312195 \r\nL 44.883003 100.955525 \r\nL 45.065657 102.411363 \r\nL 45.126542 102.16366 \r\nL 45.187427 101.009904 \r\nL 45.248312 97.150113 \r\nL 45.309197 98.044397 \r\nL 45.370082 97.519799 \r\nL 45.613621 101.340955 \r\nL 45.674506 101.969692 \r\nL 45.735391 100.977028 \r\nL 46.039816 104.605137 \r\nL 46.283355 106.287369 \r\nL 46.526895 106.844284 \r\nL 46.770435 107.061515 \r\nL 47.196629 107.355376 \r\nL 47.561938 106.168836 \r\nL 47.683708 105.854115 \r\nL 47.744593 107.757946 \r\nL 47.805478 107.670655 \r\nL 47.988133 106.773861 \r\nL 48.049018 107.867128 \r\nL 48.109902 107.491648 \r\nL 48.170787 107.226775 \r\nL 48.475212 104.671087 \r\nL 48.840521 103.282969 \r\nL 48.962291 112.328338 \r\nL 49.205831 112.589554 \r\nL 49.266716 111.986705 \r\nL 49.327601 112.354706 \r\nL 49.388485 112.484001 \r\nL 49.44937 111.7253 \r\nL 49.753795 113.886443 \r\nL 50.058219 114.163979 \r\nL 50.179989 114.015882 \r\nL 50.240874 114.367904 \r\nL 50.301759 114.267804 \r\nL 50.423529 114.241289 \r\nL 50.484414 114.043352 \r\nL 50.606184 114.562751 \r\nL 50.910608 113.895776 \r\nL 50.971493 115.047507 \r\nL 51.032378 114.823677 \r\nL 51.093263 114.805034 \r\nL 51.154148 115.253966 \r\nL 51.215033 115.151621 \r\nL 51.397687 114.073923 \r\nL 51.458572 116.310586 \r\nL 51.519457 115.947516 \r\nL 51.580342 116.167574 \r\nL 51.762997 115.475503 \r\nL 51.884766 115.303551 \r\nL 52.067421 114.422037 \r\nL 52.189191 116.112833 \r\nL 52.250076 116.050254 \r\nL 52.615385 113.530059 \r\nL 52.67627 113.33532 \r\nL 52.858925 111.637086 \r\nL 52.91981 113.150285 \r\nL 52.980695 112.712475 \r\nL 53.04158 112.108511 \r\nL 53.102465 114.64749 \r\nL 53.163349 114.081747 \r\nL 53.346004 113.126357 \r\nL 53.406889 114.151535 \r\nL 53.467774 113.910481 \r\nL 53.650429 112.905235 \r\nL 53.893968 110.59089 \r\nL 53.954853 117.735472 \r\nL 54.015738 117.448287 \r\nL 54.198393 116.349082 \r\nL 54.259278 120.717529 \r\nL 54.320163 120.595557 \r\nL 54.381048 120.564749 \r\nL 54.563702 119.9071 \r\nL 54.624587 120.030954 \r\nL 54.685472 123.744093 \r\nL 54.746357 123.713816 \r\nL 54.989897 124.035409 \r\nL 55.050782 123.7885 \r\nL 55.172551 124.518601 \r\nL 55.355206 122.701541 \r\nL 55.720515 125.34576 \r\nL 55.842285 125.000399 \r\nL 55.90317 125.148885 \r\nL 56.02494 126.229543 \r\nL 56.085825 126.09685 \r\nL 56.26848 126.89542 \r\nL 56.512019 127.210566 \r\nL 56.572904 127.208159 \r\nL 56.755559 128.117023 \r\nL 56.816444 128.035847 \r\nL 56.938214 128.234807 \r\nL 56.999098 128.187618 \r\nL 57.059983 127.965199 \r\nL 57.120868 128.539103 \r\nL 57.181753 128.087603 \r\nL 57.242638 127.538489 \r\nL 57.486178 128.987124 \r\nL 57.547063 128.942645 \r\nL 57.668832 129.389998 \r\nL 57.729717 129.327062 \r\nL 57.790602 129.258065 \r\nL 58.095027 130.543586 \r\nL 58.155912 129.251509 \r\nL 58.216797 129.595089 \r\nL 58.460336 130.905554 \r\nL 58.521221 130.638766 \r\nL 58.642991 131.533903 \r\nL 58.703876 129.365402 \r\nL 58.764761 129.764166 \r\nL 59.0083 131.308567 \r\nL 59.069185 131.144406 \r\nL 59.312725 132.522238 \r\nL 59.982459 133.884523 \r\nL 60.347768 134.072827 \r\nL 60.530423 134.9558 \r\nL 60.834847 134.940927 \r\nL 61.017502 135.361556 \r\nL 61.200157 135.614157 \r\nL 61.321927 135.815554 \r\nL 61.443696 135.968501 \r\nL 61.626351 134.531678 \r\nL 61.930776 136.546953 \r\nL 62.296085 137.383087 \r\nL 62.47874 137.577267 \r\nL 62.661395 137.445461 \r\nL 62.722279 138.07991 \r\nL 62.783164 138.025644 \r\nL 62.844049 137.683629 \r\nL 62.904934 138.066697 \r\nL 62.965819 137.467217 \r\nL 63.026704 137.9288 \r\nL 63.148474 138.01345 \r\nL 63.209359 136.451006 \r\nL 63.270244 137.407351 \r\nL 63.635553 139.66133 \r\nL 63.696438 139.699211 \r\nL 63.939978 140.138197 \r\nL 64.000862 140.144993 \r\nL 64.061747 140.303799 \r\nL 64.122632 140.239113 \r\nL 64.183517 140.29385 \r\nL 64.731481 138.265445 \r\nL 64.792366 138.474449 \r\nL 64.853251 142.053296 \r\nL 64.914136 142.015414 \r\nL 65.035906 142.043358 \r\nL 65.218561 142.990299 \r\nL 65.401215 143.197736 \r\nL 65.82741 143.151284 \r\nL 65.949179 143.963611 \r\nL 66.010064 143.981843 \r\nL 66.192719 144.387478 \r\nL 66.253604 144.28547 \r\nL 66.314489 144.349717 \r\nL 66.375374 144.568228 \r\nL 66.436259 143.517945 \r\nL 66.497144 143.961167 \r\nL 66.558028 144.43592 \r\nL 66.618913 143.178882 \r\nL 66.679798 143.66083 \r\nL 67.105993 145.490339 \r\nL 67.166877 144.245252 \r\nL 67.227762 144.585085 \r\nL 67.471302 146.005207 \r\nL 67.532187 145.590112 \r\nL 67.593072 145.861208 \r\nL 67.897496 147.281816 \r\nL 68.141036 147.657677 \r\nL 68.323691 147.874049 \r\nL 68.506345 147.938479 \r\nL 68.628115 148.203162 \r\nL 68.993425 148.790602 \r\nL 69.115194 148.702609 \r\nL 69.236964 149.051677 \r\nL 69.297849 149.022394 \r\nL 69.480504 148.670925 \r\nL 69.663159 149.636034 \r\nL 69.784928 149.505765 \r\nL 69.845813 149.912293 \r\nL 69.906698 149.897966 \r\nL 70.332892 150.007688 \r\nL 70.454662 149.83866 \r\nL 70.637317 150.864655 \r\nL 70.698202 150.780039 \r\nL 70.941742 151.10039 \r\nL 71.002626 150.96713 \r\nL 71.246166 151.44416 \r\nL 71.307051 151.12411 \r\nL 71.428821 151.637425 \r\nL 71.550591 148.087939 \r\nL 71.611475 148.687816 \r\nL 71.67236 149.163653 \r\nL 71.733245 147.429371 \r\nL 71.79413 148.028921 \r\nL 71.9159 148.592086 \r\nL 72.281209 151.062547 \r\nL 72.524749 152.453213 \r\nL 72.707404 149.966163 \r\nL 72.950943 151.775414 \r\nL 73.011828 148.594705 \r\nL 73.072713 149.264028 \r\nL 73.194483 149.992446 \r\nL 73.255368 148.0578 \r\nL 73.316253 148.828816 \r\nL 73.620677 152.204435 \r\nL 73.681562 150.854039 \r\nL 73.742447 151.525213 \r\nL 74.046872 153.287575 \r\nL 74.229526 153.922686 \r\nL 74.351296 153.985367 \r\nL 74.533951 154.875612 \r\nL 74.594836 153.089446 \r\nL 74.655721 154.014466 \r\nL 74.838375 155.211229 \r\nL 74.89926 155.151031 \r\nL 74.960145 113.675563 \r\nL 75.02103 114.743412 \r\nL 75.203685 120.490629 \r\nL 75.568994 133.635716 \r\nL 75.934304 139.620091 \r\nL 76.786692 154.887283 \r\nL 77.456426 160.733762 \r\nL 77.578196 161.327416 \r\nL 77.639081 159.512064 \r\nL 77.699966 160.064266 \r\nL 78.00439 162.189249 \r\nL 78.065275 162.384597 \r\nL 78.12616 161.68047 \r\nL 78.187045 162.109642 \r\nL 78.49147 163.214852 \r\nL 78.917664 164.09795 \r\nL 78.978549 163.715993 \r\nL 79.039434 163.860571 \r\nL 79.222089 164.285811 \r\nL 79.404743 164.640351 \r\nL 79.709168 164.996768 \r\nL 79.952707 165.090412 \r\nL 80.135362 165.299441 \r\nL 80.378902 165.761062 \r\nL 80.439787 165.5734 \r\nL 80.500671 165.617113 \r\nL 80.622441 165.823732 \r\nL 80.683326 165.629501 \r\nL 80.865981 159.01357 \r\nL 81.048636 160.971808 \r\nL 81.109521 130.089015 \r\nL 81.170405 131.848863 \r\nL 81.23129 133.263534 \r\nL 81.535715 148.597881 \r\nL 82.083679 158.880553 \r\nL 82.144564 158.34606 \r\nL 82.448988 163.362903 \r\nL 82.753413 165.364078 \r\nL 82.814298 164.829266 \r\nL 83.118722 167.418639 \r\nL 83.301377 168.281104 \r\nL 83.666687 170.40375 \r\nL 83.727571 170.420262 \r\nL 84.092881 171.479979 \r\nL 84.45819 171.976985 \r\nL 84.640845 171.902001 \r\nL 84.762615 171.774055 \r\nL 84.94527 171.807586 \r\nL 85.067039 171.751775 \r\nL 85.188809 172.454454 \r\nL 85.310579 172.504207 \r\nL 85.371464 171.949847 \r\nL 85.432349 172.093662 \r\nL 85.493234 172.027896 \r\nL 85.554119 171.553111 \r\nL 85.615003 171.775439 \r\nL 85.675888 171.841341 \r\nL 85.858543 172.816029 \r\nL 86.223852 173.500465 \r\nL 86.284737 173.302065 \r\nL 86.345622 173.474071 \r\nL 86.589162 173.808104 \r\nL 86.893586 174.083431 \r\nL 87.076241 173.614492 \r\nL 87.198011 174.42571 \r\nL 87.68509 174.204785 \r\nL 87.867745 173.924859 \r\nL 88.0504 175.066934 \r\nL 88.293939 175.266065 \r\nL 88.537479 175.036004 \r\nL 88.598364 175.795253 \r\nL 88.659249 175.76201 \r\nL 88.963673 175.770829 \r\nL 89.146328 176.130765 \r\nL 89.633407 176.286368 \r\nL 89.937832 176.570178 \r\nL 89.998717 176.543621 \r\nL 90.120486 176.769662 \r\nL 90.181371 176.55967 \r\nL 90.242256 176.720272 \r\nL 90.424911 176.976068 \r\nL 90.485796 176.471231 \r\nL 90.668451 177.278394 \r\nL 91.03376 174.492069 \r\nL 91.094645 174.670775 \r\nL 91.338184 176.621163 \r\nL 91.520839 177.267239 \r\nL 91.581724 172.853162 \r\nL 91.642609 173.534507 \r\nL 92.373228 177.970033 \r\nL 92.434113 176.979257 \r\nL 92.494998 177.346309 \r\nL 93.286501 179.574307 \r\nL 93.469156 179.893604 \r\nL 93.530041 179.509037 \r\nL 93.590926 179.699015 \r\nL 93.89535 180.150512 \r\nL 93.956235 180.102905 \r\nL 94.26066 180.569314 \r\nL 94.625969 180.573143 \r\nL 94.686854 180.703665 \r\nL 94.747739 180.668883 \r\nL 95.113049 180.49055 \r\nL 95.234818 180.480915 \r\nL 95.356588 180.179374 \r\nL 95.539243 180.046014 \r\nL 95.600128 180.304158 \r\nL 95.661013 180.13028 \r\nL 95.782782 180.153946 \r\nL 96.208977 179.379559 \r\nL 96.269862 179.586616 \r\nL 96.330747 179.517089 \r\nL 96.513401 179.046044 \r\nL 96.574286 179.766167 \r\nL 96.635171 179.632805 \r\nL 96.939596 178.724914 \r\nL 97.000481 179.923705 \r\nL 97.061365 179.843064 \r\nL 97.12225 180.004869 \r\nL 97.183135 179.939264 \r\nL 97.24402 179.869521 \r\nL 97.426675 181.729166 \r\nL 97.60933 181.44343 \r\nL 97.670214 181.796869 \r\nL 97.731099 181.716177 \r\nL 97.852869 181.749693 \r\nL 98.096409 181.313145 \r\nL 98.279064 182.893252 \r\nL 98.522603 183.196759 \r\nL 99.009682 183.433142 \r\nL 99.192337 183.617285 \r\nL 99.374992 183.59931 \r\nL 99.435877 183.784301 \r\nL 99.496762 183.76062 \r\nL 99.679416 183.712514 \r\nL 99.801186 183.681027 \r\nL 100.044726 183.101587 \r\nL 100.105611 184.151501 \r\nL 100.166496 184.140441 \r\nL 100.22738 184.091237 \r\nL 100.288265 184.181908 \r\nL 100.59269 184.220237 \r\nL 100.653575 184.411122 \r\nL 100.71446 184.374015 \r\nL 100.775345 184.339253 \r\nL 100.83623 183.690637 \r\nL 100.897114 183.861383 \r\nL 101.079769 184.198959 \r\nL 101.445079 184.895104 \r\nL 101.505963 184.472495 \r\nL 101.566848 184.670435 \r\nL 101.871273 185.16598 \r\nL 101.932158 185.102333 \r\nL 101.993043 185.030688 \r\nL 102.297467 185.629092 \r\nL 102.601892 185.847812 \r\nL 102.906316 185.940374 \r\nL 103.088971 186.120688 \r\nL 103.149856 185.935932 \r\nL 103.210741 185.164053 \r\nL 103.271626 185.390082 \r\nL 103.332511 185.560627 \r\nL 103.393395 183.474306 \r\nL 103.45428 184.011363 \r\nL 103.636935 185.690699 \r\nL 103.69782 184.839426 \r\nL 103.758705 184.578796 \r\nL 104.002245 185.81097 \r\nL 104.063129 185.594539 \r\nL 104.124014 185.772447 \r\nL 104.367554 186.44948 \r\nL 104.428439 186.372179 \r\nL 104.611094 186.880994 \r\nL 104.671978 185.313328 \r\nL 104.732863 185.725787 \r\nL 104.976403 186.762089 \r\nL 105.037288 186.799871 \r\nL 105.098173 186.119802 \r\nL 105.159058 186.434421 \r\nL 105.463482 187.52816 \r\nL 105.646137 185.630434 \r\nL 105.707022 185.811861 \r\nL 106.133216 187.547611 \r\nL 106.254986 188.47866 \r\nL 106.376756 188.533083 \r\nL 106.68118 188.874099 \r\nL 106.742065 188.922053 \r\nL 106.80295 188.766951 \r\nL 106.863835 188.854741 \r\nL 107.107375 189.214218 \r\nL 107.16826 188.524667 \r\nL 107.229144 188.755131 \r\nL 107.290029 188.931777 \r\nL 107.350914 188.758351 \r\nL 107.411799 188.858673 \r\nL 107.533569 189.173877 \r\nL 107.716224 189.53196 \r\nL 107.959763 189.786928 \r\nL 108.325073 189.818837 \r\nL 108.568612 189.615032 \r\nL 108.629497 189.684313 \r\nL 108.690382 189.605009 \r\nL 108.873037 189.376903 \r\nL 108.933922 189.461889 \r\nL 109.055692 189.219083 \r\nL 109.116576 189.387585 \r\nL 109.177461 189.256401 \r\nL 109.238346 189.313836 \r\nL 109.299231 189.1997 \r\nL 109.360116 189.275438 \r\nL 109.421001 189.241755 \r\nL 109.664541 188.804226 \r\nL 109.725426 188.730603 \r\nL 110.090735 187.383998 \r\nL 110.212505 188.382642 \r\nL 110.27339 188.404554 \r\nL 110.334275 188.040197 \r\nL 110.395159 188.107411 \r\nL 110.456044 188.252004 \r\nL 110.516929 188.112904 \r\nL 110.638699 190.953392 \r\nL 110.699584 190.945707 \r\nL 110.821354 191.161599 \r\nL 110.882239 191.049204 \r\nL 110.943124 190.619638 \r\nL 111.004009 190.790998 \r\nL 111.064893 190.760471 \r\nL 111.308433 191.122329 \r\nL 111.369318 190.665233 \r\nL 111.430203 190.726796 \r\nL 111.734627 191.255748 \r\nL 111.856397 191.394998 \r\nL 112.160822 191.761181 \r\nL 112.830556 192.045669 \r\nL 112.891441 191.696348 \r\nL 112.952325 191.747063 \r\nL 113.195865 192.298491 \r\nL 113.439405 192.386398 \r\nL 113.622059 192.435329 \r\nL 113.743829 192.51171 \r\nL 114.170024 192.676574 \r\nL 114.474448 192.643342 \r\nL 114.596218 192.876086 \r\nL 114.961527 192.880193 \r\nL 115.326837 192.826702 \r\nL 115.631261 192.342344 \r\nL 115.692146 193.006891 \r\nL 115.753031 192.895212 \r\nL 115.935686 192.88673 \r\nL 116.057456 193.381201 \r\nL 116.11834 193.414021 \r\nL 116.300995 193.683125 \r\nL 116.36188 193.742298 \r\nL 116.422765 193.49846 \r\nL 116.48365 193.590185 \r\nL 116.666305 193.783577 \r\nL 116.72719 193.84126 \r\nL 116.788074 193.744328 \r\nL 116.848959 192.542047 \r\nL 116.909844 192.788033 \r\nL 116.970729 192.949079 \r\nL 117.031614 192.90942 \r\nL 117.092499 192.763632 \r\nL 117.153384 192.911198 \r\nL 117.336039 193.704576 \r\nL 117.884003 194.574584 \r\nL 117.944888 194.446501 \r\nL 118.005773 194.54287 \r\nL 118.127542 194.748523 \r\nL 118.188427 194.711281 \r\nL 118.371082 194.336067 \r\nL 118.553737 194.72521 \r\nL 118.736391 193.309477 \r\nL 118.797276 193.30093 \r\nL 118.858161 194.448287 \r\nL 118.919046 194.328756 \r\nL 118.979931 194.40511 \r\nL 119.040816 194.048297 \r\nL 119.101701 194.304414 \r\nL 119.223471 194.51115 \r\nL 119.284356 194.765762 \r\nL 119.34524 194.638399 \r\nL 119.406125 194.745643 \r\nL 119.46701 193.39541 \r\nL 119.527895 193.693082 \r\nL 119.649665 194.187566 \r\nL 119.71055 193.629338 \r\nL 119.771435 193.986197 \r\nL 120.014974 194.845016 \r\nL 120.075859 194.494271 \r\nL 120.136744 194.642131 \r\nL 120.441169 195.309335 \r\nL 120.502054 195.40891 \r\nL 120.562938 195.259981 \r\nL 120.623823 195.439257 \r\nL 120.684708 195.336958 \r\nL 120.745593 195.33014 \r\nL 121.293557 196.296819 \r\nL 121.354442 196.057128 \r\nL 121.415327 196.125677 \r\nL 121.780637 196.393387 \r\nL 121.841521 195.960796 \r\nL 121.902406 196.104641 \r\nL 122.328601 196.69432 \r\nL 123.241874 197.102277 \r\nL 123.363644 197.16033 \r\nL 123.668069 197.391164 \r\nL 123.728954 197.368065 \r\nL 123.911608 197.537295 \r\nL 124.337803 197.590763 \r\nL 124.520457 197.820576 \r\nL 124.885767 197.932055 \r\nL 125.007537 197.832832 \r\nL 125.129306 198.061591 \r\nL 126.468774 198.255536 \r\nL 126.651429 198.029307 \r\nL 126.712314 198.062314 \r\nL 126.773199 198.355178 \r\nL 126.834084 198.248956 \r\nL 126.955853 198.218245 \r\nL 127.016738 198.167815 \r\nL 127.077623 198.762375 \r\nL 127.138508 198.739111 \r\nL 127.382048 198.590124 \r\nL 127.503818 198.883367 \r\nL 127.930012 198.526981 \r\nL 127.990897 198.948738 \r\nL 128.051782 198.922464 \r\nL 128.234436 198.915569 \r\nL 128.356206 198.94026 \r\nL 128.417091 198.882783 \r\nL 128.538861 199.341707 \r\nL 128.782401 199.401715 \r\nL 128.965055 199.56397 \r\nL 129.14771 199.633688 \r\nL 129.39125 199.714969 \r\nL 130.426293 199.900775 \r\nL 130.608948 200.142651 \r\nL 130.669833 200.034482 \r\nL 130.730718 200.070863 \r\nL 130.852487 200.16933 \r\nL 130.913372 199.532966 \r\nL 130.974257 199.690402 \r\nL 131.035142 199.455943 \r\nL 131.096027 199.555261 \r\nL 131.156912 199.436811 \r\nL 131.217797 199.578386 \r\nL 131.278682 198.590518 \r\nL 131.339567 198.72867 \r\nL 131.643991 199.867728 \r\nL 131.704876 199.483409 \r\nL 131.765761 199.627493 \r\nL 131.948416 199.887159 \r\nL 132.070185 200.236161 \r\nL 132.13107 200.084884 \r\nL 132.61815 200.834263 \r\nL 132.739919 200.665116 \r\nL 133.166114 201.046903 \r\nL 133.287883 201.05891 \r\nL 135.60151 201.810015 \r\nL 135.784165 201.746208 \r\nL 135.966819 201.537294 \r\nL 136.271244 201.524437 \r\nL 136.393014 201.621342 \r\nL 136.819208 201.423321 \r\nL 137.001863 201.321486 \r\nL 137.306287 200.975203 \r\nL 137.488942 201.323637 \r\nL 137.610712 201.06052 \r\nL 137.732481 201.291082 \r\nL 137.793366 201.262403 \r\nL 137.854251 201.629857 \r\nL 137.915136 201.559775 \r\nL 138.036906 201.524226 \r\nL 138.280446 201.330222 \r\nL 138.4631 200.930585 \r\nL 138.523985 202.136806 \r\nL 138.58487 202.127857 \r\nL 138.70664 202.079146 \r\nL 138.82841 202.754316 \r\nL 139.802568 202.999365 \r\nL 140.472302 202.757208 \r\nL 140.654957 202.670623 \r\nL 140.837612 202.586228 \r\nL 140.959381 203.308824 \r\nL 141.324691 203.313835 \r\nL 141.446461 203.31948 \r\nL 141.629115 203.140137 \r\nL 141.872655 203.110648 \r\nL 141.994425 203.048414 \r\nL 142.116195 203.300878 \r\nL 142.17708 203.262646 \r\nL 142.298849 203.513636 \r\nL 142.664159 203.666308 \r\nL 142.907698 203.518026 \r\nL 142.968583 203.476747 \r\nL 143.212123 203.958909 \r\nL 143.455662 204.124916 \r\nL 143.577432 204.233052 \r\nL 143.638317 204.132134 \r\nL 143.699202 204.187948 \r\nL 144.003627 204.283775 \r\nL 144.125396 204.275782 \r\nL 144.186281 204.092838 \r\nL 144.247166 204.157833 \r\nL 144.368936 204.208622 \r\nL 144.551591 204.343438 \r\nL 144.734245 204.267665 \r\nL 145.221325 204.57577 \r\nL 145.647519 204.554921 \r\nL 145.708404 204.029864 \r\nL 145.769289 204.108523 \r\nL 146.499908 204.814446 \r\nL 146.560793 204.658848 \r\nL 146.621678 204.726657 \r\nL 147.047872 205.030031 \r\nL 147.291411 205.114782 \r\nL 147.474066 204.279984 \r\nL 147.534951 204.421164 \r\nL 147.595836 202.1015 \r\nL 147.656721 202.301393 \r\nL 147.778491 202.722509 \r\nL 147.839376 201.322549 \r\nL 147.900261 201.574078 \r\nL 148.38734 203.693001 \r\nL 148.448225 203.916474 \r\nL 148.50911 203.676599 \r\nL 148.569994 203.880239 \r\nL 148.813534 204.409988 \r\nL 148.874419 203.570877 \r\nL 148.935304 203.754985 \r\nL 149.300613 204.579982 \r\nL 149.483268 205.142652 \r\nL 149.726808 205.307882 \r\nL 150.092117 205.915967 \r\nL 150.274772 205.311619 \r\nL 150.518311 205.615326 \r\nL 150.579196 205.132847 \r\nL 150.640081 205.353754 \r\nL 151.005391 206.021271 \r\nL 151.066276 206.084746 \r\nL 151.24893 206.438592 \r\nL 151.918664 206.664572 \r\nL 151.979549 206.511946 \r\nL 152.040434 206.540899 \r\nL 152.162204 206.506593 \r\nL 152.223089 206.397407 \r\nL 152.283974 206.482103 \r\nL 152.710168 206.870152 \r\nL 152.953708 206.938007 \r\nL 153.075477 206.93347 \r\nL 154.110521 207.114764 \r\nL 154.35406 207.093808 \r\nL 154.414945 207.215197 \r\nL 154.47583 207.174279 \r\nL 155.023794 207.232339 \r\nL 155.145564 207.242055 \r\nL 155.876183 207.49965 \r\nL 156.302377 207.597025 \r\nL 156.363262 207.61108 \r\nL 156.424147 202.539981 \r\nL 156.485032 202.833251 \r\nL 156.728572 204.281083 \r\nL 156.789457 203.580278 \r\nL 156.850341 203.837721 \r\nL 157.215651 205.01404 \r\nL 157.276536 204.894499 \r\nL 157.337421 205.002928 \r\nL 157.520075 205.664482 \r\nL 157.763615 206.268649 \r\nL 157.885385 207.311364 \r\nL 158.372464 207.809089 \r\nL 158.494234 207.986043 \r\nL 158.555119 207.635302 \r\nL 158.616004 207.702946 \r\nL 158.676889 207.779155 \r\nL 158.859543 207.174387 \r\nL 158.920428 207.297558 \r\nL 159.407507 207.994652 \r\nL 159.468392 207.874388 \r\nL 159.651047 207.811921 \r\nL 159.772817 207.913265 \r\nL 159.833702 207.659357 \r\nL 159.894587 207.684755 \r\nL 160.077241 208.016194 \r\nL 160.199011 208.108882 \r\nL 160.503436 208.470754 \r\nL 160.564321 208.503801 \r\nL 160.625205 208.235106 \r\nL 160.68609 208.302836 \r\nL 160.746975 208.412358 \r\nL 160.80786 208.092052 \r\nL 160.868745 208.151461 \r\nL 161.294939 208.74251 \r\nL 161.903788 208.863093 \r\nL 161.964673 208.502941 \r\nL 162.025558 208.541803 \r\nL 162.086443 208.653299 \r\nL 162.147328 208.617022 \r\nL 162.208213 208.63463 \r\nL 162.269098 208.312303 \r\nL 162.329983 208.472657 \r\nL 163.060602 209.139807 \r\nL 163.304141 209.279957 \r\nL 163.365026 209.087046 \r\nL 163.425911 209.140851 \r\nL 163.669451 209.226248 \r\nL 163.791221 208.80197 \r\nL 163.973875 208.93774 \r\nL 164.095645 209.104688 \r\nL 164.15653 208.848282 \r\nL 164.217415 208.884992 \r\nL 164.40007 208.991864 \r\nL 164.704494 209.306078 \r\nL 164.765379 209.294474 \r\nL 164.826264 209.133773 \r\nL 164.887149 209.218901 \r\nL 164.948034 203.6136 \r\nL 165.008919 203.795408 \r\nL 165.130688 204.407932 \r\nL 165.191573 203.729712 \r\nL 165.252458 203.842223 \r\nL 165.556883 205.599499 \r\nL 165.617768 205.579697 \r\nL 165.800422 206.941999 \r\nL 166.409271 208.410992 \r\nL 166.470156 208.484923 \r\nL 166.591926 209.38792 \r\nL 167.322545 209.900038 \r\nL 167.38343 209.913919 \r\nL 167.566085 210.210281 \r\nL 167.626969 210.015892 \r\nL 167.687854 210.122758 \r\nL 167.748739 210.14646 \r\nL 167.809624 209.949948 \r\nL 167.870509 209.990515 \r\nL 168.053164 209.947592 \r\nL 168.601128 210.358877 \r\nL 168.783783 210.173074 \r\nL 168.844668 210.043885 \r\nL 168.905552 210.086339 \r\nL 169.088207 210.262198 \r\nL 169.149092 209.888108 \r\nL 169.209977 210.177962 \r\nL 169.392632 210.255195 \r\nL 169.636171 210.50064 \r\nL 169.757941 210.526869 \r\nL 169.818826 210.38476 \r\nL 169.879711 210.419901 \r\nL 170.001481 210.568276 \r\nL 170.062366 210.474342 \r\nL 170.123251 210.522949 \r\nL 170.36679 210.619185 \r\nL 170.61033 210.691764 \r\nL 170.914754 210.777929 \r\nL 171.158294 210.696903 \r\nL 171.401834 210.429175 \r\nL 171.888913 210.816844 \r\nL 171.949798 210.624234 \r\nL 172.010683 210.712879 \r\nL 172.254222 210.872508 \r\nL 172.315107 210.386685 \r\nL 172.375992 210.408528 \r\nL 172.558647 210.796021 \r\nL 172.619532 210.624462 \r\nL 172.680417 210.676062 \r\nL 172.802186 210.718442 \r\nL 172.923956 210.819612 \r\nL 172.984841 210.607794 \r\nL 173.045726 210.685123 \r\nL 173.59369 210.994857 \r\nL 173.654575 211.020435 \r\nL 173.71546 210.870122 \r\nL 173.776345 210.932299 \r\nL 174.385194 211.123373 \r\nL 174.446079 210.827793 \r\nL 174.506964 210.876878 \r\nL 174.567849 207.094241 \r\nL 174.628733 207.198411 \r\nL 174.872273 208.114465 \r\nL 174.933158 207.797421 \r\nL 174.994043 207.921743 \r\nL 175.054928 208.029048 \r\nL 175.298467 208.890542 \r\nL 175.602892 209.722098 \r\nL 175.663777 209.264954 \r\nL 175.724662 209.563713 \r\nL 175.785547 209.691441 \r\nL 175.968201 210.258198 \r\nL 176.211741 210.767313 \r\nL 176.394396 211.212923 \r\nL 176.455281 211.160313 \r\nL 177.185899 211.584813 \r\nL 177.307669 211.456151 \r\nL 177.672979 211.690044 \r\nL 177.794748 211.738064 \r\nL 178.099173 211.878558 \r\nL 179.195101 212.048231 \r\nL 179.255986 211.865208 \r\nL 179.316871 211.917119 \r\nL 180.16926 212.128088 \r\nL 180.29103 212.080798 \r\nL 180.473684 212.090508 \r\nL 181.204303 212.123991 \r\nL 181.386958 212.107315 \r\nL 181.447843 212.265278 \r\nL 181.508728 212.20578 \r\nL 181.874037 212.262678 \r\nL 182.300231 212.300701 \r\nL 182.482886 212.407323 \r\nL 183.15262 212.452858 \r\nL 183.335275 212.514759 \r\nL 185.892441 212.64009 \r\nL 186.075095 212.866297 \r\nL 186.25775 212.729031 \r\nL 187.049254 212.602403 \r\nL 187.414563 212.513612 \r\nL 187.658103 212.396342 \r\nL 187.779873 212.263624 \r\nL 187.840758 212.495989 \r\nL 187.901643 212.476698 \r\nL 188.023412 212.471842 \r\nL 188.084297 212.77553 \r\nL 188.145182 212.748663 \r\nL 189.058456 212.744012 \r\nL 189.24111 212.618606 \r\nL 189.423765 212.48127 \r\nL 189.545535 212.485327 \r\nL 189.667305 212.368535 \r\nL 189.789075 212.658387 \r\nL 189.84996 212.609373 \r\nL 190.154384 213.074074 \r\nL 190.337039 212.954854 \r\nL 190.458809 213.132083 \r\nL 190.702348 213.105229 \r\nL 190.824118 213.324045 \r\nL 191.128543 213.333021 \r\nL 191.493852 213.402158 \r\nL 192.346241 213.334778 \r\nL 192.46801 213.570494 \r\nL 193.442169 213.596695 \r\nL 193.624824 213.651994 \r\nL 193.868363 213.718023 \r\nL 193.990133 213.709584 \r\nL 194.111903 213.404794 \r\nL 194.172788 213.454762 \r\nL 194.477212 213.610532 \r\nL 195.207831 213.857142 \r\nL 195.268716 213.674244 \r\nL 195.329601 213.767904 \r\nL 195.755795 213.931044 \r\nL 195.93845 213.863022 \r\nL 195.999335 213.869901 \r\nL 196.06022 213.738472 \r\nL 196.242874 213.908936 \r\nL 196.364644 213.912966 \r\nL 196.608184 213.832367 \r\nL 196.729954 213.778699 \r\nL 196.851724 213.897856 \r\nL 196.912608 213.814555 \r\nL 196.973493 213.87782 \r\nL 197.277918 214.010263 \r\nL 197.582342 214.120886 \r\nL 198.556501 214.236222 \r\nL 198.860925 214.261035 \r\nL 200.078623 214.334296 \r\nL 200.261278 214.223962 \r\nL 200.383048 214.263789 \r\nL 200.931012 214.146521 \r\nL 201.113667 214.50782 \r\nL 201.844286 214.532118 \r\nL 202.818444 214.63129 \r\nL 203.549063 214.681247 \r\nL 204.279682 214.601707 \r\nL 204.584106 214.625993 \r\nL 204.766761 214.768672 \r\nL 204.888531 214.773823 \r\nL 205.37561 214.807903 \r\nL 205.984459 214.717777 \r\nL 206.045344 214.628464 \r\nL 206.106229 214.700826 \r\nL 206.227999 214.814099 \r\nL 207.871891 214.736226 \r\nL 207.993661 214.746226 \r\nL 208.115431 214.673721 \r\nL 208.298086 214.834104 \r\nL 208.60251 214.735129 \r\nL 209.272244 214.753804 \r\nL 209.333129 214.750507 \r\nL 209.454899 214.959315 \r\nL 209.881093 214.975296 \r\nL 211.037906 214.86858 \r\nL 211.159676 214.384675 \r\nL 211.281446 214.694709 \r\nL 211.464101 214.381841 \r\nL 211.768525 214.178015 \r\nL 212.133834 214.744982 \r\nL 212.316489 214.683605 \r\nL 212.438259 214.796682 \r\nL 212.560029 214.775387 \r\nL 212.742684 214.97083 \r\nL 212.864453 215.019014 \r\nL 213.047108 215.093212 \r\nL 213.168878 215.089323 \r\nL 213.351533 215.259138 \r\nL 213.534187 215.116659 \r\nL 213.777727 215.19826 \r\nL 214.264806 215.218181 \r\nL 214.447461 214.964123 \r\nL 214.691 215.029038 \r\nL 214.751885 214.946558 \r\nL 214.81277 215.029481 \r\nL 214.995425 214.990002 \r\nL 215.117195 215.046717 \r\nL 215.360734 215.268591 \r\nL 215.908699 215.286778 \r\nL 216.030468 214.96751 \r\nL 216.274008 215.042866 \r\nL 216.639317 215.432995 \r\nL 217.613476 215.387279 \r\nL 217.9179 215.319722 \r\nL 217.978785 215.504802 \r\nL 218.03967 215.459304 \r\nL 218.40498 215.470395 \r\nL 218.952944 215.465214 \r\nL 219.318253 215.616286 \r\nL 220.170642 215.558601 \r\nL 220.840376 215.432197 \r\nL 220.962146 215.3789 \r\nL 221.023031 214.972081 \r\nL 221.083915 215.10626 \r\nL 221.1448 215.095271 \r\nL 221.205685 215.289942 \r\nL 221.26657 215.202247 \r\nL 221.692764 215.109515 \r\nL 221.875419 215.759748 \r\nL 221.936304 215.670751 \r\nL 222.058074 215.769079 \r\nL 222.666923 215.629734 \r\nL 223.519312 215.671285 \r\nL 223.701966 215.555863 \r\nL 224.006391 215.613765 \r\nL 224.3717 215.462516 \r\nL 224.61524 215.847357 \r\nL 224.980549 215.824057 \r\nL 225.406744 215.826381 \r\nL 225.589398 215.951932 \r\nL 227.111521 215.967765 \r\nL 227.294176 216.019118 \r\nL 227.47683 215.951159 \r\nL 228.390104 216.063203 \r\nL 228.816298 215.96087 \r\nL 229.059838 215.864787 \r\nL 229.364262 215.830237 \r\nL 229.425147 215.970618 \r\nL 229.486032 215.938072 \r\nL 229.790457 215.882343 \r\nL 230.216651 216.092005 \r\nL 231.982313 215.913413 \r\nL 232.164968 215.901493 \r\nL 232.591162 216.12608 \r\nL 232.652047 216.118872 \r\nL 232.773817 215.857931 \r\nL 232.956472 216.165429 \r\nL 233.200011 216.147498 \r\nL 233.382666 216.008879 \r\nL 233.565321 215.96098 \r\nL 233.687091 215.85077 \r\nL 233.747976 215.991548 \r\nL 233.80886 215.947128 \r\nL 233.93063 215.915974 \r\nL 233.991515 215.87197 \r\nL 234.0524 215.973324 \r\nL 234.113285 215.933693 \r\nL 234.29594 215.995967 \r\nL 234.478594 215.71732 \r\nL 234.904789 215.56083 \r\nL 234.965674 215.443468 \r\nL 235.087443 215.606832 \r\nL 235.330983 215.579471 \r\nL 235.391868 215.695179 \r\nL 235.635408 215.347343 \r\nL 235.696292 215.286482 \r\nL 235.818062 215.398245 \r\nL 236.000717 215.331083 \r\nL 236.061602 215.487324 \r\nL 236.122487 215.439853 \r\nL 236.305141 215.423164 \r\nL 236.366026 215.346537 \r\nL 236.487796 215.588001 \r\nL 236.853106 215.462866 \r\nL 236.974875 215.364705 \r\nL 237.15753 215.529619 \r\nL 237.340185 215.547777 \r\nL 237.644609 215.640093 \r\nL 237.705494 215.669782 \r\nL 237.888149 215.361592 \r\nL 238.009919 215.394767 \r\nL 238.131689 215.830502 \r\nL 238.496998 215.907484 \r\nL 238.862307 215.849778 \r\nL 239.105847 215.861591 \r\nL 239.349387 215.745206 \r\nL 239.958236 216.471214 \r\nL 240.5062 216.48564 \r\nL 241.541243 216.502952 \r\nL 244.585488 216.554741 \r\nL 244.889913 216.483735 \r\nL 245.072568 216.53106 \r\nL 245.255222 216.579174 \r\nL 245.376992 216.706921 \r\nL 245.864071 216.768165 \r\nL 247.325309 216.794048 \r\nL 247.629734 216.844528 \r\nL 250.856634 216.833552 \r\nL 251.039288 216.595704 \r\nL 251.100173 216.644566 \r\nL 251.830792 216.991696 \r\nL 252.196101 216.999623 \r\nL 252.317871 216.953486 \r\nL 253.352915 217.031689 \r\nL 253.596454 217.016118 \r\nL 254.205303 217.078515 \r\nL 254.875037 217.103611 \r\nL 255.727426 217.070063 \r\nL 256.15362 217.022884 \r\nL 256.51893 216.995964 \r\nL 256.701584 217.03588 \r\nL 257.066894 216.962931 \r\nL 257.614858 217.211827 \r\nL 258.101937 217.220142 \r\nL 258.223707 217.076561 \r\nL 258.406362 217.236498 \r\nL 259.989369 217.221324 \r\nL 260.111139 217.080961 \r\nL 260.293794 217.05937 \r\nL 260.476448 216.844319 \r\nL 260.537333 216.835176 \r\nL 260.659103 217.03385 \r\nL 261.024413 217.036826 \r\nL 261.085298 217.039538 \r\nL 261.207067 217.161067 \r\nL 261.511492 217.093467 \r\nL 261.633262 217.037401 \r\nL 261.755031 217.157385 \r\nL 262.242111 217.162936 \r\nL 262.424765 216.98253 \r\nL 262.72919 217.016188 \r\nL 262.790075 216.97219 \r\nL 262.85096 217.134125 \r\nL 262.911845 217.09166 \r\nL 263.581579 217.160665 \r\nL 263.642463 216.879663 \r\nL 263.703348 216.935627 \r\nL 263.764233 216.928972 \r\nL 263.946888 217.082817 \r\nL 264.129543 217.101425 \r\nL 264.373082 217.228071 \r\nL 264.616622 217.203705 \r\nL 265.103701 217.16885 \r\nL 265.286356 217.178217 \r\nL 265.529896 217.153333 \r\nL 265.59078 216.985612 \r\nL 265.651665 217.010619 \r\nL 265.95609 217.014009 \r\nL 266.07786 217.189115 \r\nL 267.112903 216.987665 \r\nL 267.417328 217.074024 \r\nL 267.478212 216.89095 \r\nL 267.599982 217.292751 \r\nL 267.660867 217.239014 \r\nL 267.721752 217.325113 \r\nL 267.965292 217.388165 \r\nL 268.452371 217.414031 \r\nL 268.635026 217.208751 \r\nL 269.000335 217.311515 \r\nL 269.122105 217.344874 \r\nL 269.30476 217.485522 \r\nL 271.131307 217.529574 \r\nL 272.470775 217.577265 \r\nL 272.836084 217.582893 \r\nL 273.810243 217.60038 \r\nL 274.601746 217.64109 \r\nL 278.86369 217.547206 \r\nL 279.046344 217.599276 \r\nL 282.334129 217.802453 \r\nL 282.455899 217.719297 \r\nL 283.125633 217.855634 \r\nL 283.673597 217.825163 \r\nL 283.795367 217.819664 \r\nL 283.856252 217.62255 \r\nL 283.917137 217.67506 \r\nL 284.586871 217.77732 \r\nL 284.95218 217.88739 \r\nL 289.579433 217.854068 \r\nL 289.762087 217.962985 \r\nL 290.066512 217.982917 \r\nL 292.806333 217.95668 \r\nL 292.988987 218.021565 \r\nL 293.902261 218.015581 \r\nL 294.024031 217.835965 \r\nL 294.26757 217.90081 \r\nL 296.155002 217.924697 \r\nL 296.398542 217.895756 \r\nL 296.642082 217.926613 \r\nL 296.824736 217.946081 \r\nL 297.433585 218.042352 \r\nL 298.712168 218.106873 \r\nL 299.929866 217.966134 \r\nL 300.173406 217.91249 \r\nL 300.538715 217.975796 \r\nL 300.904025 217.994947 \r\nL 303.643846 218.103504 \r\nL 304.19181 218.019527 \r\nL 304.374464 218.102825 \r\nL 309.306142 218.179523 \r\nL 309.914991 218.112486 \r\nL 310.40207 218.097539 \r\nL 310.706494 217.834186 \r\nL 310.889149 217.593314 \r\nL 311.071804 217.634001 \r\nL 311.193574 217.857557 \r\nL 311.376228 218.01629 \r\nL 312.045962 218.197012 \r\nL 312.959236 218.290869 \r\nL 313.38543 218.258436 \r\nL 313.5072 218.036424 \r\nL 313.568085 218.065744 \r\nL 313.689855 217.911145 \r\nL 313.933394 217.893321 \r\nL 313.994279 217.88177 \r\nL 314.176934 218.221491 \r\nL 315.029323 218.238776 \r\nL 316.125251 218.261921 \r\nL 316.307906 218.116371 \r\nL 318.743302 218.310716 \r\nL 319.108611 218.293063 \r\nL 322.031087 218.260008 \r\nL 322.274626 218.318859 \r\nL 324.222943 218.330075 \r\nL 325.075332 218.346838 \r\nL 326.29303 218.388076 \r\nL 326.475685 218.365229 \r\nL 327.815153 218.382812 \r\nL 327.997807 218.254813 \r\nL 328.058692 218.212692 \r\nL 328.241347 217.930252 \r\nL 328.363117 218.072616 \r\nL 328.606656 218.062217 \r\nL 328.728426 218.316917 \r\nL 329.032851 218.337896 \r\nL 329.6417 218.364755 \r\nL 330.676743 218.324494 \r\nL 330.798513 218.216988 \r\nL 331.102937 218.333308 \r\nL 331.224707 218.268477 \r\nL 331.590017 218.327859 \r\nL 331.833556 218.337843 \r\nL 332.077096 218.388356 \r\nL 332.320635 218.285422 \r\nL 332.564175 218.300229 \r\nL 333.416564 218.34044 \r\nL 333.599218 218.458808 \r\nL 335.243111 218.439051 \r\nL 335.912845 218.449917 \r\nL 338.287356 218.469276 \r\nL 341.757796 218.483335 \r\nL 341.879565 218.102433 \r\nL 343.036379 218.459552 \r\nL 343.706113 218.467466 \r\nL 343.827882 218.354618 \r\nL 344.132307 218.349028 \r\nL 344.254077 218.267429 \r\nL 344.497616 218.421381 \r\nL 345.837084 218.423752 \r\nL 346.019739 218.41564 \r\nL 346.506818 218.416401 \r\nL 346.506818 218.416401 \r\n\" style=\"fill:none;stroke:#0000ff;stroke-linecap:square;stroke-width:1.5;\"/>\r\n   </g>\r\n   <g id=\"patch_3\">\r\n    <path d=\"M 26.925 228.367384 \r\nL 26.925 10.927384 \r\n\" style=\"fill:none;stroke:#000000;stroke-linecap:square;stroke-linejoin:miter;stroke-width:0.8;\"/>\r\n   </g>\r\n   <g id=\"patch_4\">\r\n    <path d=\"M 361.725 228.367384 \r\nL 361.725 10.927384 \r\n\" style=\"fill:none;stroke:#000000;stroke-linecap:square;stroke-linejoin:miter;stroke-width:0.8;\"/>\r\n   </g>\r\n   <g id=\"patch_5\">\r\n    <path d=\"M 26.925 228.367384 \r\nL 361.725 228.367384 \r\n\" style=\"fill:none;stroke:#000000;stroke-linecap:square;stroke-linejoin:miter;stroke-width:0.8;\"/>\r\n   </g>\r\n   <g id=\"patch_6\">\r\n    <path d=\"M 26.925 10.927384 \r\nL 361.725 10.927384 \r\n\" style=\"fill:none;stroke:#000000;stroke-linecap:square;stroke-linejoin:miter;stroke-width:0.8;\"/>\r\n   </g>\r\n  </g>\r\n </g>\r\n <defs>\r\n  <clipPath id=\"pd37636a68d\">\r\n   <rect height=\"217.44\" width=\"334.8\" x=\"26.925\" y=\"10.927384\"/>\r\n  </clipPath>\r\n </defs>\r\n</svg>\r\n",
      "image/png": "[encoded data removed]"
     },
     "metadata": {
      "needs_background": "light"
     }
    }
   ],
   "source": [
    "plt.plot(np.arange(n_iter),j_stoch,\"b-\")\n",
    "plt.grid(True)\n",
    "plt.show()"
   ]
  },
  {
   "cell_type": "code",
   "execution_count": 124,
   "metadata": {},
   "outputs": [
    {
     "output_type": "execute_result",
     "data": {
      "text/plain": [
       "[5.037348919416747,\n",
       " 5.907064388085902,\n",
       " 5.773493778893251,\n",
       " 5.534852004614142,\n",
       " 5.3751940579351105,\n",
       " 5.5848589207850505,\n",
       " 5.974720802574979,\n",
       " 6.803443649234985,\n",
       " 6.803443649234985,\n",
       " 5.9223343248820495]"
      ]
     },
     "metadata": {},
     "execution_count": 124
    }
   ],
   "source": [
    "prediction_stoch_des = []\n",
    "\n",
    "for i in range(len(x_test)):\n",
    "    prediction_stoch_des.append(prediction_raw(theta_stoch, x_test, i))\n",
    "prediction_stoch_des[:10]"
   ]
  },
  {
   "cell_type": "code",
   "execution_count": 125,
   "metadata": {},
   "outputs": [
    {
     "output_type": "execute_result",
     "data": {
      "text/plain": [
       "array([[5.72234168],\n",
       "       [5.67508873],\n",
       "       [5.38668875],\n",
       "       [5.8991857 ],\n",
       "       [5.84838829],\n",
       "       [6.60509892],\n",
       "       [6.37785715],\n",
       "       [5.68674151],\n",
       "       [5.68674151],\n",
       "       [5.65741127]])"
      ]
     },
     "metadata": {},
     "execution_count": 125
    }
   ],
   "source": [
    " predictions = lm.predict(x_test)\n",
    " predictions[:10]"
   ]
  },
  {
   "source": [
    "# Mini-Batch Gradient Descent"
   ],
   "cell_type": "markdown",
   "metadata": {}
  },
  {
   "cell_type": "code",
   "execution_count": 26,
   "metadata": {},
   "outputs": [
    {
     "output_type": "execute_result",
     "data": {
      "text/plain": [
       "array([[ 1.   ,  7.4  ,  0.7  , ...,  3.51 ,  0.56 ,  9.4  ],\n",
       "       [ 1.   ,  7.8  ,  0.88 , ...,  3.2  ,  0.68 ,  9.8  ],\n",
       "       [ 1.   ,  7.8  ,  0.76 , ...,  3.26 ,  0.65 ,  9.8  ],\n",
       "       ...,\n",
       "       [ 1.   ,  8.   ,  0.715, ...,  3.24 ,  0.54 ,  9.5  ],\n",
       "       [ 1.   ,  9.8  ,  0.3  , ...,  3.14 ,  0.57 , 11.5  ],\n",
       "       [ 1.   ,  7.1  ,  0.46 , ...,  3.37 ,  0.64 , 10.4  ]])"
      ]
     },
     "metadata": {},
     "execution_count": 26
    }
   ],
   "source": [
    "x_train"
   ]
  },
  {
   "cell_type": "code",
   "execution_count": 27,
   "metadata": {},
   "outputs": [
    {
     "output_type": "execute_result",
     "data": {
      "text/plain": [
       "array([[5],\n",
       "       [5],\n",
       "       [5],\n",
       "       ...,\n",
       "       [6],\n",
       "       [7],\n",
       "       [6]])"
      ]
     },
     "metadata": {},
     "execution_count": 27
    }
   ],
   "source": [
    "y_train"
   ]
  },
  {
   "cell_type": "code",
   "execution_count": 28,
   "metadata": {},
   "outputs": [
    {
     "output_type": "execute_result",
     "data": {
      "text/plain": [
       "array([[ 1.41131938],\n",
       "       [-1.6884604 ],\n",
       "       [ 0.51680012],\n",
       "       [ 0.10664128],\n",
       "       [ 0.16880888],\n",
       "       [ 0.27508185],\n",
       "       [-0.00517314],\n",
       "       [ 0.14997209],\n",
       "       [ 0.5379948 ],\n",
       "       [-0.17638169],\n",
       "       [-1.63864795],\n",
       "       [ 1.03151669]])"
      ]
     },
     "metadata": {},
     "execution_count": 28
    }
   ],
   "source": [
    "theta_mini = np.random.randn(12).reshape(12,1)\n",
    "theta_mini"
   ]
  },
  {
   "cell_type": "code",
   "execution_count": 128,
   "metadata": {},
   "outputs": [
    {
     "output_type": "execute_result",
     "data": {
      "text/plain": [
       "array([1., 1., 1., 1., 1., 1., 1., 1., 1., 1., 1., 1.])"
      ]
     },
     "metadata": {},
     "execution_count": 128
    }
   ],
   "source": [
    "number_of_features = x_train.shape[1]\n",
    "\n",
    "theta_mini =  np.ones(shape=(number_of_features)) \n",
    "theta_mini"
   ]
  },
  {
   "cell_type": "code",
   "execution_count": 153,
   "metadata": {},
   "outputs": [
    {
     "output_type": "execute_result",
     "data": {
      "text/plain": [
       "array([ 0.77206759, -0.01610119, -0.02813931,  0.86022685, -0.0066822 ,\n",
       "        0.74687915,  0.00678098, -0.00454272,  0.76893315,  0.06094787,\n",
       "        0.71334645,  0.32930547])"
      ]
     },
     "metadata": {},
     "execution_count": 153
    }
   ],
   "source": [
    "eta = 0.01\n",
    "n_iter = 1000\n",
    "m = x_train.shape[0]\n",
    "batch_size = 5\n",
    "\n",
    "num_batches = int(m/batch_size)\n",
    "j_mini = np.zeros(n_iter)\n",
    "\n",
    "\n",
    "for i in range(n_iter):\n",
    "    random_indices = np.random.permutation(m)\n",
    "    x_batch_size = x_train[random_indices]\n",
    "    y_batch_size = y_train[random_indices]\n",
    "    \n",
    "    \n",
    "    \n",
    "    for j in range(0 , m , batch_size):\n",
    "        x_mini = x_batch_size[j:j + batch_size]\n",
    "        y_mini = y_batch_size[j:j + batch_size]\n",
    "        theta_mini =  theta_mini  - (eta/m) * (x_mini.T.dot(((np.dot(theta_mini, x_mini.T)) - y_mini)))  \n",
    "    j_mini[i] = (1/(2*m))* (((x_train @ theta_mini)  - y_train)**2).sum()    \n",
    "    \n",
    "theta_mini"
   ]
  },
  {
   "cell_type": "code",
   "execution_count": 150,
   "metadata": {},
   "outputs": [
    {
     "output_type": "display_data",
     "data": {
      "text/plain": "<Figure size 432x288 with 1 Axes>",
      "image/svg+xml": "<?xml version=\"1.0\" encoding=\"utf-8\" standalone=\"no\"?>\r\n<!DOCTYPE svg PUBLIC \"-//W3C//DTD SVG 1.1//EN\"\r\n  \"http://www.w3.org/Graphics/SVG/1.1/DTD/svg11.dtd\">\r\n<!-- Created with matplotlib (https://matplotlib.org/) -->\r\n<svg height=\"248.518125pt\" version=\"1.1\" viewBox=\"0 0 378.465625 248.518125\" width=\"378.465625pt\" xmlns=\"http://www.w3.org/2000/svg\" xmlns:xlink=\"http://www.w3.org/1999/xlink\">\r\n <metadata>\r\n  <rdf:RDF xmlns:cc=\"http://creativecommons.org/ns#\" xmlns:dc=\"http://purl.org/dc/elements/1.1/\" xmlns:rdf=\"http://www.w3.org/1999/02/22-rdf-syntax-ns#\">\r\n   <cc:Work>\r\n    <dc:type rdf:resource=\"http://purl.org/dc/dcmitype/StillImage\"/>\r\n    <dc:date>2021-04-18T18:07:38.292679</dc:date>\r\n    <dc:format>image/svg+xml</dc:format>\r\n    <dc:creator>\r\n     <cc:Agent>\r\n      <dc:title>Matplotlib v3.3.4, https://matplotlib.org/</dc:title>\r\n     </cc:Agent>\r\n    </dc:creator>\r\n   </cc:Work>\r\n  </rdf:RDF>\r\n </metadata>\r\n <defs>\r\n  <style type=\"text/css\">*{stroke-linecap:butt;stroke-linejoin:round;}</style>\r\n </defs>\r\n <g id=\"figure_1\">\r\n  <g id=\"patch_1\">\r\n   <path d=\"M 0 248.518125 \r\nL 378.465625 248.518125 \r\nL 378.465625 0 \r\nL 0 0 \r\nz\r\n\" style=\"fill:none;\"/>\r\n  </g>\r\n  <g id=\"axes_1\">\r\n   <g id=\"patch_2\">\r\n    <path d=\"M 36.465625 224.64 \r\nL 371.265625 224.64 \r\nL 371.265625 7.2 \r\nL 36.465625 7.2 \r\nz\r\n\" style=\"fill:#ffffff;\"/>\r\n   </g>\r\n   <g id=\"matplotlib.axis_1\">\r\n    <g id=\"xtick_1\">\r\n     <g id=\"line2d_1\">\r\n      <path clip-path=\"url(#pe3d50b41a8)\" d=\"M 51.683807 224.64 \r\nL 51.683807 7.2 \r\n\" style=\"fill:none;stroke:#b0b0b0;stroke-linecap:square;stroke-width:0.8;\"/>\r\n     </g>\r\n     <g id=\"line2d_2\">\r\n      <defs>\r\n       <path d=\"M 0 0 \r\nL 0 3.5 \r\n\" id=\"m1b6f95e71e\" style=\"stroke:#000000;stroke-width:0.8;\"/>\r\n      </defs>\r\n      <g>\r\n       <use style=\"stroke:#000000;stroke-width:0.8;\" x=\"51.683807\" xlink:href=\"#m1b6f95e71e\" y=\"224.64\"/>\r\n      </g>\r\n     </g>\r\n     <g id=\"text_1\">\r\n      <!-- 0 -->\r\n      <g transform=\"translate(48.502557 239.238437)scale(0.1 -0.1)\">\r\n       <defs>\r\n        <path d=\"M 31.78125 66.40625 \r\nQ 24.171875 66.40625 20.328125 58.90625 \r\nQ 16.5 51.421875 16.5 36.375 \r\nQ 16.5 21.390625 20.328125 13.890625 \r\nQ 24.171875 6.390625 31.78125 6.390625 \r\nQ 39.453125 6.390625 43.28125 13.890625 \r\nQ 47.125 21.390625 47.125 36.375 \r\nQ 47.125 51.421875 43.28125 58.90625 \r\nQ 39.453125 66.40625 31.78125 66.40625 \r\nz\r\nM 31.78125 74.21875 \r\nQ 44.046875 74.21875 50.515625 64.515625 \r\nQ 56.984375 54.828125 56.984375 36.375 \r\nQ 56.984375 17.96875 50.515625 8.265625 \r\nQ 44.046875 -1.421875 31.78125 -1.421875 \r\nQ 19.53125 -1.421875 13.0625 8.265625 \r\nQ 6.59375 17.96875 6.59375 36.375 \r\nQ 6.59375 54.828125 13.0625 64.515625 \r\nQ 19.53125 74.21875 31.78125 74.21875 \r\nz\r\n\" id=\"DejaVuSans-48\"/>\r\n       </defs>\r\n       <use xlink:href=\"#DejaVuSans-48\"/>\r\n      </g>\r\n     </g>\r\n    </g>\r\n    <g id=\"xtick_2\">\r\n     <g id=\"line2d_3\">\r\n      <path clip-path=\"url(#pe3d50b41a8)\" d=\"M 112.617468 224.64 \r\nL 112.617468 7.2 \r\n\" style=\"fill:none;stroke:#b0b0b0;stroke-linecap:square;stroke-width:0.8;\"/>\r\n     </g>\r\n     <g id=\"line2d_4\">\r\n      <g>\r\n       <use style=\"stroke:#000000;stroke-width:0.8;\" x=\"112.617468\" xlink:href=\"#m1b6f95e71e\" y=\"224.64\"/>\r\n      </g>\r\n     </g>\r\n     <g id=\"text_2\">\r\n      <!-- 200 -->\r\n      <g transform=\"translate(103.073718 239.238437)scale(0.1 -0.1)\">\r\n       <defs>\r\n        <path d=\"M 19.1875 8.296875 \r\nL 53.609375 8.296875 \r\nL 53.609375 0 \r\nL 7.328125 0 \r\nL 7.328125 8.296875 \r\nQ 12.9375 14.109375 22.625 23.890625 \r\nQ 32.328125 33.6875 34.8125 36.53125 \r\nQ 39.546875 41.84375 41.421875 45.53125 \r\nQ 43.3125 49.21875 43.3125 52.78125 \r\nQ 43.3125 58.59375 39.234375 62.25 \r\nQ 35.15625 65.921875 28.609375 65.921875 \r\nQ 23.96875 65.921875 18.8125 64.3125 \r\nQ 13.671875 62.703125 7.8125 59.421875 \r\nL 7.8125 69.390625 \r\nQ 13.765625 71.78125 18.9375 73 \r\nQ 24.125 74.21875 28.421875 74.21875 \r\nQ 39.75 74.21875 46.484375 68.546875 \r\nQ 53.21875 62.890625 53.21875 53.421875 \r\nQ 53.21875 48.921875 51.53125 44.890625 \r\nQ 49.859375 40.875 45.40625 35.40625 \r\nQ 44.1875 33.984375 37.640625 27.21875 \r\nQ 31.109375 20.453125 19.1875 8.296875 \r\nz\r\n\" id=\"DejaVuSans-50\"/>\r\n       </defs>\r\n       <use xlink:href=\"#DejaVuSans-50\"/>\r\n       <use x=\"63.623047\" xlink:href=\"#DejaVuSans-48\"/>\r\n       <use x=\"127.246094\" xlink:href=\"#DejaVuSans-48\"/>\r\n      </g>\r\n     </g>\r\n    </g>\r\n    <g id=\"xtick_3\">\r\n     <g id=\"line2d_5\">\r\n      <path clip-path=\"url(#pe3d50b41a8)\" d=\"M 173.551129 224.64 \r\nL 173.551129 7.2 \r\n\" style=\"fill:none;stroke:#b0b0b0;stroke-linecap:square;stroke-width:0.8;\"/>\r\n     </g>\r\n     <g id=\"line2d_6\">\r\n      <g>\r\n       <use style=\"stroke:#000000;stroke-width:0.8;\" x=\"173.551129\" xlink:href=\"#m1b6f95e71e\" y=\"224.64\"/>\r\n      </g>\r\n     </g>\r\n     <g id=\"text_3\">\r\n      <!-- 400 -->\r\n      <g transform=\"translate(164.007379 239.238437)scale(0.1 -0.1)\">\r\n       <defs>\r\n        <path d=\"M 37.796875 64.3125 \r\nL 12.890625 25.390625 \r\nL 37.796875 25.390625 \r\nz\r\nM 35.203125 72.90625 \r\nL 47.609375 72.90625 \r\nL 47.609375 25.390625 \r\nL 58.015625 25.390625 \r\nL 58.015625 17.1875 \r\nL 47.609375 17.1875 \r\nL 47.609375 0 \r\nL 37.796875 0 \r\nL 37.796875 17.1875 \r\nL 4.890625 17.1875 \r\nL 4.890625 26.703125 \r\nz\r\n\" id=\"DejaVuSans-52\"/>\r\n       </defs>\r\n       <use xlink:href=\"#DejaVuSans-52\"/>\r\n       <use x=\"63.623047\" xlink:href=\"#DejaVuSans-48\"/>\r\n       <use x=\"127.246094\" xlink:href=\"#DejaVuSans-48\"/>\r\n      </g>\r\n     </g>\r\n    </g>\r\n    <g id=\"xtick_4\">\r\n     <g id=\"line2d_7\">\r\n      <path clip-path=\"url(#pe3d50b41a8)\" d=\"M 234.48479 224.64 \r\nL 234.48479 7.2 \r\n\" style=\"fill:none;stroke:#b0b0b0;stroke-linecap:square;stroke-width:0.8;\"/>\r\n     </g>\r\n     <g id=\"line2d_8\">\r\n      <g>\r\n       <use style=\"stroke:#000000;stroke-width:0.8;\" x=\"234.48479\" xlink:href=\"#m1b6f95e71e\" y=\"224.64\"/>\r\n      </g>\r\n     </g>\r\n     <g id=\"text_4\">\r\n      <!-- 600 -->\r\n      <g transform=\"translate(224.94104 239.238437)scale(0.1 -0.1)\">\r\n       <defs>\r\n        <path d=\"M 33.015625 40.375 \r\nQ 26.375 40.375 22.484375 35.828125 \r\nQ 18.609375 31.296875 18.609375 23.390625 \r\nQ 18.609375 15.53125 22.484375 10.953125 \r\nQ 26.375 6.390625 33.015625 6.390625 \r\nQ 39.65625 6.390625 43.53125 10.953125 \r\nQ 47.40625 15.53125 47.40625 23.390625 \r\nQ 47.40625 31.296875 43.53125 35.828125 \r\nQ 39.65625 40.375 33.015625 40.375 \r\nz\r\nM 52.59375 71.296875 \r\nL 52.59375 62.3125 \r\nQ 48.875 64.0625 45.09375 64.984375 \r\nQ 41.3125 65.921875 37.59375 65.921875 \r\nQ 27.828125 65.921875 22.671875 59.328125 \r\nQ 17.53125 52.734375 16.796875 39.40625 \r\nQ 19.671875 43.65625 24.015625 45.921875 \r\nQ 28.375 48.1875 33.59375 48.1875 \r\nQ 44.578125 48.1875 50.953125 41.515625 \r\nQ 57.328125 34.859375 57.328125 23.390625 \r\nQ 57.328125 12.15625 50.6875 5.359375 \r\nQ 44.046875 -1.421875 33.015625 -1.421875 \r\nQ 20.359375 -1.421875 13.671875 8.265625 \r\nQ 6.984375 17.96875 6.984375 36.375 \r\nQ 6.984375 53.65625 15.1875 63.9375 \r\nQ 23.390625 74.21875 37.203125 74.21875 \r\nQ 40.921875 74.21875 44.703125 73.484375 \r\nQ 48.484375 72.75 52.59375 71.296875 \r\nz\r\n\" id=\"DejaVuSans-54\"/>\r\n       </defs>\r\n       <use xlink:href=\"#DejaVuSans-54\"/>\r\n       <use x=\"63.623047\" xlink:href=\"#DejaVuSans-48\"/>\r\n       <use x=\"127.246094\" xlink:href=\"#DejaVuSans-48\"/>\r\n      </g>\r\n     </g>\r\n    </g>\r\n    <g id=\"xtick_5\">\r\n     <g id=\"line2d_9\">\r\n      <path clip-path=\"url(#pe3d50b41a8)\" d=\"M 295.418451 224.64 \r\nL 295.418451 7.2 \r\n\" style=\"fill:none;stroke:#b0b0b0;stroke-linecap:square;stroke-width:0.8;\"/>\r\n     </g>\r\n     <g id=\"line2d_10\">\r\n      <g>\r\n       <use style=\"stroke:#000000;stroke-width:0.8;\" x=\"295.418451\" xlink:href=\"#m1b6f95e71e\" y=\"224.64\"/>\r\n      </g>\r\n     </g>\r\n     <g id=\"text_5\">\r\n      <!-- 800 -->\r\n      <g transform=\"translate(285.874701 239.238437)scale(0.1 -0.1)\">\r\n       <defs>\r\n        <path d=\"M 31.78125 34.625 \r\nQ 24.75 34.625 20.71875 30.859375 \r\nQ 16.703125 27.09375 16.703125 20.515625 \r\nQ 16.703125 13.921875 20.71875 10.15625 \r\nQ 24.75 6.390625 31.78125 6.390625 \r\nQ 38.8125 6.390625 42.859375 10.171875 \r\nQ 46.921875 13.96875 46.921875 20.515625 \r\nQ 46.921875 27.09375 42.890625 30.859375 \r\nQ 38.875 34.625 31.78125 34.625 \r\nz\r\nM 21.921875 38.8125 \r\nQ 15.578125 40.375 12.03125 44.71875 \r\nQ 8.5 49.078125 8.5 55.328125 \r\nQ 8.5 64.0625 14.71875 69.140625 \r\nQ 20.953125 74.21875 31.78125 74.21875 \r\nQ 42.671875 74.21875 48.875 69.140625 \r\nQ 55.078125 64.0625 55.078125 55.328125 \r\nQ 55.078125 49.078125 51.53125 44.71875 \r\nQ 48 40.375 41.703125 38.8125 \r\nQ 48.828125 37.15625 52.796875 32.3125 \r\nQ 56.78125 27.484375 56.78125 20.515625 \r\nQ 56.78125 9.90625 50.3125 4.234375 \r\nQ 43.84375 -1.421875 31.78125 -1.421875 \r\nQ 19.734375 -1.421875 13.25 4.234375 \r\nQ 6.78125 9.90625 6.78125 20.515625 \r\nQ 6.78125 27.484375 10.78125 32.3125 \r\nQ 14.796875 37.15625 21.921875 38.8125 \r\nz\r\nM 18.3125 54.390625 \r\nQ 18.3125 48.734375 21.84375 45.5625 \r\nQ 25.390625 42.390625 31.78125 42.390625 \r\nQ 38.140625 42.390625 41.71875 45.5625 \r\nQ 45.3125 48.734375 45.3125 54.390625 \r\nQ 45.3125 60.0625 41.71875 63.234375 \r\nQ 38.140625 66.40625 31.78125 66.40625 \r\nQ 25.390625 66.40625 21.84375 63.234375 \r\nQ 18.3125 60.0625 18.3125 54.390625 \r\nz\r\n\" id=\"DejaVuSans-56\"/>\r\n       </defs>\r\n       <use xlink:href=\"#DejaVuSans-56\"/>\r\n       <use x=\"63.623047\" xlink:href=\"#DejaVuSans-48\"/>\r\n       <use x=\"127.246094\" xlink:href=\"#DejaVuSans-48\"/>\r\n      </g>\r\n     </g>\r\n    </g>\r\n    <g id=\"xtick_6\">\r\n     <g id=\"line2d_11\">\r\n      <path clip-path=\"url(#pe3d50b41a8)\" d=\"M 356.352111 224.64 \r\nL 356.352111 7.2 \r\n\" style=\"fill:none;stroke:#b0b0b0;stroke-linecap:square;stroke-width:0.8;\"/>\r\n     </g>\r\n     <g id=\"line2d_12\">\r\n      <g>\r\n       <use style=\"stroke:#000000;stroke-width:0.8;\" x=\"356.352111\" xlink:href=\"#m1b6f95e71e\" y=\"224.64\"/>\r\n      </g>\r\n     </g>\r\n     <g id=\"text_6\">\r\n      <!-- 1000 -->\r\n      <g transform=\"translate(343.627111 239.238437)scale(0.1 -0.1)\">\r\n       <defs>\r\n        <path d=\"M 12.40625 8.296875 \r\nL 28.515625 8.296875 \r\nL 28.515625 63.921875 \r\nL 10.984375 60.40625 \r\nL 10.984375 69.390625 \r\nL 28.421875 72.90625 \r\nL 38.28125 72.90625 \r\nL 38.28125 8.296875 \r\nL 54.390625 8.296875 \r\nL 54.390625 0 \r\nL 12.40625 0 \r\nz\r\n\" id=\"DejaVuSans-49\"/>\r\n       </defs>\r\n       <use xlink:href=\"#DejaVuSans-49\"/>\r\n       <use x=\"63.623047\" xlink:href=\"#DejaVuSans-48\"/>\r\n       <use x=\"127.246094\" xlink:href=\"#DejaVuSans-48\"/>\r\n       <use x=\"190.869141\" xlink:href=\"#DejaVuSans-48\"/>\r\n      </g>\r\n     </g>\r\n    </g>\r\n   </g>\r\n   <g id=\"matplotlib.axis_2\">\r\n    <g id=\"ytick_1\">\r\n     <g id=\"line2d_13\">\r\n      <path clip-path=\"url(#pe3d50b41a8)\" d=\"M 36.465625 206.010647 \r\nL 371.265625 206.010647 \r\n\" style=\"fill:none;stroke:#b0b0b0;stroke-linecap:square;stroke-width:0.8;\"/>\r\n     </g>\r\n     <g id=\"line2d_14\">\r\n      <defs>\r\n       <path d=\"M 0 0 \r\nL -3.5 0 \r\n\" id=\"ma44b8f43aa\" style=\"stroke:#000000;stroke-width:0.8;\"/>\r\n      </defs>\r\n      <g>\r\n       <use style=\"stroke:#000000;stroke-width:0.8;\" x=\"36.465625\" xlink:href=\"#ma44b8f43aa\" y=\"206.010647\"/>\r\n      </g>\r\n     </g>\r\n     <g id=\"text_7\">\r\n      <!-- 0.24 -->\r\n      <g transform=\"translate(7.2 209.809866)scale(0.1 -0.1)\">\r\n       <defs>\r\n        <path d=\"M 10.6875 12.40625 \r\nL 21 12.40625 \r\nL 21 0 \r\nL 10.6875 0 \r\nz\r\n\" id=\"DejaVuSans-46\"/>\r\n       </defs>\r\n       <use xlink:href=\"#DejaVuSans-48\"/>\r\n       <use x=\"63.623047\" xlink:href=\"#DejaVuSans-46\"/>\r\n       <use x=\"95.410156\" xlink:href=\"#DejaVuSans-50\"/>\r\n       <use x=\"159.033203\" xlink:href=\"#DejaVuSans-52\"/>\r\n      </g>\r\n     </g>\r\n    </g>\r\n    <g id=\"ytick_2\">\r\n     <g id=\"line2d_15\">\r\n      <path clip-path=\"url(#pe3d50b41a8)\" d=\"M 36.465625 176.917621 \r\nL 371.265625 176.917621 \r\n\" style=\"fill:none;stroke:#b0b0b0;stroke-linecap:square;stroke-width:0.8;\"/>\r\n     </g>\r\n     <g id=\"line2d_16\">\r\n      <g>\r\n       <use style=\"stroke:#000000;stroke-width:0.8;\" x=\"36.465625\" xlink:href=\"#ma44b8f43aa\" y=\"176.917621\"/>\r\n      </g>\r\n     </g>\r\n     <g id=\"text_8\">\r\n      <!-- 0.25 -->\r\n      <g transform=\"translate(7.2 180.716839)scale(0.1 -0.1)\">\r\n       <defs>\r\n        <path d=\"M 10.796875 72.90625 \r\nL 49.515625 72.90625 \r\nL 49.515625 64.59375 \r\nL 19.828125 64.59375 \r\nL 19.828125 46.734375 \r\nQ 21.96875 47.46875 24.109375 47.828125 \r\nQ 26.265625 48.1875 28.421875 48.1875 \r\nQ 40.625 48.1875 47.75 41.5 \r\nQ 54.890625 34.8125 54.890625 23.390625 \r\nQ 54.890625 11.625 47.5625 5.09375 \r\nQ 40.234375 -1.421875 26.90625 -1.421875 \r\nQ 22.3125 -1.421875 17.546875 -0.640625 \r\nQ 12.796875 0.140625 7.71875 1.703125 \r\nL 7.71875 11.625 \r\nQ 12.109375 9.234375 16.796875 8.0625 \r\nQ 21.484375 6.890625 26.703125 6.890625 \r\nQ 35.15625 6.890625 40.078125 11.328125 \r\nQ 45.015625 15.765625 45.015625 23.390625 \r\nQ 45.015625 31 40.078125 35.4375 \r\nQ 35.15625 39.890625 26.703125 39.890625 \r\nQ 22.75 39.890625 18.8125 39.015625 \r\nQ 14.890625 38.140625 10.796875 36.28125 \r\nz\r\n\" id=\"DejaVuSans-53\"/>\r\n       </defs>\r\n       <use xlink:href=\"#DejaVuSans-48\"/>\r\n       <use x=\"63.623047\" xlink:href=\"#DejaVuSans-46\"/>\r\n       <use x=\"95.410156\" xlink:href=\"#DejaVuSans-50\"/>\r\n       <use x=\"159.033203\" xlink:href=\"#DejaVuSans-53\"/>\r\n      </g>\r\n     </g>\r\n    </g>\r\n    <g id=\"ytick_3\">\r\n     <g id=\"line2d_17\">\r\n      <path clip-path=\"url(#pe3d50b41a8)\" d=\"M 36.465625 147.824594 \r\nL 371.265625 147.824594 \r\n\" style=\"fill:none;stroke:#b0b0b0;stroke-linecap:square;stroke-width:0.8;\"/>\r\n     </g>\r\n     <g id=\"line2d_18\">\r\n      <g>\r\n       <use style=\"stroke:#000000;stroke-width:0.8;\" x=\"36.465625\" xlink:href=\"#ma44b8f43aa\" y=\"147.824594\"/>\r\n      </g>\r\n     </g>\r\n     <g id=\"text_9\">\r\n      <!-- 0.26 -->\r\n      <g transform=\"translate(7.2 151.623813)scale(0.1 -0.1)\">\r\n       <use xlink:href=\"#DejaVuSans-48\"/>\r\n       <use x=\"63.623047\" xlink:href=\"#DejaVuSans-46\"/>\r\n       <use x=\"95.410156\" xlink:href=\"#DejaVuSans-50\"/>\r\n       <use x=\"159.033203\" xlink:href=\"#DejaVuSans-54\"/>\r\n      </g>\r\n     </g>\r\n    </g>\r\n    <g id=\"ytick_4\">\r\n     <g id=\"line2d_19\">\r\n      <path clip-path=\"url(#pe3d50b41a8)\" d=\"M 36.465625 118.731567 \r\nL 371.265625 118.731567 \r\n\" style=\"fill:none;stroke:#b0b0b0;stroke-linecap:square;stroke-width:0.8;\"/>\r\n     </g>\r\n     <g id=\"line2d_20\">\r\n      <g>\r\n       <use style=\"stroke:#000000;stroke-width:0.8;\" x=\"36.465625\" xlink:href=\"#ma44b8f43aa\" y=\"118.731567\"/>\r\n      </g>\r\n     </g>\r\n     <g id=\"text_10\">\r\n      <!-- 0.27 -->\r\n      <g transform=\"translate(7.2 122.530786)scale(0.1 -0.1)\">\r\n       <defs>\r\n        <path d=\"M 8.203125 72.90625 \r\nL 55.078125 72.90625 \r\nL 55.078125 68.703125 \r\nL 28.609375 0 \r\nL 18.3125 0 \r\nL 43.21875 64.59375 \r\nL 8.203125 64.59375 \r\nz\r\n\" id=\"DejaVuSans-55\"/>\r\n       </defs>\r\n       <use xlink:href=\"#DejaVuSans-48\"/>\r\n       <use x=\"63.623047\" xlink:href=\"#DejaVuSans-46\"/>\r\n       <use x=\"95.410156\" xlink:href=\"#DejaVuSans-50\"/>\r\n       <use x=\"159.033203\" xlink:href=\"#DejaVuSans-55\"/>\r\n      </g>\r\n     </g>\r\n    </g>\r\n    <g id=\"ytick_5\">\r\n     <g id=\"line2d_21\">\r\n      <path clip-path=\"url(#pe3d50b41a8)\" d=\"M 36.465625 89.63854 \r\nL 371.265625 89.63854 \r\n\" style=\"fill:none;stroke:#b0b0b0;stroke-linecap:square;stroke-width:0.8;\"/>\r\n     </g>\r\n     <g id=\"line2d_22\">\r\n      <g>\r\n       <use style=\"stroke:#000000;stroke-width:0.8;\" x=\"36.465625\" xlink:href=\"#ma44b8f43aa\" y=\"89.63854\"/>\r\n      </g>\r\n     </g>\r\n     <g id=\"text_11\">\r\n      <!-- 0.28 -->\r\n      <g transform=\"translate(7.2 93.437759)scale(0.1 -0.1)\">\r\n       <use xlink:href=\"#DejaVuSans-48\"/>\r\n       <use x=\"63.623047\" xlink:href=\"#DejaVuSans-46\"/>\r\n       <use x=\"95.410156\" xlink:href=\"#DejaVuSans-50\"/>\r\n       <use x=\"159.033203\" xlink:href=\"#DejaVuSans-56\"/>\r\n      </g>\r\n     </g>\r\n    </g>\r\n    <g id=\"ytick_6\">\r\n     <g id=\"line2d_23\">\r\n      <path clip-path=\"url(#pe3d50b41a8)\" d=\"M 36.465625 60.545513 \r\nL 371.265625 60.545513 \r\n\" style=\"fill:none;stroke:#b0b0b0;stroke-linecap:square;stroke-width:0.8;\"/>\r\n     </g>\r\n     <g id=\"line2d_24\">\r\n      <g>\r\n       <use style=\"stroke:#000000;stroke-width:0.8;\" x=\"36.465625\" xlink:href=\"#ma44b8f43aa\" y=\"60.545513\"/>\r\n      </g>\r\n     </g>\r\n     <g id=\"text_12\">\r\n      <!-- 0.29 -->\r\n      <g transform=\"translate(7.2 64.344732)scale(0.1 -0.1)\">\r\n       <defs>\r\n        <path d=\"M 10.984375 1.515625 \r\nL 10.984375 10.5 \r\nQ 14.703125 8.734375 18.5 7.8125 \r\nQ 22.3125 6.890625 25.984375 6.890625 \r\nQ 35.75 6.890625 40.890625 13.453125 \r\nQ 46.046875 20.015625 46.78125 33.40625 \r\nQ 43.953125 29.203125 39.59375 26.953125 \r\nQ 35.25 24.703125 29.984375 24.703125 \r\nQ 19.046875 24.703125 12.671875 31.3125 \r\nQ 6.296875 37.9375 6.296875 49.421875 \r\nQ 6.296875 60.640625 12.9375 67.421875 \r\nQ 19.578125 74.21875 30.609375 74.21875 \r\nQ 43.265625 74.21875 49.921875 64.515625 \r\nQ 56.59375 54.828125 56.59375 36.375 \r\nQ 56.59375 19.140625 48.40625 8.859375 \r\nQ 40.234375 -1.421875 26.421875 -1.421875 \r\nQ 22.703125 -1.421875 18.890625 -0.6875 \r\nQ 15.09375 0.046875 10.984375 1.515625 \r\nz\r\nM 30.609375 32.421875 \r\nQ 37.25 32.421875 41.125 36.953125 \r\nQ 45.015625 41.5 45.015625 49.421875 \r\nQ 45.015625 57.28125 41.125 61.84375 \r\nQ 37.25 66.40625 30.609375 66.40625 \r\nQ 23.96875 66.40625 20.09375 61.84375 \r\nQ 16.21875 57.28125 16.21875 49.421875 \r\nQ 16.21875 41.5 20.09375 36.953125 \r\nQ 23.96875 32.421875 30.609375 32.421875 \r\nz\r\n\" id=\"DejaVuSans-57\"/>\r\n       </defs>\r\n       <use xlink:href=\"#DejaVuSans-48\"/>\r\n       <use x=\"63.623047\" xlink:href=\"#DejaVuSans-46\"/>\r\n       <use x=\"95.410156\" xlink:href=\"#DejaVuSans-50\"/>\r\n       <use x=\"159.033203\" xlink:href=\"#DejaVuSans-57\"/>\r\n      </g>\r\n     </g>\r\n    </g>\r\n    <g id=\"ytick_7\">\r\n     <g id=\"line2d_25\">\r\n      <path clip-path=\"url(#pe3d50b41a8)\" d=\"M 36.465625 31.452487 \r\nL 371.265625 31.452487 \r\n\" style=\"fill:none;stroke:#b0b0b0;stroke-linecap:square;stroke-width:0.8;\"/>\r\n     </g>\r\n     <g id=\"line2d_26\">\r\n      <g>\r\n       <use style=\"stroke:#000000;stroke-width:0.8;\" x=\"36.465625\" xlink:href=\"#ma44b8f43aa\" y=\"31.452487\"/>\r\n      </g>\r\n     </g>\r\n     <g id=\"text_13\">\r\n      <!-- 0.30 -->\r\n      <g transform=\"translate(7.2 35.251705)scale(0.1 -0.1)\">\r\n       <defs>\r\n        <path d=\"M 40.578125 39.3125 \r\nQ 47.65625 37.796875 51.625 33 \r\nQ 55.609375 28.21875 55.609375 21.1875 \r\nQ 55.609375 10.40625 48.1875 4.484375 \r\nQ 40.765625 -1.421875 27.09375 -1.421875 \r\nQ 22.515625 -1.421875 17.65625 -0.515625 \r\nQ 12.796875 0.390625 7.625 2.203125 \r\nL 7.625 11.71875 \r\nQ 11.71875 9.328125 16.59375 8.109375 \r\nQ 21.484375 6.890625 26.8125 6.890625 \r\nQ 36.078125 6.890625 40.9375 10.546875 \r\nQ 45.796875 14.203125 45.796875 21.1875 \r\nQ 45.796875 27.640625 41.28125 31.265625 \r\nQ 36.765625 34.90625 28.71875 34.90625 \r\nL 20.21875 34.90625 \r\nL 20.21875 43.015625 \r\nL 29.109375 43.015625 \r\nQ 36.375 43.015625 40.234375 45.921875 \r\nQ 44.09375 48.828125 44.09375 54.296875 \r\nQ 44.09375 59.90625 40.109375 62.90625 \r\nQ 36.140625 65.921875 28.71875 65.921875 \r\nQ 24.65625 65.921875 20.015625 65.03125 \r\nQ 15.375 64.15625 9.8125 62.3125 \r\nL 9.8125 71.09375 \r\nQ 15.4375 72.65625 20.34375 73.4375 \r\nQ 25.25 74.21875 29.59375 74.21875 \r\nQ 40.828125 74.21875 47.359375 69.109375 \r\nQ 53.90625 64.015625 53.90625 55.328125 \r\nQ 53.90625 49.265625 50.4375 45.09375 \r\nQ 46.96875 40.921875 40.578125 39.3125 \r\nz\r\n\" id=\"DejaVuSans-51\"/>\r\n       </defs>\r\n       <use xlink:href=\"#DejaVuSans-48\"/>\r\n       <use x=\"63.623047\" xlink:href=\"#DejaVuSans-46\"/>\r\n       <use x=\"95.410156\" xlink:href=\"#DejaVuSans-51\"/>\r\n       <use x=\"159.033203\" xlink:href=\"#DejaVuSans-48\"/>\r\n      </g>\r\n     </g>\r\n    </g>\r\n   </g>\r\n   <g id=\"line2d_27\">\r\n    <path clip-path=\"url(#pe3d50b41a8)\" d=\"M 51.683807 179.303303 \r\nL 51.988475 169.679806 \r\nL 52.293143 181.70259 \r\nL 52.597812 172.543677 \r\nL 52.90248 182.873648 \r\nL 53.207148 155.02595 \r\nL 53.511817 171.126052 \r\nL 53.816485 167.099404 \r\nL 54.121153 181.436151 \r\nL 54.425822 123.399482 \r\nL 54.73049 178.330216 \r\nL 55.035158 160.082578 \r\nL 55.339826 183.517348 \r\nL 55.644495 144.660484 \r\nL 55.949163 183.698125 \r\nL 56.253831 165.552804 \r\nL 56.5585 180.492936 \r\nL 56.863168 181.20137 \r\nL 57.167836 183.520205 \r\nL 57.472505 182.503294 \r\nL 57.777173 184.037777 \r\nL 58.081841 180.130669 \r\nL 58.38651 17.083636 \r\nL 58.691178 183.345205 \r\nL 58.995846 183.256092 \r\nL 59.300514 180.55351 \r\nL 59.605183 162.088795 \r\nL 60.214519 184.350637 \r\nL 60.519188 183.479874 \r\nL 60.823856 171.722833 \r\nL 61.128524 181.316162 \r\nL 61.433193 184.598213 \r\nL 61.737861 183.435883 \r\nL 62.042529 183.806419 \r\nL 62.347197 181.127064 \r\nL 62.651866 168.927848 \r\nL 63.261202 184.216058 \r\nL 63.565871 184.16268 \r\nL 63.870539 154.16131 \r\nL 64.175207 184.862437 \r\nL 64.479876 160.698125 \r\nL 64.784544 184.229173 \r\nL 65.089212 184.36655 \r\nL 65.393881 184.887951 \r\nL 65.698549 170.725216 \r\nL 66.003217 185.467565 \r\nL 66.307885 178.11754 \r\nL 66.612554 185.596813 \r\nL 66.917222 180.698704 \r\nL 67.22189 185.697771 \r\nL 67.526559 171.59534 \r\nL 67.831227 184.237766 \r\nL 68.135895 185.873962 \r\nL 68.440564 181.405959 \r\nL 68.745232 179.552671 \r\nL 69.0499 185.958226 \r\nL 69.354568 186.095602 \r\nL 69.659237 183.662801 \r\nL 69.963905 183.380048 \r\nL 70.268573 182.522604 \r\nL 70.573242 160.469741 \r\nL 70.87791 185.243817 \r\nL 71.182578 185.402025 \r\nL 71.487247 178.550779 \r\nL 71.791915 161.744942 \r\nL 72.096583 164.029206 \r\nL 72.401252 116.229121 \r\nL 72.70592 174.537637 \r\nL 73.010588 186.388516 \r\nL 73.315256 184.944146 \r\nL 73.619925 180.272043 \r\nL 73.924593 185.106647 \r\nL 74.229261 185.771887 \r\nL 74.838598 161.26154 \r\nL 75.143266 164.561803 \r\nL 75.447935 182.997304 \r\nL 75.752603 143.607879 \r\nL 76.057271 186.869338 \r\nL 76.361939 186.140167 \r\nL 76.666608 176.757829 \r\nL 76.971276 185.540094 \r\nL 77.275944 166.782568 \r\nL 77.580613 186.144843 \r\nL 77.885281 187.495593 \r\nL 78.189949 185.937121 \r\nL 78.494618 173.982679 \r\nL 78.799286 187.103834 \r\nL 79.103954 186.213307 \r\nL 79.408623 181.756336 \r\nL 80.017959 184.87013 \r\nL 80.322627 178.658827 \r\nL 80.627296 179.882924 \r\nL 80.931964 187.889679 \r\nL 81.236632 185.019085 \r\nL 81.541301 185.180415 \r\nL 81.845969 184.55161 \r\nL 82.150637 175.038632 \r\nL 82.455306 174.589741 \r\nL 82.759974 176.698282 \r\nL 83.064642 118.88 \r\nL 83.369311 184.151461 \r\nL 83.673979 127.129386 \r\nL 84.283315 184.489654 \r\nL 84.587984 186.291191 \r\nL 84.892652 183.905424 \r\nL 85.19732 163.023601 \r\nL 85.501989 183.90931 \r\nL 85.806657 186.980034 \r\nL 86.111325 40.223361 \r\nL 86.415994 185.07711 \r\nL 86.720662 186.774287 \r\nL 87.02533 186.04458 \r\nL 87.329998 188.36092 \r\nL 87.634667 188.437823 \r\nL 87.939335 180.667939 \r\nL 88.244003 147.326048 \r\nL 88.85334 189.120267 \r\nL 89.158008 173.730526 \r\nL 89.462677 128.085124 \r\nL 89.767345 170.515531 \r\nL 90.072013 152.983761 \r\nL 90.376682 123.462659 \r\nL 90.68135 171.063228 \r\nL 90.986018 78.129879 \r\nL 91.290686 183.992885 \r\nL 91.595355 189.553745 \r\nL 91.900023 176.76939 \r\nL 92.204691 188.621475 \r\nL 92.50936 171.6233 \r\nL 92.814028 182.218671 \r\nL 93.118696 186.556023 \r\nL 93.423365 171.621652 \r\nL 93.728033 124.759808 \r\nL 94.032701 168.968066 \r\nL 94.337369 188.815336 \r\nL 94.642038 183.975668 \r\nL 94.946706 177.218578 \r\nL 95.251374 185.455715 \r\nL 95.556043 157.111256 \r\nL 95.860711 185.807759 \r\nL 96.165379 188.852827 \r\nL 96.470048 188.596516 \r\nL 96.774716 153.206295 \r\nL 97.079384 189.195242 \r\nL 97.384053 177.851991 \r\nL 97.688721 189.840505 \r\nL 97.993389 190.636451 \r\nL 98.602726 189.619882 \r\nL 98.907394 184.293784 \r\nL 99.212062 185.397744 \r\nL 99.516731 165.396082 \r\nL 99.821399 190.904322 \r\nL 100.126067 190.888709 \r\nL 100.430736 124.190188 \r\nL 100.735404 188.011869 \r\nL 101.040072 190.821221 \r\nL 101.34474 187.062277 \r\nL 101.649409 191.11981 \r\nL 101.954077 127.016404 \r\nL 102.258745 172.338665 \r\nL 102.563414 164.545523 \r\nL 102.868082 169.419457 \r\nL 103.17275 188.394924 \r\nL 103.782087 190.935339 \r\nL 104.086755 191.488946 \r\nL 104.391424 171.66001 \r\nL 104.696092 177.217135 \r\nL 105.00076 190.759163 \r\nL 105.305428 185.166433 \r\nL 105.610097 185.583491 \r\nL 105.914765 191.387304 \r\nL 106.219433 175.762675 \r\nL 106.524102 190.592958 \r\nL 106.82877 189.242757 \r\nL 107.133438 171.562704 \r\nL 107.438107 191.119585 \r\nL 107.742775 181.644551 \r\nL 108.047443 190.57095 \r\nL 108.352111 184.426824 \r\nL 108.65678 189.276162 \r\nL 108.961448 183.055876 \r\nL 109.266116 189.972173 \r\nL 109.570785 104.295524 \r\nL 109.875453 166.574787 \r\nL 110.180121 178.985627 \r\nL 110.48479 134.097523 \r\nL 110.789458 190.894915 \r\nL 111.094126 174.341966 \r\nL 111.398795 182.560417 \r\nL 111.703463 182.526 \r\nL 112.008131 176.404269 \r\nL 112.312799 191.972673 \r\nL 112.617468 191.090159 \r\nL 112.922136 154.125838 \r\nL 113.531473 187.6211 \r\nL 113.836141 185.529469 \r\nL 114.140809 192.467047 \r\nL 114.445478 192.878498 \r\nL 114.750146 185.229778 \r\nL 115.054814 184.694431 \r\nL 115.359482 191.484722 \r\nL 115.664151 175.09734 \r\nL 115.968819 192.1451 \r\nL 116.273487 169.761672 \r\nL 116.578156 189.90459 \r\nL 116.882824 170.520535 \r\nL 117.187492 186.782609 \r\nL 117.492161 76.931611 \r\nL 117.796829 185.347207 \r\nL 118.101497 178.87809 \r\nL 118.406166 188.562613 \r\nL 118.710834 191.927923 \r\nL 119.015502 188.046 \r\nL 119.32017 191.970173 \r\nL 119.624839 150.101235 \r\nL 119.929507 192.24904 \r\nL 120.234175 192.866043 \r\nL 120.538844 190.58918 \r\nL 120.843512 193.825777 \r\nL 121.14818 183.648501 \r\nL 121.452849 187.942919 \r\nL 121.757517 190.309502 \r\nL 122.062185 180.213647 \r\nL 122.366854 193.905827 \r\nL 122.671522 194.057807 \r\nL 123.280858 191.440221 \r\nL 123.585527 120.498799 \r\nL 123.890195 193.207911 \r\nL 124.194863 177.234825 \r\nL 124.499532 190.79813 \r\nL 124.8042 193.992601 \r\nL 125.108868 185.567651 \r\nL 125.413537 189.996745 \r\nL 125.718205 175.326736 \r\nL 126.022873 194.170294 \r\nL 126.327541 193.70113 \r\nL 126.63221 107.428651 \r\nL 126.936878 187.865069 \r\nL 127.241546 192.272208 \r\nL 127.546215 194.665108 \r\nL 127.850883 190.616019 \r\nL 128.155551 194.701972 \r\nL 128.46022 185.862612 \r\nL 128.764888 181.387263 \r\nL 129.069556 194.757753 \r\nL 129.374225 191.719407 \r\nL 129.678893 191.20011 \r\nL 129.983561 191.535978 \r\nL 130.288229 180.823662 \r\nL 130.592898 192.073717 \r\nL 130.897566 191.722218 \r\nL 131.202234 192.347759 \r\nL 131.506903 194.489095 \r\nL 131.811571 194.400331 \r\nL 132.116239 157.581075 \r\nL 132.420908 194.781138 \r\nL 132.725576 195.214019 \r\nL 133.030244 190.751969 \r\nL 133.334912 127.321715 \r\nL 133.639581 192.603756 \r\nL 133.944249 194.527885 \r\nL 134.248917 194.899519 \r\nL 134.553586 194.870658 \r\nL 134.858254 176.601875 \r\nL 135.162922 191.776136 \r\nL 135.467591 185.572089 \r\nL 135.772259 187.458201 \r\nL 136.076927 186.071239 \r\nL 136.381596 195.066781 \r\nL 136.686264 195.225977 \r\nL 136.990932 195.835623 \r\nL 137.2956 184.303642 \r\nL 137.600269 195.388924 \r\nL 137.904937 194.600294 \r\nL 138.209605 168.774644 \r\nL 138.514274 196.067633 \r\nL 138.818942 194.017869 \r\nL 139.12361 193.415948 \r\nL 139.428279 196.158174 \r\nL 139.732947 194.002686 \r\nL 140.037615 193.228497 \r\nL 140.342283 196.022448 \r\nL 140.646952 190.891255 \r\nL 140.95162 188.296105 \r\nL 141.256288 195.816701 \r\nL 141.560957 66.981707 \r\nL 141.865625 195.979003 \r\nL 142.474962 139.0586 \r\nL 142.77963 159.747024 \r\nL 143.084298 196.29976 \r\nL 143.388967 170.288614 \r\nL 143.693635 175.760525 \r\nL 143.998303 168.822708 \r\nL 144.60764 196.673775 \r\nL 144.912308 195.961981 \r\nL 145.216976 192.642175 \r\nL 145.521645 196.809478 \r\nL 145.826313 194.184492 \r\nL 146.130981 111.856119 \r\nL 146.43565 189.1148 \r\nL 146.740318 196.839557 \r\nL 147.044986 197.036444 \r\nL 147.349654 196.989729 \r\nL 147.654323 184.575362 \r\nL 147.958991 195.205901 \r\nL 148.263659 193.188321 \r\nL 148.568328 180.67925 \r\nL 148.872996 195.800355 \r\nL 149.177664 196.030883 \r\nL 149.482333 192.750288 \r\nL 149.787001 194.91287 \r\nL 150.091669 187.162616 \r\nL 150.396338 188.064813 \r\nL 150.701006 148.562262 \r\nL 151.310342 197.391828 \r\nL 151.615011 197.377141 \r\nL 151.919679 173.835416 \r\nL 152.224347 195.214482 \r\nL 152.529016 197.115941 \r\nL 152.833684 197.689324 \r\nL 153.138352 137.82102 \r\nL 153.443021 125.588817 \r\nL 153.747689 193.1082 \r\nL 154.052357 193.511227 \r\nL 154.357025 163.280349 \r\nL 154.661694 183.623677 \r\nL 154.966362 195.542955 \r\nL 155.27103 195.279043 \r\nL 155.575699 197.186767 \r\nL 155.880367 198.088226 \r\nL 156.185035 186.210337 \r\nL 156.489704 190.069834 \r\nL 156.794372 196.683654 \r\nL 157.09904 198.175817 \r\nL 157.403709 194.456158 \r\nL 157.708377 197.389258 \r\nL 158.013045 192.311464 \r\nL 158.317713 197.950963 \r\nL 158.622382 194.870363 \r\nL 158.92705 196.96326 \r\nL 159.231718 153.717011 \r\nL 159.536387 190.316773 \r\nL 159.841055 198.521424 \r\nL 160.145723 166.571913 \r\nL 160.450392 198.092122 \r\nL 160.75506 196.948882 \r\nL 161.059728 197.740236 \r\nL 161.669065 168.146854 \r\nL 161.973733 192.811269 \r\nL 162.278401 190.354319 \r\nL 162.58307 169.10627 \r\nL 162.887738 191.904734 \r\nL 163.192406 193.812201 \r\nL 163.497075 190.832677 \r\nL 163.801743 191.055001 \r\nL 164.106411 171.619133 \r\nL 164.41108 193.86932 \r\nL 164.715748 198.391313 \r\nL 165.020416 195.874567 \r\nL 165.325084 195.524891 \r\nL 165.934421 184.469947 \r\nL 166.239089 196.356842 \r\nL 166.543758 195.700786 \r\nL 166.848426 191.744396 \r\nL 167.153094 198.345995 \r\nL 167.457763 184.720698 \r\nL 167.762431 195.6965 \r\nL 168.067099 197.424039 \r\nL 168.371768 197.389804 \r\nL 168.676436 199.42029 \r\nL 168.981104 129.301139 \r\nL 169.590441 199.171399 \r\nL 169.895109 112.615378 \r\nL 170.199777 197.985539 \r\nL 170.504446 182.548665 \r\nL 170.809114 199.735167 \r\nL 171.113782 170.161309 \r\nL 171.723119 194.962926 \r\nL 172.027787 193.791649 \r\nL 172.332455 199.285126 \r\nL 172.637124 199.886539 \r\nL 172.941792 199.003388 \r\nL 173.24646 195.100089 \r\nL 173.551129 199.277924 \r\nL 173.855797 194.336914 \r\nL 174.160465 194.874126 \r\nL 174.465134 199.799061 \r\nL 175.07447 169.194901 \r\nL 175.379139 200.173631 \r\nL 175.683807 197.581871 \r\nL 175.988475 192.790889 \r\nL 176.293143 191.031496 \r\nL 176.597812 191.111947 \r\nL 176.90248 197.582279 \r\nL 177.207148 193.702889 \r\nL 177.511817 196.134029 \r\nL 177.816485 197.389872 \r\nL 178.121153 160.278067 \r\nL 178.425822 195.011193 \r\nL 178.73049 192.014167 \r\nL 179.035158 199.645319 \r\nL 179.339826 175.390067 \r\nL 179.644495 196.00607 \r\nL 180.253831 200.38321 \r\nL 180.5585 200.395351 \r\nL 180.863168 198.937471 \r\nL 181.167836 200.304851 \r\nL 181.472505 196.739166 \r\nL 181.777173 198.079046 \r\nL 182.081841 198.224679 \r\nL 182.38651 196.782641 \r\nL 182.691178 105.972391 \r\nL 182.995846 187.132552 \r\nL 183.300514 181.3329 \r\nL 183.605183 200.709148 \r\nL 183.909851 197.117498 \r\nL 184.214519 201.054897 \r\nL 184.519188 179.567614 \r\nL 184.823856 198.445795 \r\nL 185.128524 180.23841 \r\nL 185.433193 181.810313 \r\nL 185.737861 178.669234 \r\nL 186.042529 198.781686 \r\nL 186.347197 198.325211 \r\nL 186.651866 180.758652 \r\nL 186.956534 197.513549 \r\nL 187.261202 193.262183 \r\nL 187.565871 201.490609 \r\nL 187.870539 179.59685 \r\nL 188.175207 201.561665 \r\nL 188.479876 190.962494 \r\nL 189.089212 201.61377 \r\nL 189.393881 155.804836 \r\nL 189.698549 198.5692 \r\nL 190.003217 187.672741 \r\nL 190.307885 201.726218 \r\nL 190.612554 196.12774 \r\nL 190.917222 201.542767 \r\nL 191.22189 177.176547 \r\nL 191.526559 193.550229 \r\nL 191.831227 201.406228 \r\nL 192.135895 192.044134 \r\nL 192.440564 194.339594 \r\nL 192.745232 182.84425 \r\nL 193.0499 194.750923 \r\nL 193.354568 66.641354 \r\nL 193.659237 201.494821 \r\nL 193.963905 199.328899 \r\nL 194.268573 188.45928 \r\nL 194.573242 202.134448 \r\nL 194.87791 201.046135 \r\nL 195.182578 200.611014 \r\nL 195.487247 194.194181 \r\nL 195.791915 202.237355 \r\nL 196.096583 200.037586 \r\nL 196.401252 199.505859 \r\nL 196.70592 202.350937 \r\nL 197.010588 197.375729 \r\nL 197.315256 200.250738 \r\nL 197.619925 201.244621 \r\nL 197.924593 195.434162 \r\nL 198.229261 183.470016 \r\nL 198.53393 201.46467 \r\nL 198.838598 200.19455 \r\nL 199.143266 161.325286 \r\nL 199.447935 198.372784 \r\nL 199.752603 202.633637 \r\nL 200.361939 188.360811 \r\nL 200.666608 202.005686 \r\nL 200.971276 199.039627 \r\nL 201.275944 177.53715 \r\nL 201.580613 198.59419 \r\nL 201.885281 177.107994 \r\nL 202.189949 167.820806 \r\nL 202.494618 202.936203 \r\nL 202.799286 173.697509 \r\nL 203.103954 194.998606 \r\nL 203.408623 202.868966 \r\nL 203.713291 131.062449 \r\nL 204.017959 200.936912 \r\nL 204.322627 199.716448 \r\nL 204.627296 193.614421 \r\nL 204.931964 202.943152 \r\nL 205.236632 160.033364 \r\nL 205.541301 167.774132 \r\nL 205.845969 197.539306 \r\nL 206.150637 203.276059 \r\nL 206.455306 197.193384 \r\nL 207.064642 202.362174 \r\nL 207.369311 181.773592 \r\nL 207.673979 185.012864 \r\nL 207.978647 203.483498 \r\nL 208.587984 175.921401 \r\nL 208.892652 202.206589 \r\nL 209.19732 192.359418 \r\nL 209.501989 201.912471 \r\nL 209.806657 189.065654 \r\nL 210.111325 170.653183 \r\nL 210.415994 203.497809 \r\nL 210.720662 192.47689 \r\nL 211.02533 152.41513 \r\nL 211.329998 195.671288 \r\nL 211.634667 202.008597 \r\nL 211.939335 192.032143 \r\nL 212.244003 200.710919 \r\nL 212.548672 191.029029 \r\nL 212.85334 203.282003 \r\nL 213.158008 169.983339 \r\nL 213.462677 203.359554 \r\nL 214.072013 184.842583 \r\nL 214.376682 201.938644 \r\nL 214.68135 168.851107 \r\nL 214.986018 181.295453 \r\nL 215.290686 182.30928 \r\nL 215.595355 196.337043 \r\nL 215.900023 202.112362 \r\nL 216.204691 185.461222 \r\nL 216.50936 188.69304 \r\nL 217.118696 201.665481 \r\nL 217.423365 202.86823 \r\nL 217.728033 195.43507 \r\nL 218.032701 195.338459 \r\nL 218.337369 203.533189 \r\nL 218.642038 204.047429 \r\nL 218.946706 203.52673 \r\nL 219.251374 201.908907 \r\nL 219.556043 192.193984 \r\nL 219.860711 203.96727 \r\nL 220.165379 204.176478 \r\nL 220.470048 203.084899 \r\nL 220.774716 180.457967 \r\nL 221.079384 196.348819 \r\nL 221.384053 199.465783 \r\nL 221.688721 176.662963 \r\nL 221.993389 203.259742 \r\nL 222.298057 204.102951 \r\nL 222.602726 187.669632 \r\nL 222.907394 204.497524 \r\nL 223.212062 204.65008 \r\nL 223.516731 199.249235 \r\nL 223.821399 198.580914 \r\nL 224.126067 203.679695 \r\nL 224.430736 204.155625 \r\nL 224.735404 187.490673 \r\nL 225.040072 191.323498 \r\nL 225.649409 204.2354 \r\nL 225.954077 196.322299 \r\nL 226.258745 204.663272 \r\nL 226.563414 119.625691 \r\nL 226.868082 204.963173 \r\nL 227.17275 203.63758 \r\nL 227.477419 179.6494 \r\nL 227.782087 203.404084 \r\nL 228.086755 194.892856 \r\nL 228.391424 205.345449 \r\nL 228.696092 182.676726 \r\nL 229.00076 205.178755 \r\nL 229.305428 204.410185 \r\nL 229.610097 205.399389 \r\nL 229.914765 205.16218 \r\nL 230.219433 199.356994 \r\nL 230.524102 204.901454 \r\nL 230.82877 173.276235 \r\nL 231.133438 180.024737 \r\nL 231.438107 178.923732 \r\nL 231.742775 204.75073 \r\nL 232.047443 196.267969 \r\nL 232.352111 205.675817 \r\nL 232.65678 200.536384 \r\nL 232.961448 182.891443 \r\nL 233.266116 191.711384 \r\nL 233.570785 205.79207 \r\nL 233.875453 200.637433 \r\nL 234.180121 205.857763 \r\nL 234.48479 205.109687 \r\nL 234.789458 195.222861 \r\nL 235.094126 196.962581 \r\nL 235.398795 205.293972 \r\nL 235.703463 205.327383 \r\nL 236.008131 202.832677 \r\nL 236.312799 205.778861 \r\nL 236.617468 205.423588 \r\nL 237.226804 195.091827 \r\nL 237.531473 196.229501 \r\nL 237.836141 171.938514 \r\nL 238.140809 199.200309 \r\nL 238.445478 206.098865 \r\nL 238.750146 206.084107 \r\nL 239.054814 132.948482 \r\nL 239.359482 203.974183 \r\nL 239.664151 190.437596 \r\nL 239.968819 205.265008 \r\nL 240.273487 205.962846 \r\nL 240.578156 198.362152 \r\nL 240.882824 200.068372 \r\nL 241.187492 197.54018 \r\nL 241.492161 206.496862 \r\nL 241.796829 202.947944 \r\nL 242.101497 188.399414 \r\nL 242.406166 205.328587 \r\nL 242.710834 206.579021 \r\nL 243.015502 202.063024 \r\nL 243.32017 187.142461 \r\nL 243.624839 205.725888 \r\nL 243.929507 206.68795 \r\nL 244.538844 205.554209 \r\nL 244.843512 206.73793 \r\nL 245.14818 194.522234 \r\nL 245.452849 197.026471 \r\nL 245.757517 175.435111 \r\nL 246.062185 205.598571 \r\nL 246.366854 206.606773 \r\nL 246.671522 206.615866 \r\nL 246.97619 181.058559 \r\nL 247.280858 206.268966 \r\nL 247.585527 206.550544 \r\nL 247.890195 206.096235 \r\nL 248.194863 201.437549 \r\nL 248.8042 206.484295 \r\nL 249.108868 204.700869 \r\nL 249.413537 207.037996 \r\nL 249.718205 202.117806 \r\nL 250.022873 201.114349 \r\nL 250.327541 206.151342 \r\nL 250.63221 118.909785 \r\nL 250.936878 203.277557 \r\nL 251.241546 201.735371 \r\nL 251.546215 199.295917 \r\nL 251.850883 188.889666 \r\nL 252.155551 200.191843 \r\nL 252.46022 205.688839 \r\nL 252.764888 207.373336 \r\nL 253.069556 198.670706 \r\nL 253.374225 206.089673 \r\nL 253.678893 202.11341 \r\nL 253.983561 205.801399 \r\nL 254.288229 196.600037 \r\nL 254.592898 207.551481 \r\nL 254.897566 184.241328 \r\nL 255.202234 207.501385 \r\nL 255.506903 203.978714 \r\nL 255.811571 207.575371 \r\nL 256.116239 205.920842 \r\nL 256.420908 202.322057 \r\nL 256.725576 195.567178 \r\nL 257.030244 206.17861 \r\nL 257.639581 194.688879 \r\nL 257.944249 206.782138 \r\nL 258.248917 207.29292 \r\nL 258.553586 202.483092 \r\nL 258.858254 206.623026 \r\nL 259.162922 133.223231 \r\nL 259.467591 206.171622 \r\nL 259.772259 185.267573 \r\nL 260.076927 203.517146 \r\nL 260.381596 207.570056 \r\nL 260.686264 207.967256 \r\nL 260.990932 202.521099 \r\nL 261.600269 208.064345 \r\nL 261.904937 176.512245 \r\nL 262.209605 204.937581 \r\nL 262.514274 197.761348 \r\nL 262.818942 175.748385 \r\nL 263.12361 199.125362 \r\nL 263.428279 206.991425 \r\nL 263.732947 128.072868 \r\nL 264.037615 205.541461 \r\nL 264.342283 202.351445 \r\nL 264.646952 178.167374 \r\nL 264.95162 206.937467 \r\nL 265.256288 202.644751 \r\nL 265.560957 184.320557 \r\nL 266.170293 207.97762 \r\nL 266.474962 197.09056 \r\nL 266.77963 171.725711 \r\nL 267.084298 207.486193 \r\nL 267.388967 198.96108 \r\nL 267.693635 207.741447 \r\nL 267.998303 205.568326 \r\nL 268.302971 191.055714 \r\nL 268.60764 195.338218 \r\nL 268.912308 184.109508 \r\nL 269.216976 202.48424 \r\nL 269.521645 195.356325 \r\nL 269.826313 185.489528 \r\nL 270.130981 114.605901 \r\nL 270.43565 183.18383 \r\nL 270.740318 198.550777 \r\nL 271.044986 199.593461 \r\nL 271.349654 202.953595 \r\nL 271.654323 194.164254 \r\nL 271.958991 207.891258 \r\nL 272.263659 198.583945 \r\nL 272.568328 199.922021 \r\nL 272.872996 207.647119 \r\nL 273.177664 208.946724 \r\nL 273.482333 194.3517 \r\nL 273.787001 131.182663 \r\nL 274.091669 204.904561 \r\nL 274.396338 198.572621 \r\nL 274.701006 205.666408 \r\nL 275.005674 208.193962 \r\nL 275.310342 207.704964 \r\nL 275.615011 188.527666 \r\nL 275.919679 196.756779 \r\nL 276.224347 209.293866 \r\nL 276.529016 204.841132 \r\nL 276.833684 190.094585 \r\nL 277.138352 206.745697 \r\nL 277.443021 185.095032 \r\nL 277.747689 208.72903 \r\nL 278.052357 207.298467 \r\nL 278.357025 204.235341 \r\nL 278.661694 207.473545 \r\nL 278.966362 208.712266 \r\nL 279.27103 209.441405 \r\nL 279.575699 209.357048 \r\nL 279.880367 202.160536 \r\nL 280.185035 205.604983 \r\nL 280.489704 205.597857 \r\nL 280.794372 204.92006 \r\nL 281.09904 208.670429 \r\nL 281.403709 201.848524 \r\nL 281.708377 203.307733 \r\nL 282.013045 209.738856 \r\nL 282.317713 186.977634 \r\nL 282.622382 189.248274 \r\nL 283.231718 207.663428 \r\nL 283.536387 207.028738 \r\nL 283.841055 184.538137 \r\nL 284.145723 208.750492 \r\nL 284.450392 209.771065 \r\nL 284.75506 209.890692 \r\nL 285.059728 139.093315 \r\nL 285.364396 184.913147 \r\nL 285.669065 210.010165 \r\nL 285.973733 206.41821 \r\nL 286.278401 196.102837 \r\nL 286.58307 203.123914 \r\nL 287.192406 208.446891 \r\nL 287.497075 188.355828 \r\nL 287.801743 113.963198 \r\nL 288.106411 202.219811 \r\nL 288.41108 194.540769 \r\nL 288.715748 209.698645 \r\nL 289.020416 185.390138 \r\nL 289.325084 208.923036 \r\nL 289.934421 194.653438 \r\nL 290.239089 186.863973 \r\nL 290.543758 192.55095 \r\nL 290.848426 208.452445 \r\nL 291.153094 191.880475 \r\nL 291.457763 209.681981 \r\nL 291.762431 210.232072 \r\nL 292.067099 210.41995 \r\nL 292.371768 201.139928 \r\nL 292.676436 201.532516 \r\nL 292.981104 209.455363 \r\nL 293.590441 199.774801 \r\nL 293.895109 207.322708 \r\nL 294.199777 208.152897 \r\nL 294.504446 208.56842 \r\nL 294.809114 210.24588 \r\nL 295.113782 208.915766 \r\nL 295.418451 184.469784 \r\nL 295.723119 205.177763 \r\nL 296.027787 192.053937 \r\nL 296.332455 206.565619 \r\nL 296.637124 185.057312 \r\nL 296.941792 192.684527 \r\nL 297.24646 210.854691 \r\nL 297.551129 170.955916 \r\nL 297.855797 206.647394 \r\nL 298.160465 205.353223 \r\nL 298.465134 210.617488 \r\nL 298.769802 200.145586 \r\nL 299.07447 210.388232 \r\nL 299.379139 210.397737 \r\nL 299.683807 206.057752 \r\nL 299.988475 194.663656 \r\nL 300.293143 207.07806 \r\nL 300.597812 190.230075 \r\nL 300.90248 208.231354 \r\nL 301.207148 210.068394 \r\nL 301.511817 211.04721 \r\nL 301.816485 206.40386 \r\nL 302.121153 204.479819 \r\nL 302.425822 177.399571 \r\nL 302.73049 211.275558 \r\nL 303.035158 199.881931 \r\nL 303.339826 210.826903 \r\nL 303.644495 211.267044 \r\nL 303.949163 209.468282 \r\nL 304.253831 210.949979 \r\nL 304.5585 209.530096 \r\nL 304.863168 209.930086 \r\nL 305.167836 193.959859 \r\nL 305.472505 207.608272 \r\nL 305.777173 209.655484 \r\nL 306.081841 205.87701 \r\nL 306.38651 166.545166 \r\nL 306.691178 204.308612 \r\nL 306.995846 202.844771 \r\nL 307.300514 197.17224 \r\nL 307.605183 210.862388 \r\nL 307.909851 181.94297 \r\nL 308.214519 210.1073 \r\nL 308.519188 210.691089 \r\nL 308.823856 196.021489 \r\nL 309.128524 201.799313 \r\nL 309.433193 176.795876 \r\nL 309.737861 210.476573 \r\nL 310.042529 207.771966 \r\nL 310.347197 207.040419 \r\nL 310.651866 206.600632 \r\nL 310.956534 210.826529 \r\nL 311.261202 200.759325 \r\nL 311.565871 202.594514 \r\nL 311.870539 211.24263 \r\nL 312.175207 198.198241 \r\nL 312.479876 210.795816 \r\nL 312.784544 199.038501 \r\nL 313.089212 211.810148 \r\nL 313.393881 198.798429 \r\nL 313.698549 208.562851 \r\nL 314.003217 211.97166 \r\nL 314.307885 205.269654 \r\nL 314.612554 208.502737 \r\nL 314.917222 191.7373 \r\nL 315.22189 211.759632 \r\nL 315.831227 204.624461 \r\nL 316.135895 197.607086 \r\nL 316.440564 209.656952 \r\nL 316.745232 211.663912 \r\nL 317.0499 199.778343 \r\nL 317.354568 195.858016 \r\nL 317.659237 211.710294 \r\nL 317.963905 211.696758 \r\nL 318.268573 204.098022 \r\nL 318.573242 139.3743 \r\nL 318.87791 160.471378 \r\nL 319.182578 209.537315 \r\nL 319.487247 206.144374 \r\nL 320.096583 174.665843 \r\nL 320.401252 212.466764 \r\nL 320.70592 201.766957 \r\nL 321.010588 197.915284 \r\nL 321.315256 212.36149 \r\nL 321.619925 208.200875 \r\nL 321.924593 210.959101 \r\nL 322.229261 206.509354 \r\nL 322.53393 212.312134 \r\nL 322.838598 212.524257 \r\nL 323.143266 211.766381 \r\nL 323.447935 204.575491 \r\nL 323.752603 201.891551 \r\nL 324.057271 209.148389 \r\nL 324.361939 199.468373 \r\nL 324.666608 198.295705 \r\nL 324.971276 198.796909 \r\nL 325.275944 197.762968 \r\nL 325.580613 190.527847 \r\nL 325.885281 212.837584 \r\nL 326.494618 206.366226 \r\nL 326.799286 205.482214 \r\nL 327.103954 208.577018 \r\nL 327.408623 207.789111 \r\nL 327.713291 208.174547 \r\nL 328.017959 212.999557 \r\nL 328.322627 193.301272 \r\nL 328.627296 197.516618 \r\nL 328.931964 212.734748 \r\nL 329.236632 178.233866 \r\nL 329.541301 211.187957 \r\nL 329.845969 212.331426 \r\nL 330.150637 207.478209 \r\nL 330.759974 213.156457 \r\nL 331.064642 208.354852 \r\nL 331.369311 201.021059 \r\nL 331.673979 211.218363 \r\nL 331.978647 211.818362 \r\nL 332.283315 85.353443 \r\nL 332.587984 210.464547 \r\nL 332.892652 212.018394 \r\nL 333.19732 208.904403 \r\nL 333.501989 209.939898 \r\nL 333.806657 212.694708 \r\nL 334.111325 212.996079 \r\nL 334.415994 203.579291 \r\nL 334.720662 212.097458 \r\nL 335.02533 167.516943 \r\nL 335.329998 213.12397 \r\nL 335.634667 194.972001 \r\nL 335.939335 213.454347 \r\nL 336.244003 203.096883 \r\nL 336.548672 213.514463 \r\nL 337.158008 199.588407 \r\nL 337.462677 213.562106 \r\nL 337.767345 213.229399 \r\nL 338.072013 209.920551 \r\nL 338.376682 211.289485 \r\nL 338.986018 201.471739 \r\nL 339.290686 213.814417 \r\nL 339.595355 205.322927 \r\nL 339.900023 177.504763 \r\nL 340.204691 197.565169 \r\nL 340.50936 196.95011 \r\nL 340.814028 213.871402 \r\nL 341.118696 202.981274 \r\nL 341.423365 213.517943 \r\nL 341.728033 199.579456 \r\nL 342.032701 213.193391 \r\nL 342.337369 212.71805 \r\nL 342.642038 212.657297 \r\nL 342.946706 213.170587 \r\nL 343.251374 209.384768 \r\nL 343.556043 213.675991 \r\nL 343.860711 143.799586 \r\nL 344.165379 213.675108 \r\nL 344.470048 213.677059 \r\nL 344.774716 205.895371 \r\nL 345.079384 207.29383 \r\nL 345.688721 213.540669 \r\nL 345.993389 197.376435 \r\nL 346.298057 214.130103 \r\nL 346.602726 211.469039 \r\nL 346.907394 213.017468 \r\nL 347.212062 188.53154 \r\nL 347.516731 214.280056 \r\nL 347.821399 197.6591 \r\nL 348.126067 158.236999 \r\nL 348.430736 203.255247 \r\nL 348.735404 211.142108 \r\nL 349.040072 189.347256 \r\nL 349.34474 211.342211 \r\nL 349.649409 152.084711 \r\nL 349.954077 198.169687 \r\nL 350.258745 204.020654 \r\nL 350.563414 214.469814 \r\nL 350.868082 190.001008 \r\nL 351.17275 210.610823 \r\nL 351.477419 213.922988 \r\nL 351.782087 213.646894 \r\nL 352.086755 162.354578 \r\nL 352.391424 212.820225 \r\nL 352.696092 211.256384 \r\nL 353.00076 210.726847 \r\nL 353.305428 213.141451 \r\nL 353.610097 209.667278 \r\nL 353.914765 214.756364 \r\nL 354.219433 214.739819 \r\nL 354.524102 166.335095 \r\nL 355.133438 213.461636 \r\nL 355.438107 210.188515 \r\nL 355.742775 211.272862 \r\nL 356.047443 210.864498 \r\nL 356.047443 210.864498 \r\n\" style=\"fill:none;stroke:#0000ff;stroke-linecap:square;stroke-width:1.5;\"/>\r\n   </g>\r\n   <g id=\"patch_3\">\r\n    <path d=\"M 36.465625 224.64 \r\nL 36.465625 7.2 \r\n\" style=\"fill:none;stroke:#000000;stroke-linecap:square;stroke-linejoin:miter;stroke-width:0.8;\"/>\r\n   </g>\r\n   <g id=\"patch_4\">\r\n    <path d=\"M 371.265625 224.64 \r\nL 371.265625 7.2 \r\n\" style=\"fill:none;stroke:#000000;stroke-linecap:square;stroke-linejoin:miter;stroke-width:0.8;\"/>\r\n   </g>\r\n   <g id=\"patch_5\">\r\n    <path d=\"M 36.465625 224.64 \r\nL 371.265625 224.64 \r\n\" style=\"fill:none;stroke:#000000;stroke-linecap:square;stroke-linejoin:miter;stroke-width:0.8;\"/>\r\n   </g>\r\n   <g id=\"patch_6\">\r\n    <path d=\"M 36.465625 7.2 \r\nL 371.265625 7.2 \r\n\" style=\"fill:none;stroke:#000000;stroke-linecap:square;stroke-linejoin:miter;stroke-width:0.8;\"/>\r\n   </g>\r\n  </g>\r\n </g>\r\n <defs>\r\n  <clipPath id=\"pe3d50b41a8\">\r\n   <rect height=\"217.44\" width=\"334.8\" x=\"36.465625\" y=\"7.2\"/>\r\n  </clipPath>\r\n </defs>\r\n</svg>\r\n",
      "image/png": "[encoded data removed]"
     },
     "metadata": {
      "needs_background": "light"
     }
    }
   ],
   "source": [
    "plt.plot(np.arange(n_iter),j_mini,\"b-\")\n",
    "plt.grid(True)\n",
    "plt.show()"
   ]
  },
  {
   "cell_type": "code",
   "execution_count": 142,
   "metadata": {},
   "outputs": [
    {
     "output_type": "execute_result",
     "data": {
      "text/plain": [
       "[5.5444409854804775,\n",
       " 5.792725122481026,\n",
       " 5.419680167492104,\n",
       " 5.602177514470325,\n",
       " 5.44668320046923,\n",
       " 5.855827487556756,\n",
       " 5.769758425081852,\n",
       " 5.668612860606721,\n",
       " 5.668612860606721,\n",
       " 5.812672553027435]"
      ]
     },
     "metadata": {},
     "execution_count": 142
    }
   ],
   "source": [
    "prediction_mini_des = []\n",
    "\n",
    "for i in range(len(x_test)):\n",
    "    prediction_mini_des.append(prediction_raw(theta_mini, x_test, i))\n",
    "prediction_mini_des[:10]"
   ]
  },
  {
   "cell_type": "code",
   "execution_count": 143,
   "metadata": {},
   "outputs": [
    {
     "output_type": "execute_result",
     "data": {
      "text/plain": [
       "array([[5.72234168],\n",
       "       [5.67508873],\n",
       "       [5.38668875],\n",
       "       [5.8991857 ],\n",
       "       [5.84838829],\n",
       "       [6.60509892],\n",
       "       [6.37785715],\n",
       "       [5.68674151],\n",
       "       [5.68674151],\n",
       "       [5.65741127]])"
      ]
     },
     "metadata": {},
     "execution_count": 143
    }
   ],
   "source": [
    " predictions = lm.predict(x_test)\n",
    " predictions[:10]"
   ]
  },
  {
   "cell_type": "code",
   "execution_count": null,
   "metadata": {},
   "outputs": [],
   "source": []
  }
 ]
}